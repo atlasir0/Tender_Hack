{
 "cells": [
  {
   "cell_type": "code",
   "execution_count": 1,
   "id": "40e06846-3706-4a30-8da0-bde4086da762",
   "metadata": {},
   "outputs": [
    {
     "name": "stderr",
     "output_type": "stream",
     "text": [
      "[nltk_data] Downloading package stopwords to\n",
      "[nltk_data]     /Users/alsukurmakaeva/nltk_data...\n",
      "[nltk_data]   Package stopwords is already up-to-date!\n"
     ]
    }
   ],
   "source": [
    "import pandas as pd\n",
    "import numpy as np\n",
    "import pickle\n",
    "import missingno as msno\n",
    "import matplotlib.pyplot as plt\n",
    "\n",
    "import re\n",
    "import nltk\n",
    "from nltk.corpus import stopwords\n",
    "nltk.download('stopwords')\n",
    "\n",
    "import warnings\n",
    "warnings.filterwarnings('ignore')\n",
    "\n",
    "from sklearn.cluster import KMeans\n",
    "from sklearn.cluster import MiniBatchKMeans\n",
    "from sklearn.feature_extraction.text import TfidfVectorizer\n",
    "import matplotlib.pyplot as plt"
   ]
  },
  {
   "cell_type": "code",
   "execution_count": 2,
   "id": "2d97aef2-b4e7-4761-b7c9-54c844ac78bf",
   "metadata": {},
   "outputs": [],
   "source": [
    "df = pd.read_excel('logs.xlsx')"
   ]
  },
  {
   "cell_type": "code",
   "execution_count": 3,
   "id": "6fc49f00-473d-4f85-aac0-de4a61b61002",
   "metadata": {},
   "outputs": [
    {
     "data": {
      "text/html": [
       "<div>\n",
       "<style scoped>\n",
       "    .dataframe tbody tr th:only-of-type {\n",
       "        vertical-align: middle;\n",
       "    }\n",
       "\n",
       "    .dataframe tbody tr th {\n",
       "        vertical-align: top;\n",
       "    }\n",
       "\n",
       "    .dataframe thead th {\n",
       "        text-align: right;\n",
       "    }\n",
       "</style>\n",
       "<table border=\"1\" class=\"dataframe\">\n",
       "  <thead>\n",
       "    <tr style=\"text-align: right;\">\n",
       "      <th></th>\n",
       "      <th>id</th>\n",
       "      <th>create_date</th>\n",
       "      <th>log</th>\n",
       "    </tr>\n",
       "  </thead>\n",
       "  <tbody>\n",
       "    <tr>\n",
       "      <th>0</th>\n",
       "      <td>6424198940e01f33f8b596fa9fe7391c</td>\n",
       "      <td>2023-10-09 00:00:01</td>\n",
       "      <td>Unable to get integration token</td>\n",
       "    </tr>\n",
       "    <tr>\n",
       "      <th>1</th>\n",
       "      <td>9851574021c269d401accc3a1381259a</td>\n",
       "      <td>2023-10-09 00:00:02</td>\n",
       "      <td>Unable to get integration token</td>\n",
       "    </tr>\n",
       "    <tr>\n",
       "      <th>2</th>\n",
       "      <td>35f4f5fc4fdd12717347c2064729930e</td>\n",
       "      <td>2023-10-09 00:00:02</td>\n",
       "      <td>Unable to get integration token</td>\n",
       "    </tr>\n",
       "    <tr>\n",
       "      <th>3</th>\n",
       "      <td>49f9dc2cb58ab8db9f59b2487fbe0768</td>\n",
       "      <td>2023-10-09 00:00:02</td>\n",
       "      <td>Unable to get integration token</td>\n",
       "    </tr>\n",
       "    <tr>\n",
       "      <th>4</th>\n",
       "      <td>4f4830735dfc264fb40d1424e3e02bb2</td>\n",
       "      <td>2023-10-09 00:00:08</td>\n",
       "      <td>Pp3.Contracts.Dto.Contract.Action.ContractActi...</td>\n",
       "    </tr>\n",
       "    <tr>\n",
       "      <th>5</th>\n",
       "      <td>c3a26e908605084180b05f77c367a8a0</td>\n",
       "      <td>2023-10-09 00:00:09</td>\n",
       "      <td>Unable to process OnFlushDirty interceptors</td>\n",
       "    </tr>\n",
       "    <tr>\n",
       "      <th>6</th>\n",
       "      <td>adcef5d317057946bac2ee0a390874d1</td>\n",
       "      <td>2023-10-09 00:00:09</td>\n",
       "      <td>Ошибка обработки запроса на регистрацию/измене...</td>\n",
       "    </tr>\n",
       "    <tr>\n",
       "      <th>7</th>\n",
       "      <td>c3a26e908605084180b05f77c367a8a0</td>\n",
       "      <td>2023-10-09 00:00:09</td>\n",
       "      <td>System.InvalidOperationException: У прямой зак...</td>\n",
       "    </tr>\n",
       "    <tr>\n",
       "      <th>8</th>\n",
       "      <td>c3a26e908605084180b05f77c367a8a0</td>\n",
       "      <td>2023-10-09 00:00:09</td>\n",
       "      <td>Execution error, job: Granit.Cssp.Jobs.Purchas...</td>\n",
       "    </tr>\n",
       "    <tr>\n",
       "      <th>9</th>\n",
       "      <td>4f4830735dfc264fb40d1424e3e02bb2</td>\n",
       "      <td>2023-10-09 00:00:09</td>\n",
       "      <td>Pp3.Contracts.Dto.Contract.Action.ContractActi...</td>\n",
       "    </tr>\n",
       "  </tbody>\n",
       "</table>\n",
       "</div>"
      ],
      "text/plain": [
       "                                 id          create_date  \\\n",
       "0  6424198940e01f33f8b596fa9fe7391c  2023-10-09 00:00:01   \n",
       "1  9851574021c269d401accc3a1381259a  2023-10-09 00:00:02   \n",
       "2  35f4f5fc4fdd12717347c2064729930e  2023-10-09 00:00:02   \n",
       "3  49f9dc2cb58ab8db9f59b2487fbe0768  2023-10-09 00:00:02   \n",
       "4  4f4830735dfc264fb40d1424e3e02bb2  2023-10-09 00:00:08   \n",
       "5  c3a26e908605084180b05f77c367a8a0  2023-10-09 00:00:09   \n",
       "6  adcef5d317057946bac2ee0a390874d1  2023-10-09 00:00:09   \n",
       "7  c3a26e908605084180b05f77c367a8a0  2023-10-09 00:00:09   \n",
       "8  c3a26e908605084180b05f77c367a8a0  2023-10-09 00:00:09   \n",
       "9  4f4830735dfc264fb40d1424e3e02bb2  2023-10-09 00:00:09   \n",
       "\n",
       "                                                 log  \n",
       "0                    Unable to get integration token  \n",
       "1                    Unable to get integration token  \n",
       "2                    Unable to get integration token  \n",
       "3                    Unable to get integration token  \n",
       "4  Pp3.Contracts.Dto.Contract.Action.ContractActi...  \n",
       "5        Unable to process OnFlushDirty interceptors  \n",
       "6  Ошибка обработки запроса на регистрацию/измене...  \n",
       "7  System.InvalidOperationException: У прямой зак...  \n",
       "8  Execution error, job: Granit.Cssp.Jobs.Purchas...  \n",
       "9  Pp3.Contracts.Dto.Contract.Action.ContractActi...  "
      ]
     },
     "execution_count": 3,
     "metadata": {},
     "output_type": "execute_result"
    }
   ],
   "source": [
    "df.head(10)"
   ]
  },
  {
   "cell_type": "markdown",
   "id": "4eacf7a6-3941-43f1-9535-0f4b1eb7074e",
   "metadata": {},
   "source": [
    "# Data preporation"
   ]
  },
  {
   "cell_type": "markdown",
   "id": "274c5fd7-c195-4616-b66e-02a9ad0508eb",
   "metadata": {},
   "source": [
    "### Количество уникальных логов"
   ]
  },
  {
   "cell_type": "code",
   "execution_count": 4,
   "id": "19407be8-8c0c-4498-b8f0-d60552e4491a",
   "metadata": {},
   "outputs": [
    {
     "data": {
      "text/plain": [
       "50393"
      ]
     },
     "execution_count": 4,
     "metadata": {},
     "output_type": "execute_result"
    }
   ],
   "source": [
    "df.log.nunique()"
   ]
  },
  {
   "cell_type": "markdown",
   "id": "8835df51-2c42-4a0b-baba-84fee94c257e",
   "metadata": {},
   "source": [
    "### Количество слов в логах"
   ]
  },
  {
   "cell_type": "code",
   "execution_count": 5,
   "id": "d4682cd7-54e6-4c2e-9613-20569a7024d3",
   "metadata": {},
   "outputs": [],
   "source": [
    "df['len_logs'] = df['log'].apply(lambda x: len(x.split(' ')))"
   ]
  },
  {
   "cell_type": "code",
   "execution_count": 6,
   "id": "d860a40d-31c5-4686-87a5-2d9388a74d28",
   "metadata": {},
   "outputs": [
    {
     "data": {
      "text/html": [
       "<div>\n",
       "<style scoped>\n",
       "    .dataframe tbody tr th:only-of-type {\n",
       "        vertical-align: middle;\n",
       "    }\n",
       "\n",
       "    .dataframe tbody tr th {\n",
       "        vertical-align: top;\n",
       "    }\n",
       "\n",
       "    .dataframe thead th {\n",
       "        text-align: right;\n",
       "    }\n",
       "</style>\n",
       "<table border=\"1\" class=\"dataframe\">\n",
       "  <thead>\n",
       "    <tr style=\"text-align: right;\">\n",
       "      <th></th>\n",
       "      <th>id</th>\n",
       "      <th>create_date</th>\n",
       "      <th>log</th>\n",
       "      <th>len_logs</th>\n",
       "    </tr>\n",
       "  </thead>\n",
       "  <tbody>\n",
       "    <tr>\n",
       "      <th>0</th>\n",
       "      <td>6424198940e01f33f8b596fa9fe7391c</td>\n",
       "      <td>2023-10-09 00:00:01</td>\n",
       "      <td>Unable to get integration token</td>\n",
       "      <td>5</td>\n",
       "    </tr>\n",
       "    <tr>\n",
       "      <th>1</th>\n",
       "      <td>9851574021c269d401accc3a1381259a</td>\n",
       "      <td>2023-10-09 00:00:02</td>\n",
       "      <td>Unable to get integration token</td>\n",
       "      <td>5</td>\n",
       "    </tr>\n",
       "    <tr>\n",
       "      <th>2</th>\n",
       "      <td>35f4f5fc4fdd12717347c2064729930e</td>\n",
       "      <td>2023-10-09 00:00:02</td>\n",
       "      <td>Unable to get integration token</td>\n",
       "      <td>5</td>\n",
       "    </tr>\n",
       "    <tr>\n",
       "      <th>3</th>\n",
       "      <td>49f9dc2cb58ab8db9f59b2487fbe0768</td>\n",
       "      <td>2023-10-09 00:00:02</td>\n",
       "      <td>Unable to get integration token</td>\n",
       "      <td>5</td>\n",
       "    </tr>\n",
       "    <tr>\n",
       "      <th>4</th>\n",
       "      <td>4f4830735dfc264fb40d1424e3e02bb2</td>\n",
       "      <td>2023-10-09 00:00:08</td>\n",
       "      <td>Pp3.Contracts.Dto.Contract.Action.ContractActi...</td>\n",
       "      <td>7</td>\n",
       "    </tr>\n",
       "  </tbody>\n",
       "</table>\n",
       "</div>"
      ],
      "text/plain": [
       "                                 id          create_date  \\\n",
       "0  6424198940e01f33f8b596fa9fe7391c  2023-10-09 00:00:01   \n",
       "1  9851574021c269d401accc3a1381259a  2023-10-09 00:00:02   \n",
       "2  35f4f5fc4fdd12717347c2064729930e  2023-10-09 00:00:02   \n",
       "3  49f9dc2cb58ab8db9f59b2487fbe0768  2023-10-09 00:00:02   \n",
       "4  4f4830735dfc264fb40d1424e3e02bb2  2023-10-09 00:00:08   \n",
       "\n",
       "                                                 log  len_logs  \n",
       "0                    Unable to get integration token         5  \n",
       "1                    Unable to get integration token         5  \n",
       "2                    Unable to get integration token         5  \n",
       "3                    Unable to get integration token         5  \n",
       "4  Pp3.Contracts.Dto.Contract.Action.ContractActi...         7  "
      ]
     },
     "execution_count": 6,
     "metadata": {},
     "output_type": "execute_result"
    }
   ],
   "source": [
    "df.head()"
   ]
  },
  {
   "cell_type": "code",
   "execution_count": 7,
   "id": "d8b3fc8f-8676-428e-bb3b-a439c6656aee",
   "metadata": {},
   "outputs": [
    {
     "data": {
      "text/plain": [
       "123"
      ]
     },
     "execution_count": 7,
     "metadata": {},
     "output_type": "execute_result"
    }
   ],
   "source": [
    "df.len_logs.nunique()"
   ]
  },
  {
   "cell_type": "markdown",
   "id": "f77d43bc-254a-4eb8-b193-b971dd09ea12",
   "metadata": {},
   "source": [
    "### Наличие пропусков"
   ]
  },
  {
   "cell_type": "code",
   "execution_count": 8,
   "id": "94e90eac-2e9e-476d-acbb-656092b8061b",
   "metadata": {},
   "outputs": [
    {
     "data": {
      "text/plain": [
       "<AxesSubplot: >"
      ]
     },
     "execution_count": 8,
     "metadata": {},
     "output_type": "execute_result"
    },
    {
     "data": {
      "image/png": "[encoded data removed]",
      "text/plain": [
       "<Figure size 1800x720 with 3 Axes>"
      ]
     },
     "metadata": {
      "needs_background": "light"
     },
     "output_type": "display_data"
    }
   ],
   "source": [
    "msno.bar(df)"
   ]
  },
  {
   "cell_type": "markdown",
   "id": "0200e928-5700-46ef-8f63-21252921e2a5",
   "metadata": {},
   "source": [
    "### Обработка логов"
   ]
  },
  {
   "cell_type": "markdown",
   "id": "965ce4ed-eb31-4fba-be82-9ab7c3f86fa6",
   "metadata": {},
   "source": [
    "Проделаны следующие шаги:\n",
    "- удалены ссылки\n",
    "- текст приведен к нижнему регистру\n",
    "- удалены лишние пробелы\n",
    "- удалены неинформативные слова (стоп слова)"
   ]
  },
  {
   "cell_type": "code",
   "execution_count": 9,
   "id": "e5bd8d80-a61c-4a46-9811-dc28d78436df",
   "metadata": {},
   "outputs": [],
   "source": [
    "data = df"
   ]
  },
  {
   "cell_type": "code",
   "execution_count": 10,
   "id": "a0d82f5f-d924-4875-94af-6bcc1a0f2be6",
   "metadata": {},
   "outputs": [],
   "source": [
    "def text_without_url(text):\n",
    "    return re.sub(r'http\\S+', '', text)\n",
    "\n",
    "def text_lowercase(text):\n",
    "    return text.lower()\n",
    "\n",
    "def remove_punctuation(text):\n",
    "    res = re.sub(r'[^\\w\\s]', ' ', text)\n",
    "    return res\n",
    "\n",
    "def remove_whitespace(text):\n",
    "    return  \" \".join(text.split())\n",
    "\n",
    "eng_stop_words = set(stopwords.words('english') + stopwords.words('russian'))\n",
    "def remove_stopwords(text):\n",
    "    stop_words = eng_stop_words\n",
    "    filtered_text = [word for word in text.split(' ') if word not in stop_words] #after emogi\n",
    "    return \" \".join(filtered_text)\n"
   ]
  },
  {
   "cell_type": "code",
   "execution_count": 11,
   "id": "7b9bd049-13da-42b2-8cb1-80447f1f13c9",
   "metadata": {},
   "outputs": [],
   "source": [
    "data['log'] = data['log'].apply(lambda x: text_without_url(x))\n",
    "data['log'] = data['log'].apply(lambda x: text_lowercase(x))\n",
    "data['log'] = data['log'].apply(lambda x: remove_punctuation(x))\n",
    "data['log'] = data['log'].apply(lambda x: remove_whitespace(x))\n",
    "data['log'] = data['log'].apply(lambda x: remove_stopwords(x))"
   ]
  },
  {
   "cell_type": "code",
   "execution_count": 12,
   "id": "3168ad98-5bbd-4376-821d-ad17073e4564",
   "metadata": {},
   "outputs": [
    {
     "data": {
      "text/html": [
       "<div>\n",
       "<style scoped>\n",
       "    .dataframe tbody tr th:only-of-type {\n",
       "        vertical-align: middle;\n",
       "    }\n",
       "\n",
       "    .dataframe tbody tr th {\n",
       "        vertical-align: top;\n",
       "    }\n",
       "\n",
       "    .dataframe thead th {\n",
       "        text-align: right;\n",
       "    }\n",
       "</style>\n",
       "<table border=\"1\" class=\"dataframe\">\n",
       "  <thead>\n",
       "    <tr style=\"text-align: right;\">\n",
       "      <th></th>\n",
       "      <th>id</th>\n",
       "      <th>create_date</th>\n",
       "      <th>log</th>\n",
       "      <th>len_logs</th>\n",
       "    </tr>\n",
       "  </thead>\n",
       "  <tbody>\n",
       "    <tr>\n",
       "      <th>0</th>\n",
       "      <td>6424198940e01f33f8b596fa9fe7391c</td>\n",
       "      <td>2023-10-09 00:00:01</td>\n",
       "      <td>unable get integration token</td>\n",
       "      <td>5</td>\n",
       "    </tr>\n",
       "    <tr>\n",
       "      <th>1</th>\n",
       "      <td>9851574021c269d401accc3a1381259a</td>\n",
       "      <td>2023-10-09 00:00:02</td>\n",
       "      <td>unable get integration token</td>\n",
       "      <td>5</td>\n",
       "    </tr>\n",
       "    <tr>\n",
       "      <th>2</th>\n",
       "      <td>35f4f5fc4fdd12717347c2064729930e</td>\n",
       "      <td>2023-10-09 00:00:02</td>\n",
       "      <td>unable get integration token</td>\n",
       "      <td>5</td>\n",
       "    </tr>\n",
       "    <tr>\n",
       "      <th>3</th>\n",
       "      <td>49f9dc2cb58ab8db9f59b2487fbe0768</td>\n",
       "      <td>2023-10-09 00:00:02</td>\n",
       "      <td>unable get integration token</td>\n",
       "      <td>5</td>\n",
       "    </tr>\n",
       "    <tr>\n",
       "      <th>4</th>\n",
       "      <td>4f4830735dfc264fb40d1424e3e02bb2</td>\n",
       "      <td>2023-10-09 00:00:08</td>\n",
       "      <td>pp3 contracts dto contract action contractacti...</td>\n",
       "      <td>7</td>\n",
       "    </tr>\n",
       "    <tr>\n",
       "      <th>5</th>\n",
       "      <td>c3a26e908605084180b05f77c367a8a0</td>\n",
       "      <td>2023-10-09 00:00:09</td>\n",
       "      <td>unable process onflushdirty interceptors</td>\n",
       "      <td>5</td>\n",
       "    </tr>\n",
       "    <tr>\n",
       "      <th>6</th>\n",
       "      <td>adcef5d317057946bac2ee0a390874d1</td>\n",
       "      <td>2023-10-09 00:00:09</td>\n",
       "      <td>ошибка обработки запроса регистрацию изменение...</td>\n",
       "      <td>11</td>\n",
       "    </tr>\n",
       "    <tr>\n",
       "      <th>7</th>\n",
       "      <td>c3a26e908605084180b05f77c367a8a0</td>\n",
       "      <td>2023-10-09 00:00:09</td>\n",
       "      <td>system invalidoperationexception прямой закуки...</td>\n",
       "      <td>129</td>\n",
       "    </tr>\n",
       "    <tr>\n",
       "      <th>8</th>\n",
       "      <td>c3a26e908605084180b05f77c367a8a0</td>\n",
       "      <td>2023-10-09 00:00:09</td>\n",
       "      <td>execution error job granit cssp jobs purchaser...</td>\n",
       "      <td>8</td>\n",
       "    </tr>\n",
       "    <tr>\n",
       "      <th>9</th>\n",
       "      <td>4f4830735dfc264fb40d1424e3e02bb2</td>\n",
       "      <td>2023-10-09 00:00:09</td>\n",
       "      <td>pp3 contracts dto contract action contractacti...</td>\n",
       "      <td>7</td>\n",
       "    </tr>\n",
       "  </tbody>\n",
       "</table>\n",
       "</div>"
      ],
      "text/plain": [
       "                                 id          create_date  \\\n",
       "0  6424198940e01f33f8b596fa9fe7391c  2023-10-09 00:00:01   \n",
       "1  9851574021c269d401accc3a1381259a  2023-10-09 00:00:02   \n",
       "2  35f4f5fc4fdd12717347c2064729930e  2023-10-09 00:00:02   \n",
       "3  49f9dc2cb58ab8db9f59b2487fbe0768  2023-10-09 00:00:02   \n",
       "4  4f4830735dfc264fb40d1424e3e02bb2  2023-10-09 00:00:08   \n",
       "5  c3a26e908605084180b05f77c367a8a0  2023-10-09 00:00:09   \n",
       "6  adcef5d317057946bac2ee0a390874d1  2023-10-09 00:00:09   \n",
       "7  c3a26e908605084180b05f77c367a8a0  2023-10-09 00:00:09   \n",
       "8  c3a26e908605084180b05f77c367a8a0  2023-10-09 00:00:09   \n",
       "9  4f4830735dfc264fb40d1424e3e02bb2  2023-10-09 00:00:09   \n",
       "\n",
       "                                                 log  len_logs  \n",
       "0                       unable get integration token         5  \n",
       "1                       unable get integration token         5  \n",
       "2                       unable get integration token         5  \n",
       "3                       unable get integration token         5  \n",
       "4  pp3 contracts dto contract action contractacti...         7  \n",
       "5           unable process onflushdirty interceptors         5  \n",
       "6  ошибка обработки запроса регистрацию изменение...        11  \n",
       "7  system invalidoperationexception прямой закуки...       129  \n",
       "8  execution error job granit cssp jobs purchaser...         8  \n",
       "9  pp3 contracts dto contract action contractacti...         7  "
      ]
     },
     "execution_count": 12,
     "metadata": {},
     "output_type": "execute_result"
    }
   ],
   "source": [
    "data.head(10)"
   ]
  },
  {
   "cell_type": "markdown",
   "id": "2abb7443-0ab4-410d-b4d0-bc129f8cb69e",
   "metadata": {},
   "source": [
    "# TF-IDF"
   ]
  },
  {
   "cell_type": "code",
   "execution_count": 13,
   "id": "c994843c-2d30-4c80-9f16-5750d638e0e2",
   "metadata": {},
   "outputs": [],
   "source": [
    "random_state=42"
   ]
  },
  {
   "cell_type": "code",
   "execution_count": 14,
   "id": "222a00de-78dd-4222-bdd7-37e834075afe",
   "metadata": {},
   "outputs": [
    {
     "data": {
      "text/html": [
       "<style>#sk-container-id-1 {color: black;background-color: white;}#sk-container-id-1 pre{padding: 0;}#sk-container-id-1 div.sk-toggleable {background-color: white;}#sk-container-id-1 label.sk-toggleable__label {cursor: pointer;display: block;width: 100%;margin-bottom: 0;padding: 0.3em;box-sizing: border-box;text-align: center;}#sk-container-id-1 label.sk-toggleable__label-arrow:before {content: \"▸\";float: left;margin-right: 0.25em;color: #696969;}#sk-container-id-1 label.sk-toggleable__label-arrow:hover:before {color: black;}#sk-container-id-1 div.sk-estimator:hover label.sk-toggleable__label-arrow:before {color: black;}#sk-container-id-1 div.sk-toggleable__content {max-height: 0;max-width: 0;overflow: hidden;text-align: left;background-color: #f0f8ff;}#sk-container-id-1 div.sk-toggleable__content pre {margin: 0.2em;color: black;border-radius: 0.25em;background-color: #f0f8ff;}#sk-container-id-1 input.sk-toggleable__control:checked~div.sk-toggleable__content {max-height: 200px;max-width: 100%;overflow: auto;}#sk-container-id-1 input.sk-toggleable__control:checked~label.sk-toggleable__label-arrow:before {content: \"▾\";}#sk-container-id-1 div.sk-estimator input.sk-toggleable__control:checked~label.sk-toggleable__label {background-color: #d4ebff;}#sk-container-id-1 div.sk-label input.sk-toggleable__control:checked~label.sk-toggleable__label {background-color: #d4ebff;}#sk-container-id-1 input.sk-hidden--visually {border: 0;clip: rect(1px 1px 1px 1px);clip: rect(1px, 1px, 1px, 1px);height: 1px;margin: -1px;overflow: hidden;padding: 0;position: absolute;width: 1px;}#sk-container-id-1 div.sk-estimator {font-family: monospace;background-color: #f0f8ff;border: 1px dotted black;border-radius: 0.25em;box-sizing: border-box;margin-bottom: 0.5em;}#sk-container-id-1 div.sk-estimator:hover {background-color: #d4ebff;}#sk-container-id-1 div.sk-parallel-item::after {content: \"\";width: 100%;border-bottom: 1px solid gray;flex-grow: 1;}#sk-container-id-1 div.sk-label:hover label.sk-toggleable__label {background-color: #d4ebff;}#sk-container-id-1 div.sk-serial::before {content: \"\";position: absolute;border-left: 1px solid gray;box-sizing: border-box;top: 0;bottom: 0;left: 50%;z-index: 0;}#sk-container-id-1 div.sk-serial {display: flex;flex-direction: column;align-items: center;background-color: white;padding-right: 0.2em;padding-left: 0.2em;position: relative;}#sk-container-id-1 div.sk-item {position: relative;z-index: 1;}#sk-container-id-1 div.sk-parallel {display: flex;align-items: stretch;justify-content: center;background-color: white;position: relative;}#sk-container-id-1 div.sk-item::before, #sk-container-id-1 div.sk-parallel-item::before {content: \"\";position: absolute;border-left: 1px solid gray;box-sizing: border-box;top: 0;bottom: 0;left: 50%;z-index: -1;}#sk-container-id-1 div.sk-parallel-item {display: flex;flex-direction: column;z-index: 1;position: relative;background-color: white;}#sk-container-id-1 div.sk-parallel-item:first-child::after {align-self: flex-end;width: 50%;}#sk-container-id-1 div.sk-parallel-item:last-child::after {align-self: flex-start;width: 50%;}#sk-container-id-1 div.sk-parallel-item:only-child::after {width: 0;}#sk-container-id-1 div.sk-dashed-wrapped {border: 1px dashed gray;margin: 0 0.4em 0.5em 0.4em;box-sizing: border-box;padding-bottom: 0.4em;background-color: white;}#sk-container-id-1 div.sk-label label {font-family: monospace;font-weight: bold;display: inline-block;line-height: 1.2em;}#sk-container-id-1 div.sk-label-container {text-align: center;}#sk-container-id-1 div.sk-container {/* jupyter's `normalize.less` sets `[hidden] { display: none; }` but bootstrap.min.css set `[hidden] { display: none !important; }` so we also need the `!important` here to be able to override the default hidden behavior on the sphinx rendered scikit-learn.org. See: https://github.com/scikit-learn/scikit-learn/issues/21755 */display: inline-block !important;position: relative;}#sk-container-id-1 div.sk-text-repr-fallback {display: none;}</style><div id=\"sk-container-id-1\" class=\"sk-top-container\"><div class=\"sk-text-repr-fallback\"><pre>TfidfVectorizer()</pre><b>In a Jupyter environment, please rerun this cell to show the HTML representation or trust the notebook. <br />On GitHub, the HTML representation is unable to render, please try loading this page with nbviewer.org.</b></div><div class=\"sk-container\" hidden><div class=\"sk-item\"><div class=\"sk-estimator sk-toggleable\"><input class=\"sk-toggleable__control sk-hidden--visually\" id=\"sk-estimator-id-1\" type=\"checkbox\" checked><label for=\"sk-estimator-id-1\" class=\"sk-toggleable__label sk-toggleable__label-arrow\">TfidfVectorizer</label><div class=\"sk-toggleable__content\"><pre>TfidfVectorizer()</pre></div></div></div></div></div>"
      ],
      "text/plain": [
       "TfidfVectorizer()"
      ]
     },
     "execution_count": 14,
     "metadata": {},
     "output_type": "execute_result"
    }
   ],
   "source": [
    "vec = TfidfVectorizer()\n",
    "vec.fit(data.log.values)"
   ]
  },
  {
   "cell_type": "code",
   "execution_count": 15,
   "id": "5b6c05d9-54d3-4c4f-a0d9-f271ec08181c",
   "metadata": {},
   "outputs": [],
   "source": [
    "with open('tfidf.pickle', 'wb') as f:\n",
    "    pickle.dump(vec, f)"
   ]
  },
  {
   "cell_type": "code",
   "execution_count": 16,
   "id": "1ed310b0-15e5-433b-ab00-044736a2f0e4",
   "metadata": {},
   "outputs": [],
   "source": [
    "# with open('tfidf.pickle', 'rb') as f:\n",
    "#     tfidf = pickle.load(f)"
   ]
  },
  {
   "cell_type": "code",
   "execution_count": 17,
   "id": "ab191aa5-ad8f-4468-8da6-98428d7cebd8",
   "metadata": {},
   "outputs": [],
   "source": [
    "features = vec.transform(data.log.values)"
   ]
  },
  {
   "cell_type": "code",
   "execution_count": 18,
   "id": "8e7acaf3-31b0-4116-81e2-4835598b9367",
   "metadata": {},
   "outputs": [
    {
     "data": {
      "text/plain": [
       "<88855x63962 sparse matrix of type '<class 'numpy.float64'>'\n",
       "\twith 1618047 stored elements in Compressed Sparse Row format>"
      ]
     },
     "execution_count": 18,
     "metadata": {},
     "output_type": "execute_result"
    }
   ],
   "source": [
    "features"
   ]
  },
  {
   "cell_type": "markdown",
   "id": "831cf6b3-34ea-4545-9839-8f4e432e158a",
   "metadata": {},
   "source": [
    "# Clasterisation"
   ]
  },
  {
   "cell_type": "markdown",
   "id": "aab7b84b-6d7a-4ba4-bd04-f8d21c13c61b",
   "metadata": {},
   "source": [
    "Посмотрим какое количество кластеров будет оптимальных для разбиения"
   ]
  },
  {
   "cell_type": "code",
   "execution_count": 54,
   "id": "1d8ef8c1-8c6b-4a0a-98ab-1acb90492453",
   "metadata": {},
   "outputs": [
    {
     "data": {
      "image/png": "[encoded data removed]",
      "text/plain": [
       "<Figure size 720x576 with 1 Axes>"
      ]
     },
     "metadata": {
      "needs_background": "light"
     },
     "output_type": "display_data"
    }
   ],
   "source": [
    "kmeans_results = []\n",
    "distances_sums = []\n",
    "MAX_K = 30\n",
    "k_values = list(range(1, MAX_K))\n",
    "\n",
    "for k in k_values:\n",
    "    kmeans = KMeans(n_clusters=k, max_iter=1000).fit(features)\n",
    "    kmeans_results.append(kmeans.labels_)\n",
    "    # Sum of squared distances of samples to their closest cluster center.     \n",
    "    distances_sums.append(kmeans.inertia_)\n",
    "\n",
    "plt.figure(figsize=(10,8))\n",
    "plt.rcParams.update({'font.size': 18})\n",
    "plt.plot(k_values, distances_sums)\n",
    "plt.xlabel(\"Количество кластеров\")\n",
    "plt.ylabel(\"Sum of squared distances\")\n",
    "plt.show()"
   ]
  },
  {
   "cell_type": "markdown",
   "id": "1667e3d5-e7ef-4646-a784-22ed38968edf",
   "metadata": {},
   "source": [
    "Судя по графику оптимальное количество классов для разбиения 8-15, при визульном анализе можно также выявить 8 классов. \n",
    "Оставим 8"
   ]
  },
  {
   "cell_type": "code",
   "execution_count": 21,
   "id": "ba75a5f9-fd7f-4c96-afcc-4fdbfe96d821",
   "metadata": {},
   "outputs": [
    {
     "data": {
      "text/html": [
       "<style>#sk-container-id-2 {color: black;background-color: white;}#sk-container-id-2 pre{padding: 0;}#sk-container-id-2 div.sk-toggleable {background-color: white;}#sk-container-id-2 label.sk-toggleable__label {cursor: pointer;display: block;width: 100%;margin-bottom: 0;padding: 0.3em;box-sizing: border-box;text-align: center;}#sk-container-id-2 label.sk-toggleable__label-arrow:before {content: \"▸\";float: left;margin-right: 0.25em;color: #696969;}#sk-container-id-2 label.sk-toggleable__label-arrow:hover:before {color: black;}#sk-container-id-2 div.sk-estimator:hover label.sk-toggleable__label-arrow:before {color: black;}#sk-container-id-2 div.sk-toggleable__content {max-height: 0;max-width: 0;overflow: hidden;text-align: left;background-color: #f0f8ff;}#sk-container-id-2 div.sk-toggleable__content pre {margin: 0.2em;color: black;border-radius: 0.25em;background-color: #f0f8ff;}#sk-container-id-2 input.sk-toggleable__control:checked~div.sk-toggleable__content {max-height: 200px;max-width: 100%;overflow: auto;}#sk-container-id-2 input.sk-toggleable__control:checked~label.sk-toggleable__label-arrow:before {content: \"▾\";}#sk-container-id-2 div.sk-estimator input.sk-toggleable__control:checked~label.sk-toggleable__label {background-color: #d4ebff;}#sk-container-id-2 div.sk-label input.sk-toggleable__control:checked~label.sk-toggleable__label {background-color: #d4ebff;}#sk-container-id-2 input.sk-hidden--visually {border: 0;clip: rect(1px 1px 1px 1px);clip: rect(1px, 1px, 1px, 1px);height: 1px;margin: -1px;overflow: hidden;padding: 0;position: absolute;width: 1px;}#sk-container-id-2 div.sk-estimator {font-family: monospace;background-color: #f0f8ff;border: 1px dotted black;border-radius: 0.25em;box-sizing: border-box;margin-bottom: 0.5em;}#sk-container-id-2 div.sk-estimator:hover {background-color: #d4ebff;}#sk-container-id-2 div.sk-parallel-item::after {content: \"\";width: 100%;border-bottom: 1px solid gray;flex-grow: 1;}#sk-container-id-2 div.sk-label:hover label.sk-toggleable__label {background-color: #d4ebff;}#sk-container-id-2 div.sk-serial::before {content: \"\";position: absolute;border-left: 1px solid gray;box-sizing: border-box;top: 0;bottom: 0;left: 50%;z-index: 0;}#sk-container-id-2 div.sk-serial {display: flex;flex-direction: column;align-items: center;background-color: white;padding-right: 0.2em;padding-left: 0.2em;position: relative;}#sk-container-id-2 div.sk-item {position: relative;z-index: 1;}#sk-container-id-2 div.sk-parallel {display: flex;align-items: stretch;justify-content: center;background-color: white;position: relative;}#sk-container-id-2 div.sk-item::before, #sk-container-id-2 div.sk-parallel-item::before {content: \"\";position: absolute;border-left: 1px solid gray;box-sizing: border-box;top: 0;bottom: 0;left: 50%;z-index: -1;}#sk-container-id-2 div.sk-parallel-item {display: flex;flex-direction: column;z-index: 1;position: relative;background-color: white;}#sk-container-id-2 div.sk-parallel-item:first-child::after {align-self: flex-end;width: 50%;}#sk-container-id-2 div.sk-parallel-item:last-child::after {align-self: flex-start;width: 50%;}#sk-container-id-2 div.sk-parallel-item:only-child::after {width: 0;}#sk-container-id-2 div.sk-dashed-wrapped {border: 1px dashed gray;margin: 0 0.4em 0.5em 0.4em;box-sizing: border-box;padding-bottom: 0.4em;background-color: white;}#sk-container-id-2 div.sk-label label {font-family: monospace;font-weight: bold;display: inline-block;line-height: 1.2em;}#sk-container-id-2 div.sk-label-container {text-align: center;}#sk-container-id-2 div.sk-container {/* jupyter's `normalize.less` sets `[hidden] { display: none; }` but bootstrap.min.css set `[hidden] { display: none !important; }` so we also need the `!important` here to be able to override the default hidden behavior on the sphinx rendered scikit-learn.org. See: https://github.com/scikit-learn/scikit-learn/issues/21755 */display: inline-block !important;position: relative;}#sk-container-id-2 div.sk-text-repr-fallback {display: none;}</style><div id=\"sk-container-id-2\" class=\"sk-top-container\"><div class=\"sk-text-repr-fallback\"><pre>MiniBatchKMeans(random_state=42)</pre><b>In a Jupyter environment, please rerun this cell to show the HTML representation or trust the notebook. <br />On GitHub, the HTML representation is unable to render, please try loading this page with nbviewer.org.</b></div><div class=\"sk-container\" hidden><div class=\"sk-item\"><div class=\"sk-estimator sk-toggleable\"><input class=\"sk-toggleable__control sk-hidden--visually\" id=\"sk-estimator-id-2\" type=\"checkbox\" checked><label for=\"sk-estimator-id-2\" class=\"sk-toggleable__label sk-toggleable__label-arrow\">MiniBatchKMeans</label><div class=\"sk-toggleable__content\"><pre>MiniBatchKMeans(random_state=42)</pre></div></div></div></div></div>"
      ],
      "text/plain": [
       "MiniBatchKMeans(random_state=42)"
      ]
     },
     "execution_count": 21,
     "metadata": {},
     "output_type": "execute_result"
    }
   ],
   "source": [
    "cls = MiniBatchKMeans(n_clusters=8, random_state=random_state)\n",
    "cls.fit(features)"
   ]
  },
  {
   "cell_type": "code",
   "execution_count": 19,
   "id": "a1bdb30e-b2a2-4230-80fc-78eaf540a1a3",
   "metadata": {},
   "outputs": [],
   "source": [
    "# with open('kmeans.pickle', 'rb') as f:\n",
    "#     cls = pickle.load(f)"
   ]
  },
  {
   "cell_type": "code",
   "execution_count": 20,
   "id": "714272fa-ab2b-4028-995b-01a6d274cf16",
   "metadata": {},
   "outputs": [
    {
     "data": {
      "text/plain": [
       "array([3, 3, 3, ..., 2, 4, 5], dtype=int32)"
      ]
     },
     "execution_count": 20,
     "metadata": {},
     "output_type": "execute_result"
    }
   ],
   "source": [
    "# predict cluster labels for new dataset\n",
    "cls.predict(features)\n",
    "\n",
    "# to get cluster labels for the dataset used while\n",
    "# training the model (used for models that does not\n",
    "# support prediction on new dataset).\n",
    "cls.labels_"
   ]
  },
  {
   "cell_type": "code",
   "execution_count": 21,
   "id": "8c766e83-6098-4a04-9aa1-717fd7509f90",
   "metadata": {},
   "outputs": [],
   "source": [
    "data['type'] = cls.labels_"
   ]
  },
  {
   "cell_type": "code",
   "execution_count": 22,
   "id": "34e7fdfa-a770-4ec4-b0b6-a82476dd2921",
   "metadata": {},
   "outputs": [
    {
     "name": "stdout",
     "output_type": "stream",
     "text": [
      "1 type 5031\n",
      "2 type 3458\n",
      "3 type 2170\n",
      "4 type 6403\n",
      "5 type 19446\n",
      "6 type 1346\n",
      "7 type 5033\n",
      "8 type 45968\n"
     ]
    }
   ],
   "source": [
    "print('1 type', len(data[data['type'] == 1]))\n",
    "print('2 type', len(data[data['type'] == 2]))\n",
    "print('3 type', len(data[data['type'] == 3]))\n",
    "print('4 type', len(data[data['type'] == 4]))\n",
    "print('5 type', len(data[data['type'] == 5]))\n",
    "print('6 type', len(data[data['type'] == 6]))\n",
    "print('7 type', len(data[data['type'] == 7]))\n",
    "print('8 type', len(data[data['type'] == 0]))"
   ]
  },
  {
   "cell_type": "markdown",
   "id": "76fc6de0-03e4-4f54-877b-3764f1f7173d",
   "metadata": {},
   "source": [
    "Посмотрим на новости каждого типа"
   ]
  },
  {
   "cell_type": "markdown",
   "id": "08066514-0cef-47fa-a0f7-49201903555c",
   "metadata": {
    "jp-MarkdownHeadingCollapsed": true,
    "tags": []
   },
   "source": [
    "## 1 class"
   ]
  },
  {
   "cell_type": "code",
   "execution_count": 38,
   "id": "a2fb8bf6-af59-40d7-8427-2c99080c4a81",
   "metadata": {
    "tags": []
   },
   "outputs": [
    {
     "data": {
      "text/html": [
       "<div>\n",
       "<style scoped>\n",
       "    .dataframe tbody tr th:only-of-type {\n",
       "        vertical-align: middle;\n",
       "    }\n",
       "\n",
       "    .dataframe tbody tr th {\n",
       "        vertical-align: top;\n",
       "    }\n",
       "\n",
       "    .dataframe thead th {\n",
       "        text-align: right;\n",
       "    }\n",
       "</style>\n",
       "<table border=\"1\" class=\"dataframe\">\n",
       "  <thead>\n",
       "    <tr style=\"text-align: right;\">\n",
       "      <th></th>\n",
       "      <th>id</th>\n",
       "      <th>create_date</th>\n",
       "      <th>log</th>\n",
       "      <th>len_logs</th>\n",
       "      <th>type</th>\n",
       "    </tr>\n",
       "  </thead>\n",
       "  <tbody>\n",
       "    <tr>\n",
       "      <th>260</th>\n",
       "      <td>231c79e539fd4e44b3ef7058b6c5b634</td>\n",
       "      <td>2023-10-09 00:31:06</td>\n",
       "      <td>wait operation timed</td>\n",
       "      <td>5</td>\n",
       "      <td>1</td>\n",
       "    </tr>\n",
       "    <tr>\n",
       "      <th>267</th>\n",
       "      <td>1e572b674f576143ad2d6fde97f9b54f</td>\n",
       "      <td>2023-10-09 00:31:08</td>\n",
       "      <td>wait operation timed</td>\n",
       "      <td>5</td>\n",
       "      <td>1</td>\n",
       "    </tr>\n",
       "    <tr>\n",
       "      <th>271</th>\n",
       "      <td>e80967cf551b9d4d9389ce93c554231a</td>\n",
       "      <td>2023-10-09 00:31:10</td>\n",
       "      <td>wait operation timed</td>\n",
       "      <td>5</td>\n",
       "      <td>1</td>\n",
       "    </tr>\n",
       "    <tr>\n",
       "      <th>276</th>\n",
       "      <td>e80967cf551b9d4d9389ce93c554231a</td>\n",
       "      <td>2023-10-09 00:31:11</td>\n",
       "      <td>wait operation timed</td>\n",
       "      <td>5</td>\n",
       "      <td>1</td>\n",
       "    </tr>\n",
       "    <tr>\n",
       "      <th>284</th>\n",
       "      <td>e80967cf551b9d4d9389ce93c554231a</td>\n",
       "      <td>2023-10-09 00:31:26</td>\n",
       "      <td>wait operation timed</td>\n",
       "      <td>5</td>\n",
       "      <td>1</td>\n",
       "    </tr>\n",
       "    <tr>\n",
       "      <th>...</th>\n",
       "      <td>...</td>\n",
       "      <td>...</td>\n",
       "      <td>...</td>\n",
       "      <td>...</td>\n",
       "      <td>...</td>\n",
       "    </tr>\n",
       "    <tr>\n",
       "      <th>88093</th>\n",
       "      <td>ce7ddad61acabd42b51076a6c6996ea3</td>\n",
       "      <td>2023-10-16 09:01:10</td>\n",
       "      <td>wait operation timed</td>\n",
       "      <td>5</td>\n",
       "      <td>1</td>\n",
       "    </tr>\n",
       "    <tr>\n",
       "      <th>88397</th>\n",
       "      <td>d8471e9278e41f4982286868f82ed0c2</td>\n",
       "      <td>2023-10-16 11:01:15</td>\n",
       "      <td>wait operation timed</td>\n",
       "      <td>5</td>\n",
       "      <td>1</td>\n",
       "    </tr>\n",
       "    <tr>\n",
       "      <th>88549</th>\n",
       "      <td>ca2b3893caff4843b7dc1b82a2cc3e79</td>\n",
       "      <td>2023-10-16 12:01:02</td>\n",
       "      <td>wait operation timed</td>\n",
       "      <td>5</td>\n",
       "      <td>1</td>\n",
       "    </tr>\n",
       "    <tr>\n",
       "      <th>88553</th>\n",
       "      <td>aace3e6275c1734bb229bc6c5634a4e9</td>\n",
       "      <td>2023-10-16 12:01:02</td>\n",
       "      <td>wait operation timed</td>\n",
       "      <td>5</td>\n",
       "      <td>1</td>\n",
       "    </tr>\n",
       "    <tr>\n",
       "      <th>88787</th>\n",
       "      <td>fb7c817307586047a12abb9154133886</td>\n",
       "      <td>2023-10-16 13:01:04</td>\n",
       "      <td>wait operation timed</td>\n",
       "      <td>5</td>\n",
       "      <td>1</td>\n",
       "    </tr>\n",
       "  </tbody>\n",
       "</table>\n",
       "<p>5031 rows × 5 columns</p>\n",
       "</div>"
      ],
      "text/plain": [
       "                                     id          create_date  \\\n",
       "260    231c79e539fd4e44b3ef7058b6c5b634  2023-10-09 00:31:06   \n",
       "267    1e572b674f576143ad2d6fde97f9b54f  2023-10-09 00:31:08   \n",
       "271    e80967cf551b9d4d9389ce93c554231a  2023-10-09 00:31:10   \n",
       "276    e80967cf551b9d4d9389ce93c554231a  2023-10-09 00:31:11   \n",
       "284    e80967cf551b9d4d9389ce93c554231a  2023-10-09 00:31:26   \n",
       "...                                 ...                  ...   \n",
       "88093  ce7ddad61acabd42b51076a6c6996ea3  2023-10-16 09:01:10   \n",
       "88397  d8471e9278e41f4982286868f82ed0c2  2023-10-16 11:01:15   \n",
       "88549  ca2b3893caff4843b7dc1b82a2cc3e79  2023-10-16 12:01:02   \n",
       "88553  aace3e6275c1734bb229bc6c5634a4e9  2023-10-16 12:01:02   \n",
       "88787  fb7c817307586047a12abb9154133886  2023-10-16 13:01:04   \n",
       "\n",
       "                        log  len_logs  type  \n",
       "260    wait operation timed         5     1  \n",
       "267    wait operation timed         5     1  \n",
       "271    wait operation timed         5     1  \n",
       "276    wait operation timed         5     1  \n",
       "284    wait operation timed         5     1  \n",
       "...                     ...       ...   ...  \n",
       "88093  wait operation timed         5     1  \n",
       "88397  wait operation timed         5     1  \n",
       "88549  wait operation timed         5     1  \n",
       "88553  wait operation timed         5     1  \n",
       "88787  wait operation timed         5     1  \n",
       "\n",
       "[5031 rows x 5 columns]"
      ]
     },
     "execution_count": 38,
     "metadata": {},
     "output_type": "execute_result"
    }
   ],
   "source": [
    "data[data['type'] == 1]"
   ]
  },
  {
   "cell_type": "code",
   "execution_count": 70,
   "id": "f3347db0-160b-482a-b811-c99eedf90cda",
   "metadata": {},
   "outputs": [
    {
     "data": {
      "text/plain": [
       "1"
      ]
     },
     "execution_count": 70,
     "metadata": {},
     "output_type": "execute_result"
    }
   ],
   "source": [
    "data[data['type'] == 1].log.nunique()"
   ]
  },
  {
   "cell_type": "code",
   "execution_count": 74,
   "id": "17283bdf-cf4a-408a-8ffe-9de6bc858f83",
   "metadata": {},
   "outputs": [
    {
     "data": {
      "text/plain": [
       "'The wait operation timed out'"
      ]
     },
     "execution_count": 74,
     "metadata": {},
     "output_type": "execute_result"
    }
   ],
   "source": [
    "df.log[260]"
   ]
  },
  {
   "cell_type": "markdown",
   "id": "38ff5c7b-3df2-4ace-82c3-c2543c37f3b6",
   "metadata": {},
   "source": [
    "таймаут - операция выполняется слишком долго"
   ]
  },
  {
   "cell_type": "markdown",
   "id": "ebce24a6-312e-4548-97f7-d6d371365240",
   "metadata": {
    "jp-MarkdownHeadingCollapsed": true,
    "tags": []
   },
   "source": [
    "## 2 class"
   ]
  },
  {
   "cell_type": "code",
   "execution_count": 39,
   "id": "40becba8-6d4b-43ae-942b-df1210fd040e",
   "metadata": {
    "tags": []
   },
   "outputs": [
    {
     "data": {
      "text/html": [
       "<div>\n",
       "<style scoped>\n",
       "    .dataframe tbody tr th:only-of-type {\n",
       "        vertical-align: middle;\n",
       "    }\n",
       "\n",
       "    .dataframe tbody tr th {\n",
       "        vertical-align: top;\n",
       "    }\n",
       "\n",
       "    .dataframe thead th {\n",
       "        text-align: right;\n",
       "    }\n",
       "</style>\n",
       "<table border=\"1\" class=\"dataframe\">\n",
       "  <thead>\n",
       "    <tr style=\"text-align: right;\">\n",
       "      <th></th>\n",
       "      <th>id</th>\n",
       "      <th>create_date</th>\n",
       "      <th>log</th>\n",
       "      <th>len_logs</th>\n",
       "      <th>type</th>\n",
       "    </tr>\n",
       "  </thead>\n",
       "  <tbody>\n",
       "    <tr>\n",
       "      <th>4</th>\n",
       "      <td>4f4830735dfc264fb40d1424e3e02bb2</td>\n",
       "      <td>2023-10-09 00:00:08</td>\n",
       "      <td>pp3 contracts dto contract action contractacti...</td>\n",
       "      <td>7</td>\n",
       "      <td>2</td>\n",
       "    </tr>\n",
       "    <tr>\n",
       "      <th>9</th>\n",
       "      <td>4f4830735dfc264fb40d1424e3e02bb2</td>\n",
       "      <td>2023-10-09 00:00:09</td>\n",
       "      <td>pp3 contracts dto contract action contractacti...</td>\n",
       "      <td>7</td>\n",
       "      <td>2</td>\n",
       "    </tr>\n",
       "    <tr>\n",
       "      <th>13</th>\n",
       "      <td>4f4830735dfc264fb40d1424e3e02bb2</td>\n",
       "      <td>2023-10-09 00:00:12</td>\n",
       "      <td>pp3 contracts dto contract action contractacti...</td>\n",
       "      <td>7</td>\n",
       "      <td>2</td>\n",
       "    </tr>\n",
       "    <tr>\n",
       "      <th>16</th>\n",
       "      <td>4f4830735dfc264fb40d1424e3e02bb2</td>\n",
       "      <td>2023-10-09 00:00:13</td>\n",
       "      <td>pp3 contracts dto contract action contractacti...</td>\n",
       "      <td>7</td>\n",
       "      <td>2</td>\n",
       "    </tr>\n",
       "    <tr>\n",
       "      <th>17</th>\n",
       "      <td>4f4830735dfc264fb40d1424e3e02bb2</td>\n",
       "      <td>2023-10-09 00:00:14</td>\n",
       "      <td>pp3 contracts dto contract action contractacti...</td>\n",
       "      <td>7</td>\n",
       "      <td>2</td>\n",
       "    </tr>\n",
       "    <tr>\n",
       "      <th>...</th>\n",
       "      <td>...</td>\n",
       "      <td>...</td>\n",
       "      <td>...</td>\n",
       "      <td>...</td>\n",
       "      <td>...</td>\n",
       "    </tr>\n",
       "    <tr>\n",
       "      <th>88845</th>\n",
       "      <td>c6a3630169618e449c4770842dfd8bcc</td>\n",
       "      <td>2023-10-16 13:30:02</td>\n",
       "      <td>pp3 contracts dto contract action contractacti...</td>\n",
       "      <td>7</td>\n",
       "      <td>2</td>\n",
       "    </tr>\n",
       "    <tr>\n",
       "      <th>88846</th>\n",
       "      <td>c6a3630169618e449c4770842dfd8bcc</td>\n",
       "      <td>2023-10-16 13:30:03</td>\n",
       "      <td>pp3 contracts dto contract action contractacti...</td>\n",
       "      <td>7</td>\n",
       "      <td>2</td>\n",
       "    </tr>\n",
       "    <tr>\n",
       "      <th>88848</th>\n",
       "      <td>c6a3630169618e449c4770842dfd8bcc</td>\n",
       "      <td>2023-10-16 13:30:04</td>\n",
       "      <td>pp3 contracts dto contract action contractacti...</td>\n",
       "      <td>7</td>\n",
       "      <td>2</td>\n",
       "    </tr>\n",
       "    <tr>\n",
       "      <th>88849</th>\n",
       "      <td>c6a3630169618e449c4770842dfd8bcc</td>\n",
       "      <td>2023-10-16 13:30:05</td>\n",
       "      <td>pp3 contracts dto contract action contractacti...</td>\n",
       "      <td>7</td>\n",
       "      <td>2</td>\n",
       "    </tr>\n",
       "    <tr>\n",
       "      <th>88852</th>\n",
       "      <td>c6a3630169618e449c4770842dfd8bcc</td>\n",
       "      <td>2023-10-16 13:30:06</td>\n",
       "      <td>pp3 contracts dto contract action contractacti...</td>\n",
       "      <td>7</td>\n",
       "      <td>2</td>\n",
       "    </tr>\n",
       "  </tbody>\n",
       "</table>\n",
       "<p>3458 rows × 5 columns</p>\n",
       "</div>"
      ],
      "text/plain": [
       "                                     id          create_date  \\\n",
       "4      4f4830735dfc264fb40d1424e3e02bb2  2023-10-09 00:00:08   \n",
       "9      4f4830735dfc264fb40d1424e3e02bb2  2023-10-09 00:00:09   \n",
       "13     4f4830735dfc264fb40d1424e3e02bb2  2023-10-09 00:00:12   \n",
       "16     4f4830735dfc264fb40d1424e3e02bb2  2023-10-09 00:00:13   \n",
       "17     4f4830735dfc264fb40d1424e3e02bb2  2023-10-09 00:00:14   \n",
       "...                                 ...                  ...   \n",
       "88845  c6a3630169618e449c4770842dfd8bcc  2023-10-16 13:30:02   \n",
       "88846  c6a3630169618e449c4770842dfd8bcc  2023-10-16 13:30:03   \n",
       "88848  c6a3630169618e449c4770842dfd8bcc  2023-10-16 13:30:04   \n",
       "88849  c6a3630169618e449c4770842dfd8bcc  2023-10-16 13:30:05   \n",
       "88852  c6a3630169618e449c4770842dfd8bcc  2023-10-16 13:30:06   \n",
       "\n",
       "                                                     log  len_logs  type  \n",
       "4      pp3 contracts dto contract action contractacti...         7     2  \n",
       "9      pp3 contracts dto contract action contractacti...         7     2  \n",
       "13     pp3 contracts dto contract action contractacti...         7     2  \n",
       "16     pp3 contracts dto contract action contractacti...         7     2  \n",
       "17     pp3 contracts dto contract action contractacti...         7     2  \n",
       "...                                                  ...       ...   ...  \n",
       "88845  pp3 contracts dto contract action contractacti...         7     2  \n",
       "88846  pp3 contracts dto contract action contractacti...         7     2  \n",
       "88848  pp3 contracts dto contract action contractacti...         7     2  \n",
       "88849  pp3 contracts dto contract action contractacti...         7     2  \n",
       "88852  pp3 contracts dto contract action contractacti...         7     2  \n",
       "\n",
       "[3458 rows x 5 columns]"
      ]
     },
     "execution_count": 39,
     "metadata": {},
     "output_type": "execute_result"
    }
   ],
   "source": [
    "data[data['type'] == 2]"
   ]
  },
  {
   "cell_type": "code",
   "execution_count": 76,
   "id": "3d515577-98de-44fd-a3a6-b3b5f0cae817",
   "metadata": {},
   "outputs": [
    {
     "data": {
      "text/plain": [
       "1"
      ]
     },
     "execution_count": 76,
     "metadata": {},
     "output_type": "execute_result"
    }
   ],
   "source": [
    "data[data['type'] == 2].log.nunique()"
   ]
  },
  {
   "cell_type": "code",
   "execution_count": 77,
   "id": "8f89334a-ea50-4051-9113-e1d78f251985",
   "metadata": {},
   "outputs": [
    {
     "data": {
      "text/plain": [
       "'Pp3.Contracts.Dto.Contract.Action.ContractActionException: Действие по автоматическому отказу не разрешено'"
      ]
     },
     "execution_count": 77,
     "metadata": {},
     "output_type": "execute_result"
    }
   ],
   "source": [
    "df.log[4]"
   ]
  },
  {
   "cell_type": "markdown",
   "id": "e5214a88-3b9f-4192-8f89-0010a7531c6f",
   "metadata": {},
   "source": [
    "Действие по автоматическому отказу не разрешено"
   ]
  },
  {
   "cell_type": "markdown",
   "id": "83bcaf37-51ff-49b2-80af-99732aeba145",
   "metadata": {
    "jp-MarkdownHeadingCollapsed": true,
    "tags": []
   },
   "source": [
    "## 3 class"
   ]
  },
  {
   "cell_type": "code",
   "execution_count": 40,
   "id": "44db4aee-68a3-4387-8177-7b57975b24d0",
   "metadata": {
    "tags": []
   },
   "outputs": [
    {
     "data": {
      "text/html": [
       "<div>\n",
       "<style scoped>\n",
       "    .dataframe tbody tr th:only-of-type {\n",
       "        vertical-align: middle;\n",
       "    }\n",
       "\n",
       "    .dataframe tbody tr th {\n",
       "        vertical-align: top;\n",
       "    }\n",
       "\n",
       "    .dataframe thead th {\n",
       "        text-align: right;\n",
       "    }\n",
       "</style>\n",
       "<table border=\"1\" class=\"dataframe\">\n",
       "  <thead>\n",
       "    <tr style=\"text-align: right;\">\n",
       "      <th></th>\n",
       "      <th>id</th>\n",
       "      <th>create_date</th>\n",
       "      <th>log</th>\n",
       "      <th>len_logs</th>\n",
       "      <th>type</th>\n",
       "    </tr>\n",
       "  </thead>\n",
       "  <tbody>\n",
       "    <tr>\n",
       "      <th>0</th>\n",
       "      <td>6424198940e01f33f8b596fa9fe7391c</td>\n",
       "      <td>2023-10-09 00:00:01</td>\n",
       "      <td>unable get integration token</td>\n",
       "      <td>5</td>\n",
       "      <td>3</td>\n",
       "    </tr>\n",
       "    <tr>\n",
       "      <th>1</th>\n",
       "      <td>9851574021c269d401accc3a1381259a</td>\n",
       "      <td>2023-10-09 00:00:02</td>\n",
       "      <td>unable get integration token</td>\n",
       "      <td>5</td>\n",
       "      <td>3</td>\n",
       "    </tr>\n",
       "    <tr>\n",
       "      <th>2</th>\n",
       "      <td>35f4f5fc4fdd12717347c2064729930e</td>\n",
       "      <td>2023-10-09 00:00:02</td>\n",
       "      <td>unable get integration token</td>\n",
       "      <td>5</td>\n",
       "      <td>3</td>\n",
       "    </tr>\n",
       "    <tr>\n",
       "      <th>3</th>\n",
       "      <td>49f9dc2cb58ab8db9f59b2487fbe0768</td>\n",
       "      <td>2023-10-09 00:00:02</td>\n",
       "      <td>unable get integration token</td>\n",
       "      <td>5</td>\n",
       "      <td>3</td>\n",
       "    </tr>\n",
       "    <tr>\n",
       "      <th>14</th>\n",
       "      <td>5d53335d07db2fa6f4cb6ce647efa775</td>\n",
       "      <td>2023-10-09 00:00:12</td>\n",
       "      <td>unable get integration token</td>\n",
       "      <td>5</td>\n",
       "      <td>3</td>\n",
       "    </tr>\n",
       "    <tr>\n",
       "      <th>...</th>\n",
       "      <td>...</td>\n",
       "      <td>...</td>\n",
       "      <td>...</td>\n",
       "      <td>...</td>\n",
       "      <td>...</td>\n",
       "    </tr>\n",
       "    <tr>\n",
       "      <th>69279</th>\n",
       "      <td>e7b53f8391a5212ce751ca4947a65682</td>\n",
       "      <td>2023-10-15 18:00:02</td>\n",
       "      <td>unable get data</td>\n",
       "      <td>4</td>\n",
       "      <td>3</td>\n",
       "    </tr>\n",
       "    <tr>\n",
       "      <th>88208</th>\n",
       "      <td>00b0475ee8b9a9f47c80d902f93f2faf</td>\n",
       "      <td>2023-10-16 10:00:07</td>\n",
       "      <td>unable get data</td>\n",
       "      <td>4</td>\n",
       "      <td>3</td>\n",
       "    </tr>\n",
       "    <tr>\n",
       "      <th>88392</th>\n",
       "      <td>192fbec26b4a90976d1e8fc95f642b08</td>\n",
       "      <td>2023-10-16 11:00:32</td>\n",
       "      <td>unable get data</td>\n",
       "      <td>4</td>\n",
       "      <td>3</td>\n",
       "    </tr>\n",
       "    <tr>\n",
       "      <th>88528</th>\n",
       "      <td>46a4424039fd6f04cd51fb3b63d385ce</td>\n",
       "      <td>2023-10-16 12:00:01</td>\n",
       "      <td>unable get data</td>\n",
       "      <td>4</td>\n",
       "      <td>3</td>\n",
       "    </tr>\n",
       "    <tr>\n",
       "      <th>88771</th>\n",
       "      <td>3817d6ba433f289d99d9e07b5951855a</td>\n",
       "      <td>2023-10-16 13:00:00</td>\n",
       "      <td>unable get data</td>\n",
       "      <td>4</td>\n",
       "      <td>3</td>\n",
       "    </tr>\n",
       "  </tbody>\n",
       "</table>\n",
       "<p>2170 rows × 5 columns</p>\n",
       "</div>"
      ],
      "text/plain": [
       "                                     id          create_date  \\\n",
       "0      6424198940e01f33f8b596fa9fe7391c  2023-10-09 00:00:01   \n",
       "1      9851574021c269d401accc3a1381259a  2023-10-09 00:00:02   \n",
       "2      35f4f5fc4fdd12717347c2064729930e  2023-10-09 00:00:02   \n",
       "3      49f9dc2cb58ab8db9f59b2487fbe0768  2023-10-09 00:00:02   \n",
       "14     5d53335d07db2fa6f4cb6ce647efa775  2023-10-09 00:00:12   \n",
       "...                                 ...                  ...   \n",
       "69279  e7b53f8391a5212ce751ca4947a65682  2023-10-15 18:00:02   \n",
       "88208  00b0475ee8b9a9f47c80d902f93f2faf  2023-10-16 10:00:07   \n",
       "88392  192fbec26b4a90976d1e8fc95f642b08  2023-10-16 11:00:32   \n",
       "88528  46a4424039fd6f04cd51fb3b63d385ce  2023-10-16 12:00:01   \n",
       "88771  3817d6ba433f289d99d9e07b5951855a  2023-10-16 13:00:00   \n",
       "\n",
       "                                log  len_logs  type  \n",
       "0      unable get integration token         5     3  \n",
       "1      unable get integration token         5     3  \n",
       "2      unable get integration token         5     3  \n",
       "3      unable get integration token         5     3  \n",
       "14     unable get integration token         5     3  \n",
       "...                             ...       ...   ...  \n",
       "69279               unable get data         4     3  \n",
       "88208               unable get data         4     3  \n",
       "88392               unable get data         4     3  \n",
       "88528               unable get data         4     3  \n",
       "88771               unable get data         4     3  \n",
       "\n",
       "[2170 rows x 5 columns]"
      ]
     },
     "execution_count": 40,
     "metadata": {},
     "output_type": "execute_result"
    }
   ],
   "source": [
    "data[data['type'] == 3]"
   ]
  },
  {
   "cell_type": "code",
   "execution_count": 80,
   "id": "35e4e2d3-204d-44f7-b993-2d0c8de62b35",
   "metadata": {},
   "outputs": [
    {
     "data": {
      "text/plain": [
       "2"
      ]
     },
     "execution_count": 80,
     "metadata": {},
     "output_type": "execute_result"
    }
   ],
   "source": [
    "data[data['type'] == 3].log.nunique()"
   ]
  },
  {
   "cell_type": "code",
   "execution_count": 81,
   "id": "a337c8b1-f230-4c38-8328-d16595f188b0",
   "metadata": {},
   "outputs": [
    {
     "data": {
      "text/plain": [
       "'Unable to get integration token'"
      ]
     },
     "execution_count": 81,
     "metadata": {},
     "output_type": "execute_result"
    }
   ],
   "source": [
    "df.log[3]"
   ]
  },
  {
   "cell_type": "code",
   "execution_count": 82,
   "id": "ec0633dc-fa8e-41bb-bcae-c03c5be6dcee",
   "metadata": {},
   "outputs": [
    {
     "data": {
      "text/plain": [
       "'Unable to get data'"
      ]
     },
     "execution_count": 82,
     "metadata": {},
     "output_type": "execute_result"
    }
   ],
   "source": [
    "df.log[69279]"
   ]
  },
  {
   "cell_type": "markdown",
   "id": "a0aeb35a-b0d1-4d30-8b4a-bb598e5171b1",
   "metadata": {},
   "source": [
    "Невозможно получить данные"
   ]
  },
  {
   "cell_type": "markdown",
   "id": "b2afe72e-22c2-4825-b684-e2f400291e34",
   "metadata": {
    "jp-MarkdownHeadingCollapsed": true,
    "tags": []
   },
   "source": [
    "## 4 class"
   ]
  },
  {
   "cell_type": "code",
   "execution_count": 41,
   "id": "7edbd9c8-13d4-481b-812d-afbab5780955",
   "metadata": {
    "tags": []
   },
   "outputs": [
    {
     "data": {
      "text/html": [
       "<div>\n",
       "<style scoped>\n",
       "    .dataframe tbody tr th:only-of-type {\n",
       "        vertical-align: middle;\n",
       "    }\n",
       "\n",
       "    .dataframe tbody tr th {\n",
       "        vertical-align: top;\n",
       "    }\n",
       "\n",
       "    .dataframe thead th {\n",
       "        text-align: right;\n",
       "    }\n",
       "</style>\n",
       "<table border=\"1\" class=\"dataframe\">\n",
       "  <thead>\n",
       "    <tr style=\"text-align: right;\">\n",
       "      <th></th>\n",
       "      <th>id</th>\n",
       "      <th>create_date</th>\n",
       "      <th>log</th>\n",
       "      <th>len_logs</th>\n",
       "      <th>type</th>\n",
       "    </tr>\n",
       "  </thead>\n",
       "  <tbody>\n",
       "    <tr>\n",
       "      <th>6</th>\n",
       "      <td>adcef5d317057946bac2ee0a390874d1</td>\n",
       "      <td>2023-10-09 00:00:09</td>\n",
       "      <td>ошибка обработки запроса регистрацию изменение...</td>\n",
       "      <td>11</td>\n",
       "      <td>4</td>\n",
       "    </tr>\n",
       "    <tr>\n",
       "      <th>10</th>\n",
       "      <td>adcef5d317057946bac2ee0a390874d1</td>\n",
       "      <td>2023-10-09 00:00:09</td>\n",
       "      <td>ошибка обработки запроса регистрацию изменение...</td>\n",
       "      <td>11</td>\n",
       "      <td>4</td>\n",
       "    </tr>\n",
       "    <tr>\n",
       "      <th>11</th>\n",
       "      <td>adcef5d317057946bac2ee0a390874d1</td>\n",
       "      <td>2023-10-09 00:00:09</td>\n",
       "      <td>ошибка обработки запроса регистрацию изменение...</td>\n",
       "      <td>11</td>\n",
       "      <td>4</td>\n",
       "    </tr>\n",
       "    <tr>\n",
       "      <th>12</th>\n",
       "      <td>c8b405f9b3b53640b68f86bb1d295410</td>\n",
       "      <td>2023-10-09 00:00:12</td>\n",
       "      <td>ошибка обработки запроса регистрацию изменение...</td>\n",
       "      <td>11</td>\n",
       "      <td>4</td>\n",
       "    </tr>\n",
       "    <tr>\n",
       "      <th>77</th>\n",
       "      <td>553101c6ca859148a8ba51c6a0ab94bf</td>\n",
       "      <td>2023-10-09 00:05:06</td>\n",
       "      <td>ошибка обработки запроса регистрацию изменение...</td>\n",
       "      <td>11</td>\n",
       "      <td>4</td>\n",
       "    </tr>\n",
       "    <tr>\n",
       "      <th>...</th>\n",
       "      <td>...</td>\n",
       "      <td>...</td>\n",
       "      <td>...</td>\n",
       "      <td>...</td>\n",
       "      <td>...</td>\n",
       "    </tr>\n",
       "    <tr>\n",
       "      <th>88839</th>\n",
       "      <td>0b0bf7700795ea4c954040bcfd756a38</td>\n",
       "      <td>2023-10-16 13:25:05</td>\n",
       "      <td>ошибка обработки запроса регистрацию изменение...</td>\n",
       "      <td>11</td>\n",
       "      <td>4</td>\n",
       "    </tr>\n",
       "    <tr>\n",
       "      <th>88847</th>\n",
       "      <td>7c15735089bacd4bacf44b07f4d2969a</td>\n",
       "      <td>2023-10-16 13:30:03</td>\n",
       "      <td>ошибка обработки запроса регистрацию изменение...</td>\n",
       "      <td>11</td>\n",
       "      <td>4</td>\n",
       "    </tr>\n",
       "    <tr>\n",
       "      <th>88850</th>\n",
       "      <td>954c4593de12c14c8a51a08ae24f2cdf</td>\n",
       "      <td>2023-10-16 13:30:06</td>\n",
       "      <td>ошибка обработки запроса регистрацию изменение...</td>\n",
       "      <td>11</td>\n",
       "      <td>4</td>\n",
       "    </tr>\n",
       "    <tr>\n",
       "      <th>88851</th>\n",
       "      <td>954c4593de12c14c8a51a08ae24f2cdf</td>\n",
       "      <td>2023-10-16 13:30:06</td>\n",
       "      <td>ошибка обработки запроса регистрацию изменение...</td>\n",
       "      <td>11</td>\n",
       "      <td>4</td>\n",
       "    </tr>\n",
       "    <tr>\n",
       "      <th>88853</th>\n",
       "      <td>954c4593de12c14c8a51a08ae24f2cdf</td>\n",
       "      <td>2023-10-16 13:30:06</td>\n",
       "      <td>ошибка обработки запроса регистрацию изменение...</td>\n",
       "      <td>11</td>\n",
       "      <td>4</td>\n",
       "    </tr>\n",
       "  </tbody>\n",
       "</table>\n",
       "<p>6403 rows × 5 columns</p>\n",
       "</div>"
      ],
      "text/plain": [
       "                                     id          create_date  \\\n",
       "6      adcef5d317057946bac2ee0a390874d1  2023-10-09 00:00:09   \n",
       "10     adcef5d317057946bac2ee0a390874d1  2023-10-09 00:00:09   \n",
       "11     adcef5d317057946bac2ee0a390874d1  2023-10-09 00:00:09   \n",
       "12     c8b405f9b3b53640b68f86bb1d295410  2023-10-09 00:00:12   \n",
       "77     553101c6ca859148a8ba51c6a0ab94bf  2023-10-09 00:05:06   \n",
       "...                                 ...                  ...   \n",
       "88839  0b0bf7700795ea4c954040bcfd756a38  2023-10-16 13:25:05   \n",
       "88847  7c15735089bacd4bacf44b07f4d2969a  2023-10-16 13:30:03   \n",
       "88850  954c4593de12c14c8a51a08ae24f2cdf  2023-10-16 13:30:06   \n",
       "88851  954c4593de12c14c8a51a08ae24f2cdf  2023-10-16 13:30:06   \n",
       "88853  954c4593de12c14c8a51a08ae24f2cdf  2023-10-16 13:30:06   \n",
       "\n",
       "                                                     log  len_logs  type  \n",
       "6      ошибка обработки запроса регистрацию изменение...        11     4  \n",
       "10     ошибка обработки запроса регистрацию изменение...        11     4  \n",
       "11     ошибка обработки запроса регистрацию изменение...        11     4  \n",
       "12     ошибка обработки запроса регистрацию изменение...        11     4  \n",
       "77     ошибка обработки запроса регистрацию изменение...        11     4  \n",
       "...                                                  ...       ...   ...  \n",
       "88839  ошибка обработки запроса регистрацию изменение...        11     4  \n",
       "88847  ошибка обработки запроса регистрацию изменение...        11     4  \n",
       "88850  ошибка обработки запроса регистрацию изменение...        11     4  \n",
       "88851  ошибка обработки запроса регистрацию изменение...        11     4  \n",
       "88853  ошибка обработки запроса регистрацию изменение...        11     4  \n",
       "\n",
       "[6403 rows x 5 columns]"
      ]
     },
     "execution_count": 41,
     "metadata": {},
     "output_type": "execute_result"
    }
   ],
   "source": [
    "data[data['type'] == 4]"
   ]
  },
  {
   "cell_type": "code",
   "execution_count": 84,
   "id": "c452d365-d275-4a70-8830-0f0eb16bb327",
   "metadata": {},
   "outputs": [
    {
     "data": {
      "text/plain": [
       "4"
      ]
     },
     "execution_count": 84,
     "metadata": {},
     "output_type": "execute_result"
    }
   ],
   "source": [
    "data[data['type'] == 4].log.nunique()"
   ]
  },
  {
   "cell_type": "code",
   "execution_count": 85,
   "id": "10687651-aad6-419a-9972-8978c58711a3",
   "metadata": {},
   "outputs": [
    {
     "data": {
      "text/plain": [
       "array(['ошибка обработки запроса регистрацию изменение данных компании id 23264576 type customer',\n",
       "       'ошибка обработки запроса регистрацию изменение данных компании id 23285587 type customer',\n",
       "       'ошибка обработки запроса регистрацию изменение данных компании id 23300770 type customer',\n",
       "       'ошибка обработки запроса регистрацию изменение данных компании id 21236398 type customer'],\n",
       "      dtype=object)"
      ]
     },
     "execution_count": 85,
     "metadata": {},
     "output_type": "execute_result"
    }
   ],
   "source": [
    "data[data['type'] == 4].log.unique()"
   ]
  },
  {
   "cell_type": "code",
   "execution_count": 86,
   "id": "6b35f386-6084-4b88-b45e-8d70d08a0700",
   "metadata": {},
   "outputs": [
    {
     "data": {
      "text/plain": [
       "\"Ошибка обработки запроса на регистрацию/изменение данных компании id: 23285587 type: 'Customer'\""
      ]
     },
     "execution_count": 86,
     "metadata": {},
     "output_type": "execute_result"
    }
   ],
   "source": [
    "df.log[88851]"
   ]
  },
  {
   "cell_type": "markdown",
   "id": "387c7a4d-e970-45b7-866a-804a3196ceb4",
   "metadata": {},
   "source": [
    "ошибка обработки запроса на регистрацию/изменение данных компании"
   ]
  },
  {
   "cell_type": "markdown",
   "id": "b40e71aa-e1f1-493b-b8a0-5f96f8e1ad5e",
   "metadata": {
    "jp-MarkdownHeadingCollapsed": true,
    "tags": []
   },
   "source": [
    "## 6 class"
   ]
  },
  {
   "cell_type": "code",
   "execution_count": 43,
   "id": "8eb6eabe-e92f-4612-bcb8-b31acbf3585b",
   "metadata": {
    "tags": []
   },
   "outputs": [
    {
     "data": {
      "text/html": [
       "<div>\n",
       "<style scoped>\n",
       "    .dataframe tbody tr th:only-of-type {\n",
       "        vertical-align: middle;\n",
       "    }\n",
       "\n",
       "    .dataframe tbody tr th {\n",
       "        vertical-align: top;\n",
       "    }\n",
       "\n",
       "    .dataframe thead th {\n",
       "        text-align: right;\n",
       "    }\n",
       "</style>\n",
       "<table border=\"1\" class=\"dataframe\">\n",
       "  <thead>\n",
       "    <tr style=\"text-align: right;\">\n",
       "      <th></th>\n",
       "      <th>id</th>\n",
       "      <th>create_date</th>\n",
       "      <th>log</th>\n",
       "      <th>len_logs</th>\n",
       "      <th>type</th>\n",
       "    </tr>\n",
       "  </thead>\n",
       "  <tbody>\n",
       "    <tr>\n",
       "      <th>4978</th>\n",
       "      <td>3268829f31dc04a742f9467659385063</td>\n",
       "      <td>2023-10-09 09:34:26</td>\n",
       "      <td>unexpected error occured</td>\n",
       "      <td>3</td>\n",
       "      <td>6</td>\n",
       "    </tr>\n",
       "    <tr>\n",
       "      <th>5008</th>\n",
       "      <td>381c11ba1d65f5897f246feb7e7affd1</td>\n",
       "      <td>2023-10-09 09:54:45</td>\n",
       "      <td>unexpected error occured</td>\n",
       "      <td>3</td>\n",
       "      <td>6</td>\n",
       "    </tr>\n",
       "    <tr>\n",
       "      <th>5191</th>\n",
       "      <td>7d1f8c99569eeda565202f95e14b2a50</td>\n",
       "      <td>2023-10-09 11:05:42</td>\n",
       "      <td>unexpected error occured</td>\n",
       "      <td>3</td>\n",
       "      <td>6</td>\n",
       "    </tr>\n",
       "    <tr>\n",
       "      <th>5192</th>\n",
       "      <td>a0ec46fd15cd972af28ff683ac2c8303</td>\n",
       "      <td>2023-10-09 11:05:42</td>\n",
       "      <td>unexpected error occured</td>\n",
       "      <td>3</td>\n",
       "      <td>6</td>\n",
       "    </tr>\n",
       "    <tr>\n",
       "      <th>5212</th>\n",
       "      <td>85416aae921006a4f4812b2b943f15bd</td>\n",
       "      <td>2023-10-09 11:17:24</td>\n",
       "      <td>unexpected error occured</td>\n",
       "      <td>3</td>\n",
       "      <td>6</td>\n",
       "    </tr>\n",
       "    <tr>\n",
       "      <th>...</th>\n",
       "      <td>...</td>\n",
       "      <td>...</td>\n",
       "      <td>...</td>\n",
       "      <td>...</td>\n",
       "      <td>...</td>\n",
       "    </tr>\n",
       "    <tr>\n",
       "      <th>88834</th>\n",
       "      <td>5a88ad84b9b6d970473133912ab7fb45</td>\n",
       "      <td>2023-10-16 13:24:07</td>\n",
       "      <td>unexpected error occured</td>\n",
       "      <td>3</td>\n",
       "      <td>6</td>\n",
       "    </tr>\n",
       "    <tr>\n",
       "      <th>88835</th>\n",
       "      <td>182d6180359a3021ddddf151b584c3c5</td>\n",
       "      <td>2023-10-16 13:24:08</td>\n",
       "      <td>unexpected error occured</td>\n",
       "      <td>3</td>\n",
       "      <td>6</td>\n",
       "    </tr>\n",
       "    <tr>\n",
       "      <th>88841</th>\n",
       "      <td>3b02808bb1663ef9804a4ff90136069f</td>\n",
       "      <td>2023-10-16 13:25:41</td>\n",
       "      <td>unexpected error occured</td>\n",
       "      <td>3</td>\n",
       "      <td>6</td>\n",
       "    </tr>\n",
       "    <tr>\n",
       "      <th>88843</th>\n",
       "      <td>28c3eb484c875e78dfac333424b138f1</td>\n",
       "      <td>2023-10-16 13:28:57</td>\n",
       "      <td>unexpected error occured</td>\n",
       "      <td>3</td>\n",
       "      <td>6</td>\n",
       "    </tr>\n",
       "    <tr>\n",
       "      <th>88844</th>\n",
       "      <td>2e34870cb9421ac8511dd5369de9f7cb</td>\n",
       "      <td>2023-10-16 13:28:57</td>\n",
       "      <td>unexpected error occured</td>\n",
       "      <td>3</td>\n",
       "      <td>6</td>\n",
       "    </tr>\n",
       "  </tbody>\n",
       "</table>\n",
       "<p>1346 rows × 5 columns</p>\n",
       "</div>"
      ],
      "text/plain": [
       "                                     id          create_date  \\\n",
       "4978   3268829f31dc04a742f9467659385063  2023-10-09 09:34:26   \n",
       "5008   381c11ba1d65f5897f246feb7e7affd1  2023-10-09 09:54:45   \n",
       "5191   7d1f8c99569eeda565202f95e14b2a50  2023-10-09 11:05:42   \n",
       "5192   a0ec46fd15cd972af28ff683ac2c8303  2023-10-09 11:05:42   \n",
       "5212   85416aae921006a4f4812b2b943f15bd  2023-10-09 11:17:24   \n",
       "...                                 ...                  ...   \n",
       "88834  5a88ad84b9b6d970473133912ab7fb45  2023-10-16 13:24:07   \n",
       "88835  182d6180359a3021ddddf151b584c3c5  2023-10-16 13:24:08   \n",
       "88841  3b02808bb1663ef9804a4ff90136069f  2023-10-16 13:25:41   \n",
       "88843  28c3eb484c875e78dfac333424b138f1  2023-10-16 13:28:57   \n",
       "88844  2e34870cb9421ac8511dd5369de9f7cb  2023-10-16 13:28:57   \n",
       "\n",
       "                            log  len_logs  type  \n",
       "4978   unexpected error occured         3     6  \n",
       "5008   unexpected error occured         3     6  \n",
       "5191   unexpected error occured         3     6  \n",
       "5192   unexpected error occured         3     6  \n",
       "5212   unexpected error occured         3     6  \n",
       "...                         ...       ...   ...  \n",
       "88834  unexpected error occured         3     6  \n",
       "88835  unexpected error occured         3     6  \n",
       "88841  unexpected error occured         3     6  \n",
       "88843  unexpected error occured         3     6  \n",
       "88844  unexpected error occured         3     6  \n",
       "\n",
       "[1346 rows x 5 columns]"
      ]
     },
     "execution_count": 43,
     "metadata": {},
     "output_type": "execute_result"
    }
   ],
   "source": [
    "data[data['type'] == 6]"
   ]
  },
  {
   "cell_type": "code",
   "execution_count": 88,
   "id": "97168901-0d5d-4ac0-92fb-aa299b22ae2f",
   "metadata": {},
   "outputs": [
    {
     "data": {
      "text/plain": [
       "1"
      ]
     },
     "execution_count": 88,
     "metadata": {},
     "output_type": "execute_result"
    }
   ],
   "source": [
    "data[data['type'] == 6].log.nunique()"
   ]
  },
  {
   "cell_type": "code",
   "execution_count": 89,
   "id": "0bb420a7-424e-47e1-abbd-78dd4ea88f17",
   "metadata": {},
   "outputs": [
    {
     "data": {
      "text/plain": [
       "'Unexpected error occured'"
      ]
     },
     "execution_count": 89,
     "metadata": {},
     "output_type": "execute_result"
    }
   ],
   "source": [
    "df.log[4978]"
   ]
  },
  {
   "cell_type": "code",
   "execution_count": null,
   "id": "1cae7c74-b175-4f8c-abed-1723cb8818f5",
   "metadata": {},
   "outputs": [],
   "source": []
  },
  {
   "cell_type": "markdown",
   "id": "20421c8f-ce52-46d0-88c9-49d579c9d04c",
   "metadata": {
    "jp-MarkdownHeadingCollapsed": true,
    "tags": []
   },
   "source": [
    "## 7 class"
   ]
  },
  {
   "cell_type": "code",
   "execution_count": 48,
   "id": "dfad7a58-e8d4-4708-92ba-2abacbb79ebc",
   "metadata": {
    "tags": []
   },
   "outputs": [
    {
     "data": {
      "text/html": [
       "<div>\n",
       "<style scoped>\n",
       "    .dataframe tbody tr th:only-of-type {\n",
       "        vertical-align: middle;\n",
       "    }\n",
       "\n",
       "    .dataframe tbody tr th {\n",
       "        vertical-align: top;\n",
       "    }\n",
       "\n",
       "    .dataframe thead th {\n",
       "        text-align: right;\n",
       "    }\n",
       "</style>\n",
       "<table border=\"1\" class=\"dataframe\">\n",
       "  <thead>\n",
       "    <tr style=\"text-align: right;\">\n",
       "      <th></th>\n",
       "      <th>id</th>\n",
       "      <th>create_date</th>\n",
       "      <th>log</th>\n",
       "      <th>len_logs</th>\n",
       "      <th>type</th>\n",
       "    </tr>\n",
       "  </thead>\n",
       "  <tbody>\n",
       "    <tr>\n",
       "      <th>259</th>\n",
       "      <td>231c79e539fd4e44b3ef7058b6c5b634</td>\n",
       "      <td>2023-10-09 00:31:06</td>\n",
       "      <td>execution timeout expired timeout period elaps...</td>\n",
       "      <td>20</td>\n",
       "      <td>7</td>\n",
       "    </tr>\n",
       "    <tr>\n",
       "      <th>266</th>\n",
       "      <td>1e572b674f576143ad2d6fde97f9b54f</td>\n",
       "      <td>2023-10-09 00:31:08</td>\n",
       "      <td>execution timeout expired timeout period elaps...</td>\n",
       "      <td>20</td>\n",
       "      <td>7</td>\n",
       "    </tr>\n",
       "    <tr>\n",
       "      <th>270</th>\n",
       "      <td>e80967cf551b9d4d9389ce93c554231a</td>\n",
       "      <td>2023-10-09 00:31:10</td>\n",
       "      <td>execution timeout expired timeout period elaps...</td>\n",
       "      <td>20</td>\n",
       "      <td>7</td>\n",
       "    </tr>\n",
       "    <tr>\n",
       "      <th>275</th>\n",
       "      <td>e80967cf551b9d4d9389ce93c554231a</td>\n",
       "      <td>2023-10-09 00:31:11</td>\n",
       "      <td>execution timeout expired timeout period elaps...</td>\n",
       "      <td>20</td>\n",
       "      <td>7</td>\n",
       "    </tr>\n",
       "    <tr>\n",
       "      <th>283</th>\n",
       "      <td>e80967cf551b9d4d9389ce93c554231a</td>\n",
       "      <td>2023-10-09 00:31:26</td>\n",
       "      <td>execution timeout expired timeout period elaps...</td>\n",
       "      <td>20</td>\n",
       "      <td>7</td>\n",
       "    </tr>\n",
       "    <tr>\n",
       "      <th>...</th>\n",
       "      <td>...</td>\n",
       "      <td>...</td>\n",
       "      <td>...</td>\n",
       "      <td>...</td>\n",
       "      <td>...</td>\n",
       "    </tr>\n",
       "    <tr>\n",
       "      <th>88092</th>\n",
       "      <td>ce7ddad61acabd42b51076a6c6996ea3</td>\n",
       "      <td>2023-10-16 09:01:10</td>\n",
       "      <td>execution timeout expired timeout period elaps...</td>\n",
       "      <td>20</td>\n",
       "      <td>7</td>\n",
       "    </tr>\n",
       "    <tr>\n",
       "      <th>88396</th>\n",
       "      <td>d8471e9278e41f4982286868f82ed0c2</td>\n",
       "      <td>2023-10-16 11:01:15</td>\n",
       "      <td>execution timeout expired timeout period elaps...</td>\n",
       "      <td>20</td>\n",
       "      <td>7</td>\n",
       "    </tr>\n",
       "    <tr>\n",
       "      <th>88548</th>\n",
       "      <td>ca2b3893caff4843b7dc1b82a2cc3e79</td>\n",
       "      <td>2023-10-16 12:01:02</td>\n",
       "      <td>execution timeout expired timeout period elaps...</td>\n",
       "      <td>20</td>\n",
       "      <td>7</td>\n",
       "    </tr>\n",
       "    <tr>\n",
       "      <th>88551</th>\n",
       "      <td>aace3e6275c1734bb229bc6c5634a4e9</td>\n",
       "      <td>2023-10-16 12:01:02</td>\n",
       "      <td>execution timeout expired timeout period elaps...</td>\n",
       "      <td>20</td>\n",
       "      <td>7</td>\n",
       "    </tr>\n",
       "    <tr>\n",
       "      <th>88786</th>\n",
       "      <td>fb7c817307586047a12abb9154133886</td>\n",
       "      <td>2023-10-16 13:01:04</td>\n",
       "      <td>execution timeout expired timeout period elaps...</td>\n",
       "      <td>20</td>\n",
       "      <td>7</td>\n",
       "    </tr>\n",
       "  </tbody>\n",
       "</table>\n",
       "<p>5033 rows × 5 columns</p>\n",
       "</div>"
      ],
      "text/plain": [
       "                                     id          create_date  \\\n",
       "259    231c79e539fd4e44b3ef7058b6c5b634  2023-10-09 00:31:06   \n",
       "266    1e572b674f576143ad2d6fde97f9b54f  2023-10-09 00:31:08   \n",
       "270    e80967cf551b9d4d9389ce93c554231a  2023-10-09 00:31:10   \n",
       "275    e80967cf551b9d4d9389ce93c554231a  2023-10-09 00:31:11   \n",
       "283    e80967cf551b9d4d9389ce93c554231a  2023-10-09 00:31:26   \n",
       "...                                 ...                  ...   \n",
       "88092  ce7ddad61acabd42b51076a6c6996ea3  2023-10-16 09:01:10   \n",
       "88396  d8471e9278e41f4982286868f82ed0c2  2023-10-16 11:01:15   \n",
       "88548  ca2b3893caff4843b7dc1b82a2cc3e79  2023-10-16 12:01:02   \n",
       "88551  aace3e6275c1734bb229bc6c5634a4e9  2023-10-16 12:01:02   \n",
       "88786  fb7c817307586047a12abb9154133886  2023-10-16 13:01:04   \n",
       "\n",
       "                                                     log  len_logs  type  \n",
       "259    execution timeout expired timeout period elaps...        20     7  \n",
       "266    execution timeout expired timeout period elaps...        20     7  \n",
       "270    execution timeout expired timeout period elaps...        20     7  \n",
       "275    execution timeout expired timeout period elaps...        20     7  \n",
       "283    execution timeout expired timeout period elaps...        20     7  \n",
       "...                                                  ...       ...   ...  \n",
       "88092  execution timeout expired timeout period elaps...        20     7  \n",
       "88396  execution timeout expired timeout period elaps...        20     7  \n",
       "88548  execution timeout expired timeout period elaps...        20     7  \n",
       "88551  execution timeout expired timeout period elaps...        20     7  \n",
       "88786  execution timeout expired timeout period elaps...        20     7  \n",
       "\n",
       "[5033 rows x 5 columns]"
      ]
     },
     "execution_count": 48,
     "metadata": {},
     "output_type": "execute_result"
    }
   ],
   "source": [
    "data[data['type'] == 7]"
   ]
  },
  {
   "cell_type": "code",
   "execution_count": 90,
   "id": "30b142c9-1468-41bd-a2e9-f9803760211e",
   "metadata": {},
   "outputs": [
    {
     "data": {
      "text/plain": [
       "3"
      ]
     },
     "execution_count": 90,
     "metadata": {},
     "output_type": "execute_result"
    }
   ],
   "source": [
    "data[data['type'] == 7].log.nunique()"
   ]
  },
  {
   "cell_type": "code",
   "execution_count": 91,
   "id": "3fe699db-c2b2-41df-a26c-32848d3d87c5",
   "metadata": {},
   "outputs": [
    {
     "data": {
      "text/plain": [
       "array(['execution timeout expired timeout period elapsed prior completion operation server responding',\n",
       "       'execution timeout expired timeout period elapsed prior completion operation server responding _x000d_ operation cancelled user _x000d_ statement terminated',\n",
       "       'execution timeout expired timeout period elapsed prior completion operation server responding _x000d_ operation cancelled user'],\n",
       "      dtype=object)"
      ]
     },
     "execution_count": 91,
     "metadata": {},
     "output_type": "execute_result"
    }
   ],
   "source": [
    "data[data['type'] == 7].log.unique()"
   ]
  },
  {
   "cell_type": "code",
   "execution_count": 92,
   "id": "ed79142c-8fca-45bb-9f94-16020b9c93ce",
   "metadata": {},
   "outputs": [
    {
     "data": {
      "text/plain": [
       "'Execution Timeout Expired.  The timeout period elapsed prior to completion of the operation or the server is not responding.'"
      ]
     },
     "execution_count": 92,
     "metadata": {},
     "output_type": "execute_result"
    }
   ],
   "source": [
    "df.log[88548]"
   ]
  },
  {
   "cell_type": "code",
   "execution_count": 93,
   "id": "b1e57b0f-c994-4d99-9a30-072c7bb5c451",
   "metadata": {},
   "outputs": [
    {
     "data": {
      "text/plain": [
       "'Execution Timeout Expired.  The timeout period elapsed prior to completion of the operation or the server is not responding.'"
      ]
     },
     "execution_count": 93,
     "metadata": {},
     "output_type": "execute_result"
    }
   ],
   "source": [
    "df.log[270]"
   ]
  },
  {
   "cell_type": "markdown",
   "id": "b3d7a698-9d0d-4991-86f4-4d3973ea69af",
   "metadata": {},
   "source": [
    "До завершения операции истек период таймаута или сервер не отвечает"
   ]
  },
  {
   "cell_type": "markdown",
   "id": "56b60be7-d5fb-42b6-8986-f5122d27a087",
   "metadata": {},
   "source": [
    "## operation cancelled"
   ]
  },
  {
   "cell_type": "markdown",
   "id": "af1f1e4b-d323-4116-8ccf-5cbf44a7abe3",
   "metadata": {
    "tags": []
   },
   "source": [
    "## 5 class"
   ]
  },
  {
   "cell_type": "code",
   "execution_count": 23,
   "id": "fa387327-2073-451d-9c07-6866fc70b023",
   "metadata": {
    "tags": []
   },
   "outputs": [
    {
     "data": {
      "text/html": [
       "<div>\n",
       "<style scoped>\n",
       "    .dataframe tbody tr th:only-of-type {\n",
       "        vertical-align: middle;\n",
       "    }\n",
       "\n",
       "    .dataframe tbody tr th {\n",
       "        vertical-align: top;\n",
       "    }\n",
       "\n",
       "    .dataframe thead th {\n",
       "        text-align: right;\n",
       "    }\n",
       "</style>\n",
       "<table border=\"1\" class=\"dataframe\">\n",
       "  <thead>\n",
       "    <tr style=\"text-align: right;\">\n",
       "      <th></th>\n",
       "      <th>id</th>\n",
       "      <th>create_date</th>\n",
       "      <th>log</th>\n",
       "      <th>len_logs</th>\n",
       "      <th>type</th>\n",
       "    </tr>\n",
       "  </thead>\n",
       "  <tbody>\n",
       "    <tr>\n",
       "      <th>5</th>\n",
       "      <td>c3a26e908605084180b05f77c367a8a0</td>\n",
       "      <td>2023-10-09 00:00:09</td>\n",
       "      <td>unable process onflushdirty interceptors</td>\n",
       "      <td>5</td>\n",
       "      <td>5</td>\n",
       "    </tr>\n",
       "    <tr>\n",
       "      <th>7</th>\n",
       "      <td>c3a26e908605084180b05f77c367a8a0</td>\n",
       "      <td>2023-10-09 00:00:09</td>\n",
       "      <td>system invalidoperationexception прямой закуки...</td>\n",
       "      <td>129</td>\n",
       "      <td>5</td>\n",
       "    </tr>\n",
       "    <tr>\n",
       "      <th>8</th>\n",
       "      <td>c3a26e908605084180b05f77c367a8a0</td>\n",
       "      <td>2023-10-09 00:00:09</td>\n",
       "      <td>execution error job granit cssp jobs purchaser...</td>\n",
       "      <td>8</td>\n",
       "      <td>5</td>\n",
       "    </tr>\n",
       "    <tr>\n",
       "      <th>48</th>\n",
       "      <td>b3b16fc1dd1dfdad41fa2ecd054ec7d0</td>\n",
       "      <td>2023-10-09 00:01:46</td>\n",
       "      <td>kaluga workflowid 6d7de862 fc5c 434f 93fc b7f6...</td>\n",
       "      <td>10</td>\n",
       "      <td>5</td>\n",
       "    </tr>\n",
       "    <tr>\n",
       "      <th>49</th>\n",
       "      <td>b3b16fc1dd1dfdad41fa2ecd054ec7d0</td>\n",
       "      <td>2023-10-09 00:01:49</td>\n",
       "      <td>unable verify save signature</td>\n",
       "      <td>6</td>\n",
       "      <td>5</td>\n",
       "    </tr>\n",
       "    <tr>\n",
       "      <th>...</th>\n",
       "      <td>...</td>\n",
       "      <td>...</td>\n",
       "      <td>...</td>\n",
       "      <td>...</td>\n",
       "      <td>...</td>\n",
       "    </tr>\n",
       "    <tr>\n",
       "      <th>88798</th>\n",
       "      <td>668cf9e46a6797c5a2e9b298a87962f3</td>\n",
       "      <td>2023-10-16 13:09:07</td>\n",
       "      <td>unable process command 0332a1eb 0f0f 46cd 9e27...</td>\n",
       "      <td>7</td>\n",
       "      <td>5</td>\n",
       "    </tr>\n",
       "    <tr>\n",
       "      <th>88803</th>\n",
       "      <td>668cf9e46a6797c5a2e9b298a87962f3</td>\n",
       "      <td>2023-10-16 13:11:04</td>\n",
       "      <td>unable verify save signature</td>\n",
       "      <td>6</td>\n",
       "      <td>5</td>\n",
       "    </tr>\n",
       "    <tr>\n",
       "      <th>88840</th>\n",
       "      <td>a46c445cb8d9d798d88187a8fc5c8979</td>\n",
       "      <td>2023-10-16 13:25:06</td>\n",
       "      <td>unable process command 599cf799 9c32 4196 8e4a...</td>\n",
       "      <td>7</td>\n",
       "      <td>5</td>\n",
       "    </tr>\n",
       "    <tr>\n",
       "      <th>88842</th>\n",
       "      <td>105608a098ede2ebc78155639622b245</td>\n",
       "      <td>2023-10-16 13:28:07</td>\n",
       "      <td>unable process command fbbb6e9e 13cc 45cd 8850...</td>\n",
       "      <td>7</td>\n",
       "      <td>5</td>\n",
       "    </tr>\n",
       "    <tr>\n",
       "      <th>88854</th>\n",
       "      <td>a8c064cea3793cbc25117db42bfefc0d</td>\n",
       "      <td>2023-10-16 13:30:17</td>\n",
       "      <td>unable process command 00fa120e fbe0 4d7b bce9...</td>\n",
       "      <td>7</td>\n",
       "      <td>5</td>\n",
       "    </tr>\n",
       "  </tbody>\n",
       "</table>\n",
       "<p>19446 rows × 5 columns</p>\n",
       "</div>"
      ],
      "text/plain": [
       "                                     id          create_date  \\\n",
       "5      c3a26e908605084180b05f77c367a8a0  2023-10-09 00:00:09   \n",
       "7      c3a26e908605084180b05f77c367a8a0  2023-10-09 00:00:09   \n",
       "8      c3a26e908605084180b05f77c367a8a0  2023-10-09 00:00:09   \n",
       "48     b3b16fc1dd1dfdad41fa2ecd054ec7d0  2023-10-09 00:01:46   \n",
       "49     b3b16fc1dd1dfdad41fa2ecd054ec7d0  2023-10-09 00:01:49   \n",
       "...                                 ...                  ...   \n",
       "88798  668cf9e46a6797c5a2e9b298a87962f3  2023-10-16 13:09:07   \n",
       "88803  668cf9e46a6797c5a2e9b298a87962f3  2023-10-16 13:11:04   \n",
       "88840  a46c445cb8d9d798d88187a8fc5c8979  2023-10-16 13:25:06   \n",
       "88842  105608a098ede2ebc78155639622b245  2023-10-16 13:28:07   \n",
       "88854  a8c064cea3793cbc25117db42bfefc0d  2023-10-16 13:30:17   \n",
       "\n",
       "                                                     log  len_logs  type  \n",
       "5               unable process onflushdirty interceptors         5     5  \n",
       "7      system invalidoperationexception прямой закуки...       129     5  \n",
       "8      execution error job granit cssp jobs purchaser...         8     5  \n",
       "48     kaluga workflowid 6d7de862 fc5c 434f 93fc b7f6...        10     5  \n",
       "49                          unable verify save signature         6     5  \n",
       "...                                                  ...       ...   ...  \n",
       "88798  unable process command 0332a1eb 0f0f 46cd 9e27...         7     5  \n",
       "88803                       unable verify save signature         6     5  \n",
       "88840  unable process command 599cf799 9c32 4196 8e4a...         7     5  \n",
       "88842  unable process command fbbb6e9e 13cc 45cd 8850...         7     5  \n",
       "88854  unable process command 00fa120e fbe0 4d7b bce9...         7     5  \n",
       "\n",
       "[19446 rows x 5 columns]"
      ]
     },
     "execution_count": 23,
     "metadata": {},
     "output_type": "execute_result"
    }
   ],
   "source": [
    "data[data['type'] == 5]"
   ]
  },
  {
   "cell_type": "code",
   "execution_count": 24,
   "id": "193e7687-e177-46f6-89e5-2a58ee506b9d",
   "metadata": {},
   "outputs": [
    {
     "data": {
      "text/plain": [
       "4394"
      ]
     },
     "execution_count": 24,
     "metadata": {},
     "output_type": "execute_result"
    }
   ],
   "source": [
    "data[data['type'] == 5].log.nunique()"
   ]
  },
  {
   "cell_type": "markdown",
   "id": "37a8ed77-6b34-4020-8963-88b9ef8a39e3",
   "metadata": {},
   "source": [
    "слишком много различных логов, попробуем еще визульно оценить похожи ли они"
   ]
  },
  {
   "cell_type": "code",
   "execution_count": 25,
   "id": "e0401ec2-4d10-4c0e-abd4-8d5e00b221c7",
   "metadata": {},
   "outputs": [],
   "source": [
    "error_5 = list(data[data['type'] == 5].log.unique())"
   ]
  },
  {
   "cell_type": "code",
   "execution_count": 26,
   "id": "bdac4229-088d-4e4e-aac1-79daa700f634",
   "metadata": {
    "tags": []
   },
   "outputs": [
    {
     "name": "stdout",
     "output_type": "stream",
     "text": [
      " \n",
      "execution error job granit cssp jobs purchaserequest requestanswerexpiredtogglejob key 07ae0e0b d2d6 4b64 865e 4cc382534059 args id 14101044\n",
      " \n",
      "kaluga workflowid 6d7de862 fc5c 434f 93fc b7f69fd54704 unable get workflow documents sessionid 8d705d9e bf21 46b7 a4fd 00829e75a704\n",
      " \n",
      "unable verify save signature\n",
      " \n",
      "kaluga workflowid a92fd3f8 4318 4b37 a367 790f4288f2c1 unable get workflow documents sessionid 8d705d9e bf21 46b7 a4fd 00829e75a704\n",
      " \n",
      "kaluga workflowid 82f94a42 e9a1 4c91 af3d 315453ceeca9 unable get workflow documents sessionid 8d705d9e bf21 46b7 a4fd 00829e75a704\n",
      " \n",
      "kaluga workflowid d3e1258e 9a3b 48d6 bf07 8871a3f44472 unable get workflow documents sessionid 8d705d9e bf21 46b7 a4fd 00829e75a704\n",
      " \n",
      "kaluga workflowid a59dc7bd 5238 40e2 9f82 9ad0919ecf35 unable get workflow documents sessionid 8d705d9e bf21 46b7 a4fd 00829e75a704\n",
      " \n",
      "kaluga workflowid 89c21f3c f260 4b2a 899d f1c73f0b8766 unable get workflow documents sessionid 8d705d9e bf21 46b7 a4fd 00829e75a704\n"
     ]
    }
   ],
   "source": [
    "for i in range(2,10):\n",
    "    print(' ')\n",
    "    print(error_5[i])"
   ]
  },
  {
   "cell_type": "markdown",
   "id": "86a47eb5-757e-44db-a5a7-62c4bfd4a44f",
   "metadata": {},
   "source": [
    "### Посмотрим можно ли еще поделить эти классы"
   ]
  },
  {
   "cell_type": "code",
   "execution_count": 27,
   "id": "603ae1e4-195f-498c-a88d-ed3206b57094",
   "metadata": {},
   "outputs": [],
   "source": [
    "features_5 = vec.transform(data[data['type'] == 5].log.values)"
   ]
  },
  {
   "cell_type": "code",
   "execution_count": 104,
   "id": "18fbde33-92ba-4ae5-b357-f787ef9db716",
   "metadata": {},
   "outputs": [
    {
     "data": {
      "image/png": "[encoded data removed]",
      "text/plain": [
       "<Figure size 720x576 with 1 Axes>"
      ]
     },
     "metadata": {
      "needs_background": "light"
     },
     "output_type": "display_data"
    }
   ],
   "source": [
    "kmeans_results = []\n",
    "distances_sums = []\n",
    "MAX_K = 50\n",
    "k_values = list(range(1, MAX_K))\n",
    "\n",
    "for k in k_values:\n",
    "    kmeans = KMeans(n_clusters=k, max_iter=1000).fit(features_5)\n",
    "    kmeans_results.append(kmeans.labels_)\n",
    "    # Sum of squared distances of samples to their closest cluster center.     \n",
    "    distances_sums.append(kmeans.inertia_)\n",
    "\n",
    "plt.figure(figsize=(10,8))\n",
    "plt.rcParams.update({'font.size': 18})\n",
    "plt.plot(k_values, distances_sums)\n",
    "plt.xlabel(\"Количество кластеров\")\n",
    "plt.ylabel(\"Sum of squared distances\")\n",
    "plt.show()"
   ]
  },
  {
   "cell_type": "markdown",
   "id": "c54548c1-572c-4ba4-b524-8b4d2f0e0f54",
   "metadata": {},
   "source": [
    "#### поделили еще на 10 классов"
   ]
  },
  {
   "cell_type": "code",
   "execution_count": 28,
   "id": "d67f6fea-cc77-4896-b7ca-0e29cac03d18",
   "metadata": {},
   "outputs": [
    {
     "data": {
      "text/html": [
       "<style>#sk-container-id-2 {color: black;background-color: white;}#sk-container-id-2 pre{padding: 0;}#sk-container-id-2 div.sk-toggleable {background-color: white;}#sk-container-id-2 label.sk-toggleable__label {cursor: pointer;display: block;width: 100%;margin-bottom: 0;padding: 0.3em;box-sizing: border-box;text-align: center;}#sk-container-id-2 label.sk-toggleable__label-arrow:before {content: \"▸\";float: left;margin-right: 0.25em;color: #696969;}#sk-container-id-2 label.sk-toggleable__label-arrow:hover:before {color: black;}#sk-container-id-2 div.sk-estimator:hover label.sk-toggleable__label-arrow:before {color: black;}#sk-container-id-2 div.sk-toggleable__content {max-height: 0;max-width: 0;overflow: hidden;text-align: left;background-color: #f0f8ff;}#sk-container-id-2 div.sk-toggleable__content pre {margin: 0.2em;color: black;border-radius: 0.25em;background-color: #f0f8ff;}#sk-container-id-2 input.sk-toggleable__control:checked~div.sk-toggleable__content {max-height: 200px;max-width: 100%;overflow: auto;}#sk-container-id-2 input.sk-toggleable__control:checked~label.sk-toggleable__label-arrow:before {content: \"▾\";}#sk-container-id-2 div.sk-estimator input.sk-toggleable__control:checked~label.sk-toggleable__label {background-color: #d4ebff;}#sk-container-id-2 div.sk-label input.sk-toggleable__control:checked~label.sk-toggleable__label {background-color: #d4ebff;}#sk-container-id-2 input.sk-hidden--visually {border: 0;clip: rect(1px 1px 1px 1px);clip: rect(1px, 1px, 1px, 1px);height: 1px;margin: -1px;overflow: hidden;padding: 0;position: absolute;width: 1px;}#sk-container-id-2 div.sk-estimator {font-family: monospace;background-color: #f0f8ff;border: 1px dotted black;border-radius: 0.25em;box-sizing: border-box;margin-bottom: 0.5em;}#sk-container-id-2 div.sk-estimator:hover {background-color: #d4ebff;}#sk-container-id-2 div.sk-parallel-item::after {content: \"\";width: 100%;border-bottom: 1px solid gray;flex-grow: 1;}#sk-container-id-2 div.sk-label:hover label.sk-toggleable__label {background-color: #d4ebff;}#sk-container-id-2 div.sk-serial::before {content: \"\";position: absolute;border-left: 1px solid gray;box-sizing: border-box;top: 0;bottom: 0;left: 50%;z-index: 0;}#sk-container-id-2 div.sk-serial {display: flex;flex-direction: column;align-items: center;background-color: white;padding-right: 0.2em;padding-left: 0.2em;position: relative;}#sk-container-id-2 div.sk-item {position: relative;z-index: 1;}#sk-container-id-2 div.sk-parallel {display: flex;align-items: stretch;justify-content: center;background-color: white;position: relative;}#sk-container-id-2 div.sk-item::before, #sk-container-id-2 div.sk-parallel-item::before {content: \"\";position: absolute;border-left: 1px solid gray;box-sizing: border-box;top: 0;bottom: 0;left: 50%;z-index: -1;}#sk-container-id-2 div.sk-parallel-item {display: flex;flex-direction: column;z-index: 1;position: relative;background-color: white;}#sk-container-id-2 div.sk-parallel-item:first-child::after {align-self: flex-end;width: 50%;}#sk-container-id-2 div.sk-parallel-item:last-child::after {align-self: flex-start;width: 50%;}#sk-container-id-2 div.sk-parallel-item:only-child::after {width: 0;}#sk-container-id-2 div.sk-dashed-wrapped {border: 1px dashed gray;margin: 0 0.4em 0.5em 0.4em;box-sizing: border-box;padding-bottom: 0.4em;background-color: white;}#sk-container-id-2 div.sk-label label {font-family: monospace;font-weight: bold;display: inline-block;line-height: 1.2em;}#sk-container-id-2 div.sk-label-container {text-align: center;}#sk-container-id-2 div.sk-container {/* jupyter's `normalize.less` sets `[hidden] { display: none; }` but bootstrap.min.css set `[hidden] { display: none !important; }` so we also need the `!important` here to be able to override the default hidden behavior on the sphinx rendered scikit-learn.org. See: https://github.com/scikit-learn/scikit-learn/issues/21755 */display: inline-block !important;position: relative;}#sk-container-id-2 div.sk-text-repr-fallback {display: none;}</style><div id=\"sk-container-id-2\" class=\"sk-top-container\"><div class=\"sk-text-repr-fallback\"><pre>MiniBatchKMeans(n_clusters=10, random_state=42)</pre><b>In a Jupyter environment, please rerun this cell to show the HTML representation or trust the notebook. <br />On GitHub, the HTML representation is unable to render, please try loading this page with nbviewer.org.</b></div><div class=\"sk-container\" hidden><div class=\"sk-item\"><div class=\"sk-estimator sk-toggleable\"><input class=\"sk-toggleable__control sk-hidden--visually\" id=\"sk-estimator-id-2\" type=\"checkbox\" checked><label for=\"sk-estimator-id-2\" class=\"sk-toggleable__label sk-toggleable__label-arrow\">MiniBatchKMeans</label><div class=\"sk-toggleable__content\"><pre>MiniBatchKMeans(n_clusters=10, random_state=42)</pre></div></div></div></div></div>"
      ],
      "text/plain": [
       "MiniBatchKMeans(n_clusters=10, random_state=42)"
      ]
     },
     "execution_count": 28,
     "metadata": {},
     "output_type": "execute_result"
    }
   ],
   "source": [
    "cls_5 = MiniBatchKMeans(n_clusters=10, random_state=random_state)\n",
    "cls_5.fit(features_5)"
   ]
  },
  {
   "cell_type": "code",
   "execution_count": 35,
   "id": "5a2c0243-d4fe-413a-ab37-92498698d088",
   "metadata": {},
   "outputs": [],
   "source": [
    "with open('kmeans_5g.pickle', 'wb') as f:\n",
    "    pickle.dump(cls_5, f)"
   ]
  },
  {
   "cell_type": "code",
   "execution_count": 29,
   "id": "4433d0e0-c641-43f0-a590-920ee59cb7a4",
   "metadata": {},
   "outputs": [
    {
     "data": {
      "text/plain": [
       "array([2, 2, 3, ..., 2, 2, 2], dtype=int32)"
      ]
     },
     "execution_count": 29,
     "metadata": {},
     "output_type": "execute_result"
    }
   ],
   "source": [
    "# predict cluster labels for new dataset\n",
    "cls_5.predict(features_5)\n",
    "\n",
    "# to get cluster labels for the dataset used while\n",
    "# training the model (used for models that does not\n",
    "# support prediction on new dataset).\n",
    "cls_5.labels_"
   ]
  },
  {
   "cell_type": "code",
   "execution_count": 30,
   "id": "6f6263ff-26a4-4766-a537-1cb891ec04c6",
   "metadata": {},
   "outputs": [],
   "source": [
    "data['type_5'] = 0"
   ]
  },
  {
   "cell_type": "code",
   "execution_count": 31,
   "id": "ee7a8dfa-233f-4c05-be34-0586bfa8ae18",
   "metadata": {},
   "outputs": [],
   "source": [
    "data_5cl = data[data['type'] == 5]\n",
    "data_5cl.reset_index(inplace=True)"
   ]
  },
  {
   "cell_type": "code",
   "execution_count": 32,
   "id": "c9643214-ef3f-4c68-9b3a-74c0b72e90bf",
   "metadata": {},
   "outputs": [],
   "source": [
    "data_5cl['type_5'] = cls_5.labels_"
   ]
  },
  {
   "cell_type": "code",
   "execution_count": 34,
   "id": "3d1dcc02-152a-41ba-af3a-5a3910625725",
   "metadata": {},
   "outputs": [
    {
     "data": {
      "text/html": [
       "<div>\n",
       "<style scoped>\n",
       "    .dataframe tbody tr th:only-of-type {\n",
       "        vertical-align: middle;\n",
       "    }\n",
       "\n",
       "    .dataframe tbody tr th {\n",
       "        vertical-align: top;\n",
       "    }\n",
       "\n",
       "    .dataframe thead th {\n",
       "        text-align: right;\n",
       "    }\n",
       "</style>\n",
       "<table border=\"1\" class=\"dataframe\">\n",
       "  <thead>\n",
       "    <tr style=\"text-align: right;\">\n",
       "      <th></th>\n",
       "      <th>index</th>\n",
       "      <th>id</th>\n",
       "      <th>create_date</th>\n",
       "      <th>log</th>\n",
       "      <th>len_logs</th>\n",
       "      <th>type</th>\n",
       "      <th>type_5</th>\n",
       "    </tr>\n",
       "  </thead>\n",
       "  <tbody>\n",
       "    <tr>\n",
       "      <th>0</th>\n",
       "      <td>5</td>\n",
       "      <td>c3a26e908605084180b05f77c367a8a0</td>\n",
       "      <td>2023-10-09 00:00:09</td>\n",
       "      <td>unable process onflushdirty interceptors</td>\n",
       "      <td>5</td>\n",
       "      <td>5</td>\n",
       "      <td>2</td>\n",
       "    </tr>\n",
       "    <tr>\n",
       "      <th>1</th>\n",
       "      <td>7</td>\n",
       "      <td>c3a26e908605084180b05f77c367a8a0</td>\n",
       "      <td>2023-10-09 00:00:09</td>\n",
       "      <td>system invalidoperationexception прямой закуки...</td>\n",
       "      <td>129</td>\n",
       "      <td>5</td>\n",
       "      <td>2</td>\n",
       "    </tr>\n",
       "    <tr>\n",
       "      <th>2</th>\n",
       "      <td>8</td>\n",
       "      <td>c3a26e908605084180b05f77c367a8a0</td>\n",
       "      <td>2023-10-09 00:00:09</td>\n",
       "      <td>execution error job granit cssp jobs purchaser...</td>\n",
       "      <td>8</td>\n",
       "      <td>5</td>\n",
       "      <td>3</td>\n",
       "    </tr>\n",
       "    <tr>\n",
       "      <th>3</th>\n",
       "      <td>48</td>\n",
       "      <td>b3b16fc1dd1dfdad41fa2ecd054ec7d0</td>\n",
       "      <td>2023-10-09 00:01:46</td>\n",
       "      <td>kaluga workflowid 6d7de862 fc5c 434f 93fc b7f6...</td>\n",
       "      <td>10</td>\n",
       "      <td>5</td>\n",
       "      <td>4</td>\n",
       "    </tr>\n",
       "    <tr>\n",
       "      <th>4</th>\n",
       "      <td>49</td>\n",
       "      <td>b3b16fc1dd1dfdad41fa2ecd054ec7d0</td>\n",
       "      <td>2023-10-09 00:01:49</td>\n",
       "      <td>unable verify save signature</td>\n",
       "      <td>6</td>\n",
       "      <td>5</td>\n",
       "      <td>2</td>\n",
       "    </tr>\n",
       "    <tr>\n",
       "      <th>...</th>\n",
       "      <td>...</td>\n",
       "      <td>...</td>\n",
       "      <td>...</td>\n",
       "      <td>...</td>\n",
       "      <td>...</td>\n",
       "      <td>...</td>\n",
       "      <td>...</td>\n",
       "    </tr>\n",
       "    <tr>\n",
       "      <th>19441</th>\n",
       "      <td>88798</td>\n",
       "      <td>668cf9e46a6797c5a2e9b298a87962f3</td>\n",
       "      <td>2023-10-16 13:09:07</td>\n",
       "      <td>unable process command 0332a1eb 0f0f 46cd 9e27...</td>\n",
       "      <td>7</td>\n",
       "      <td>5</td>\n",
       "      <td>2</td>\n",
       "    </tr>\n",
       "    <tr>\n",
       "      <th>19442</th>\n",
       "      <td>88803</td>\n",
       "      <td>668cf9e46a6797c5a2e9b298a87962f3</td>\n",
       "      <td>2023-10-16 13:11:04</td>\n",
       "      <td>unable verify save signature</td>\n",
       "      <td>6</td>\n",
       "      <td>5</td>\n",
       "      <td>2</td>\n",
       "    </tr>\n",
       "    <tr>\n",
       "      <th>19443</th>\n",
       "      <td>88840</td>\n",
       "      <td>a46c445cb8d9d798d88187a8fc5c8979</td>\n",
       "      <td>2023-10-16 13:25:06</td>\n",
       "      <td>unable process command 599cf799 9c32 4196 8e4a...</td>\n",
       "      <td>7</td>\n",
       "      <td>5</td>\n",
       "      <td>2</td>\n",
       "    </tr>\n",
       "    <tr>\n",
       "      <th>19444</th>\n",
       "      <td>88842</td>\n",
       "      <td>105608a098ede2ebc78155639622b245</td>\n",
       "      <td>2023-10-16 13:28:07</td>\n",
       "      <td>unable process command fbbb6e9e 13cc 45cd 8850...</td>\n",
       "      <td>7</td>\n",
       "      <td>5</td>\n",
       "      <td>2</td>\n",
       "    </tr>\n",
       "    <tr>\n",
       "      <th>19445</th>\n",
       "      <td>88854</td>\n",
       "      <td>a8c064cea3793cbc25117db42bfefc0d</td>\n",
       "      <td>2023-10-16 13:30:17</td>\n",
       "      <td>unable process command 00fa120e fbe0 4d7b bce9...</td>\n",
       "      <td>7</td>\n",
       "      <td>5</td>\n",
       "      <td>2</td>\n",
       "    </tr>\n",
       "  </tbody>\n",
       "</table>\n",
       "<p>19446 rows × 7 columns</p>\n",
       "</div>"
      ],
      "text/plain": [
       "       index                                id          create_date  \\\n",
       "0          5  c3a26e908605084180b05f77c367a8a0  2023-10-09 00:00:09   \n",
       "1          7  c3a26e908605084180b05f77c367a8a0  2023-10-09 00:00:09   \n",
       "2          8  c3a26e908605084180b05f77c367a8a0  2023-10-09 00:00:09   \n",
       "3         48  b3b16fc1dd1dfdad41fa2ecd054ec7d0  2023-10-09 00:01:46   \n",
       "4         49  b3b16fc1dd1dfdad41fa2ecd054ec7d0  2023-10-09 00:01:49   \n",
       "...      ...                               ...                  ...   \n",
       "19441  88798  668cf9e46a6797c5a2e9b298a87962f3  2023-10-16 13:09:07   \n",
       "19442  88803  668cf9e46a6797c5a2e9b298a87962f3  2023-10-16 13:11:04   \n",
       "19443  88840  a46c445cb8d9d798d88187a8fc5c8979  2023-10-16 13:25:06   \n",
       "19444  88842  105608a098ede2ebc78155639622b245  2023-10-16 13:28:07   \n",
       "19445  88854  a8c064cea3793cbc25117db42bfefc0d  2023-10-16 13:30:17   \n",
       "\n",
       "                                                     log  len_logs  type  \\\n",
       "0               unable process onflushdirty interceptors         5     5   \n",
       "1      system invalidoperationexception прямой закуки...       129     5   \n",
       "2      execution error job granit cssp jobs purchaser...         8     5   \n",
       "3      kaluga workflowid 6d7de862 fc5c 434f 93fc b7f6...        10     5   \n",
       "4                           unable verify save signature         6     5   \n",
       "...                                                  ...       ...   ...   \n",
       "19441  unable process command 0332a1eb 0f0f 46cd 9e27...         7     5   \n",
       "19442                       unable verify save signature         6     5   \n",
       "19443  unable process command 599cf799 9c32 4196 8e4a...         7     5   \n",
       "19444  unable process command fbbb6e9e 13cc 45cd 8850...         7     5   \n",
       "19445  unable process command 00fa120e fbe0 4d7b bce9...         7     5   \n",
       "\n",
       "       type_5  \n",
       "0           2  \n",
       "1           2  \n",
       "2           3  \n",
       "3           4  \n",
       "4           2  \n",
       "...       ...  \n",
       "19441       2  \n",
       "19442       2  \n",
       "19443       2  \n",
       "19444       2  \n",
       "19445       2  \n",
       "\n",
       "[19446 rows x 7 columns]"
      ]
     },
     "execution_count": 34,
     "metadata": {},
     "output_type": "execute_result"
    }
   ],
   "source": [
    "data_5cl"
   ]
  },
  {
   "cell_type": "code",
   "execution_count": 33,
   "id": "2fa61337-d788-48ea-823a-f3b97ece0a76",
   "metadata": {},
   "outputs": [
    {
     "name": "stdout",
     "output_type": "stream",
     "text": [
      "0 type 338\n",
      "1 type 640\n",
      "2 type 4188\n",
      "3 type 6717\n",
      "4 type 1349\n",
      "5 type 577\n",
      "6 type 286\n",
      "7 type 3587\n",
      "8 type 841\n",
      "9 type 923\n"
     ]
    }
   ],
   "source": [
    "print('0 type', len(data_5cl[data_5cl['type_5'] == 0]))\n",
    "print('1 type', len(data_5cl[data_5cl['type_5'] == 1]))\n",
    "print('2 type', len(data_5cl[data_5cl['type_5'] == 2]))\n",
    "print('3 type', len(data_5cl[data_5cl['type_5'] == 3]))\n",
    "print('4 type', len(data_5cl[data_5cl['type_5'] == 4]))\n",
    "print('5 type', len(data_5cl[data_5cl['type_5'] == 5]))\n",
    "print('6 type', len(data_5cl[data_5cl['type_5'] == 6]))\n",
    "print('7 type', len(data_5cl[data_5cl['type_5'] == 7]))\n",
    "print('8 type', len(data_5cl[data_5cl['type_5'] == 8]))\n",
    "print('9 type', len(data_5cl[data_5cl['type_5'] == 9]))"
   ]
  },
  {
   "cell_type": "code",
   "execution_count": 126,
   "id": "ccf4e126-84bb-452b-a6df-a002d804d6dc",
   "metadata": {},
   "outputs": [
    {
     "name": "stdout",
     "output_type": "stream",
     "text": [
      "Class 0 count unique log = 1\n",
      "Class 1 count unique log = 16\n",
      "Class 2 count unique log = 859\n",
      "Class 3 count unique log = 1803\n",
      "Class 4 count unique log = 743\n",
      "Class 5 count unique log = 5\n",
      "Class 6 count unique log = 2\n",
      "Class 7 count unique log = 94\n",
      "Class 8 count unique log = 173\n",
      "Class 9 count unique log = 698\n"
     ]
    }
   ],
   "source": [
    "for i in range(10):\n",
    "    d = data_5cl[data_5cl['type_5'] == i]\n",
    "    print(f'Class {i} count unique log = {d.log.nunique()}')"
   ]
  },
  {
   "cell_type": "code",
   "execution_count": 129,
   "id": "06808bdb-6ff1-440f-b462-dba3ee05d4b3",
   "metadata": {},
   "outputs": [
    {
     "name": "stdout",
     "output_type": "stream",
     "text": [
      "Class 0\n",
      "1878     ошибка выполнения подписчика событие завершени...\n",
      "11394    ошибка выполнения подписчика событие завершени...\n",
      "17154    ошибка выполнения подписчика событие завершени...\n",
      "12082    ошибка выполнения подписчика событие завершени...\n",
      "9889     ошибка выполнения подписчика событие завершени...\n",
      "Name: log, dtype: object\n",
      "Class 1\n",
      "3501     could execute query select cast count this_ id...\n",
      "14167    could execute query select cast sum this_ rubs...\n",
      "17076    could execute query select cast sum this_ rubs...\n",
      "18758    could execute query select cast sum this_ rubs...\n",
      "7076     could execute query select cast count this_ id...\n",
      "Name: log, dtype: object\n",
      "Class 2\n",
      "14538    проверка приглашений 70768471 5ff3 4a5b 9f37 b...\n",
      "700      unable process command c4905af1 cdb5 40b3 9221...\n",
      "9067     could execute query exec dbo getcontractaction...\n",
      "19429    unable process command 599cf799 9c32 4196 8e4a...\n",
      "1858     unhandled error pp3 publicapi shared contracta...\n",
      "Name: log, dtype: object\n",
      "Class 3\n",
      "8094     execution error job granit cssp jobs statistic...\n",
      "15065    execution error job granit cssp jobs statistic...\n",
      "5700     execution error job granit cssp jobs statistic...\n",
      "3508     execution error job granit cssp jobs statistic...\n",
      "7120     execution error job granit cssp jobs statistic...\n",
      "Name: log, dtype: object\n",
      "Class 4\n",
      "17672    kaluga workflowid f74c9514 b5f9 4135 bb40 cfb0...\n",
      "731      kaluga workflowid e958ea8f 503b 476e 8376 1eed...\n",
      "19008    kaluga workflowid 82f94a42 e9a1 4c91 af3d 3154...\n",
      "17556    kaluga workflowid a92fd3f8 4318 4b37 a367 790f...\n",
      "1045     kaluga workflowid 9609ba9d 4cfd 48bd ad63 53c4...\n",
      "Name: log, dtype: object\n",
      "Class 5\n",
      "330      could execute query select offer0_ id col_0_0_...\n",
      "12863    could execute query select offer0_ supplierid ...\n",
      "5055     could execute query select offer0_ id col_0_0_...\n",
      "8022     could execute query select offer0_ id id1_130_...\n",
      "2964     could execute query select offer0_ id col_0_0_...\n",
      "Name: log, dtype: object\n",
      "Class 6\n",
      "1310     ошибка получения файлов каталога nsi еис импор...\n",
      "11737    ошибка получения файлов каталога nsi еис импор...\n",
      "19135    ошибка получения файлов каталога nsi еис импор...\n",
      "1128     ошибка получения файлов каталога nsi еис импор...\n",
      "4138     ошибка опросе очереди результатов подписания п...\n",
      "Name: log, dtype: object\n",
      "Class 7\n",
      "16118    could execute query select sku3_ id y0_ contra...\n",
      "12917    could execute query select reg2_ hierarchyleft...\n",
      "17908    could execute query select reg2_ hierarchyleft...\n",
      "16540    could execute query select sum this_ offercoun...\n",
      "13412    could execute query select sum this_ offercoun...\n",
      "Name: log, dtype: object\n",
      "Class 8\n",
      "9960     unable process command cce416e5 4ed6 410b 8323...\n",
      "2136     unable process command e34675ee 29b3 4e49 b068...\n",
      "11399    unable process command ea18d94e e4f2 4bf6 9cf5...\n",
      "8254     exception sendcommand command dbe1ff58 f975 40...\n",
      "11777    unhandled exception action execution thrown re...\n",
      "Name: log, dtype: object\n",
      "Class 9\n",
      "5352     immediate job 36922f2a 4427 4e71 8801 7ca0725f...\n",
      "2688     immediate job 72b5703b f08a 478e 98ae ea6bfa41...\n",
      "5436     immediate job 98d110b6 c44c 44d7 a448 a77ffe34...\n",
      "627      immediate job b02e97b7 ad7e 4e16 88dc a780df2e...\n",
      "17780    immediate job 146099f5 f6b9 449d b9d1 b22d7852...\n",
      "Name: log, dtype: object\n"
     ]
    }
   ],
   "source": [
    "for i in range(10):\n",
    "    d = data_5cl[data_5cl['type_5'] == i]\n",
    "    print(f'Class {i}')\n",
    "    print(d.log.sample(5))"
   ]
  },
  {
   "cell_type": "code",
   "execution_count": 132,
   "id": "4f65a159-d9e7-46bd-8262-b36e875ac241",
   "metadata": {},
   "outputs": [
    {
     "data": {
      "text/html": [
       "<div>\n",
       "<style scoped>\n",
       "    .dataframe tbody tr th:only-of-type {\n",
       "        vertical-align: middle;\n",
       "    }\n",
       "\n",
       "    .dataframe tbody tr th {\n",
       "        vertical-align: top;\n",
       "    }\n",
       "\n",
       "    .dataframe thead th {\n",
       "        text-align: right;\n",
       "    }\n",
       "</style>\n",
       "<table border=\"1\" class=\"dataframe\">\n",
       "  <thead>\n",
       "    <tr style=\"text-align: right;\">\n",
       "      <th></th>\n",
       "      <th>id</th>\n",
       "      <th>create_date</th>\n",
       "      <th>log</th>\n",
       "      <th>len_logs</th>\n",
       "      <th>type</th>\n",
       "      <th>target</th>\n",
       "      <th>type_5</th>\n",
       "    </tr>\n",
       "  </thead>\n",
       "  <tbody>\n",
       "    <tr>\n",
       "      <th>1202</th>\n",
       "      <td>7cd4e04142ca9bdc8b0e5dc81f6e667c</td>\n",
       "      <td>2023-10-09 06:01:27</td>\n",
       "      <td>connection id 18014398536862455282 request id ...</td>\n",
       "      <td>14</td>\n",
       "      <td>5</td>\n",
       "      <td>0</td>\n",
       "      <td>8</td>\n",
       "    </tr>\n",
       "    <tr>\n",
       "      <th>1342</th>\n",
       "      <td>713b7aa10aabd6ba828cc0872c4dc397</td>\n",
       "      <td>2023-10-09 07:40:36</td>\n",
       "      <td>connection id 17005592224626426334 request id ...</td>\n",
       "      <td>14</td>\n",
       "      <td>5</td>\n",
       "      <td>0</td>\n",
       "      <td>8</td>\n",
       "    </tr>\n",
       "    <tr>\n",
       "      <th>1343</th>\n",
       "      <td>3f230c6dd7557ec66b9b9917947e34c0</td>\n",
       "      <td>2023-10-09 07:40:36</td>\n",
       "      <td>connection id 16573246647513940097 request id ...</td>\n",
       "      <td>14</td>\n",
       "      <td>5</td>\n",
       "      <td>0</td>\n",
       "      <td>8</td>\n",
       "    </tr>\n",
       "    <tr>\n",
       "      <th>1344</th>\n",
       "      <td>b7364deb0c8736e748564846f2ce4e87</td>\n",
       "      <td>2023-10-09 07:40:36</td>\n",
       "      <td>connection id 17798225754748677937 request id ...</td>\n",
       "      <td>14</td>\n",
       "      <td>5</td>\n",
       "      <td>0</td>\n",
       "      <td>8</td>\n",
       "    </tr>\n",
       "    <tr>\n",
       "      <th>1380</th>\n",
       "      <td>869b4e40d337f783fd980d4afcb775bf</td>\n",
       "      <td>2023-10-09 08:19:06</td>\n",
       "      <td>exception sendcommand command c2e014aa c923 43...</td>\n",
       "      <td>6</td>\n",
       "      <td>5</td>\n",
       "      <td>0</td>\n",
       "      <td>8</td>\n",
       "    </tr>\n",
       "    <tr>\n",
       "      <th>...</th>\n",
       "      <td>...</td>\n",
       "      <td>...</td>\n",
       "      <td>...</td>\n",
       "      <td>...</td>\n",
       "      <td>...</td>\n",
       "      <td>...</td>\n",
       "      <td>...</td>\n",
       "    </tr>\n",
       "    <tr>\n",
       "      <th>19363</th>\n",
       "      <td>033a6ac520d958ad6984abf1116391e4</td>\n",
       "      <td>2023-10-16 12:00:01</td>\n",
       "      <td>exception occurred processing message</td>\n",
       "      <td>5</td>\n",
       "      <td>5</td>\n",
       "      <td>0</td>\n",
       "      <td>8</td>\n",
       "    </tr>\n",
       "    <tr>\n",
       "      <th>19364</th>\n",
       "      <td>b9267c4a3e6bffdc4a3c1e6be061e78e</td>\n",
       "      <td>2023-10-16 12:00:01</td>\n",
       "      <td>exception occurred processing message</td>\n",
       "      <td>5</td>\n",
       "      <td>5</td>\n",
       "      <td>0</td>\n",
       "      <td>8</td>\n",
       "    </tr>\n",
       "    <tr>\n",
       "      <th>19398</th>\n",
       "      <td>967862be5f204042eb7a2f9df640507b</td>\n",
       "      <td>2023-10-16 12:26:15</td>\n",
       "      <td>unhandled exception action execution thrown re...</td>\n",
       "      <td>9</td>\n",
       "      <td>5</td>\n",
       "      <td>0</td>\n",
       "      <td>8</td>\n",
       "    </tr>\n",
       "    <tr>\n",
       "      <th>19415</th>\n",
       "      <td>442a35c9e43030c1865103bf36687291</td>\n",
       "      <td>2023-10-16 12:39:32</td>\n",
       "      <td>unhandled exception action execution thrown re...</td>\n",
       "      <td>9</td>\n",
       "      <td>5</td>\n",
       "      <td>0</td>\n",
       "      <td>8</td>\n",
       "    </tr>\n",
       "    <tr>\n",
       "      <th>19432</th>\n",
       "      <td>f82c8d295de78ede3caf8566e0c1606b</td>\n",
       "      <td>2023-10-16 12:58:59</td>\n",
       "      <td>unhandled exception action execution thrown re...</td>\n",
       "      <td>9</td>\n",
       "      <td>5</td>\n",
       "      <td>0</td>\n",
       "      <td>8</td>\n",
       "    </tr>\n",
       "  </tbody>\n",
       "</table>\n",
       "<p>841 rows × 7 columns</p>\n",
       "</div>"
      ],
      "text/plain": [
       "                                     id          create_date  \\\n",
       "1202   7cd4e04142ca9bdc8b0e5dc81f6e667c  2023-10-09 06:01:27   \n",
       "1342   713b7aa10aabd6ba828cc0872c4dc397  2023-10-09 07:40:36   \n",
       "1343   3f230c6dd7557ec66b9b9917947e34c0  2023-10-09 07:40:36   \n",
       "1344   b7364deb0c8736e748564846f2ce4e87  2023-10-09 07:40:36   \n",
       "1380   869b4e40d337f783fd980d4afcb775bf  2023-10-09 08:19:06   \n",
       "...                                 ...                  ...   \n",
       "19363  033a6ac520d958ad6984abf1116391e4  2023-10-16 12:00:01   \n",
       "19364  b9267c4a3e6bffdc4a3c1e6be061e78e  2023-10-16 12:00:01   \n",
       "19398  967862be5f204042eb7a2f9df640507b  2023-10-16 12:26:15   \n",
       "19415  442a35c9e43030c1865103bf36687291  2023-10-16 12:39:32   \n",
       "19432  f82c8d295de78ede3caf8566e0c1606b  2023-10-16 12:58:59   \n",
       "\n",
       "                                                     log  len_logs  type  \\\n",
       "1202   connection id 18014398536862455282 request id ...        14     5   \n",
       "1342   connection id 17005592224626426334 request id ...        14     5   \n",
       "1343   connection id 16573246647513940097 request id ...        14     5   \n",
       "1344   connection id 17798225754748677937 request id ...        14     5   \n",
       "1380   exception sendcommand command c2e014aa c923 43...         6     5   \n",
       "...                                                  ...       ...   ...   \n",
       "19363              exception occurred processing message         5     5   \n",
       "19364              exception occurred processing message         5     5   \n",
       "19398  unhandled exception action execution thrown re...         9     5   \n",
       "19415  unhandled exception action execution thrown re...         9     5   \n",
       "19432  unhandled exception action execution thrown re...         9     5   \n",
       "\n",
       "       target  type_5  \n",
       "1202        0       8  \n",
       "1342        0       8  \n",
       "1343        0       8  \n",
       "1344        0       8  \n",
       "1380        0       8  \n",
       "...       ...     ...  \n",
       "19363       0       8  \n",
       "19364       0       8  \n",
       "19398       0       8  \n",
       "19415       0       8  \n",
       "19432       0       8  \n",
       "\n",
       "[841 rows x 7 columns]"
      ]
     },
     "execution_count": 132,
     "metadata": {},
     "output_type": "execute_result"
    }
   ],
   "source": [
    "data_5cl[data_5cl['type_5'] == 8]"
   ]
  },
  {
   "cell_type": "code",
   "execution_count": 134,
   "id": "ce5429e5-a78f-4f4c-98e1-8f8a3e35a616",
   "metadata": {},
   "outputs": [
    {
     "data": {
      "text/plain": [
       "'unhandled exception action execution thrown reverting transaction'"
      ]
     },
     "execution_count": 134,
     "metadata": {},
     "output_type": "execute_result"
    }
   ],
   "source": [
    "data_5cl[data_5cl['type_5'] == 8].log[19398]"
   ]
  },
  {
   "cell_type": "code",
   "execution_count": 196,
   "id": "8fedafab-c87e-45df-a9cd-979c8cbf0c08",
   "metadata": {},
   "outputs": [
    {
     "data": {
      "text/plain": [
       "'exception sendcommand command dbe1ff58 f975 40e8 804b 18b9588f0b64 type 55493482 0ae4 4bb2 885c a7033beff131'"
      ]
     },
     "execution_count": 196,
     "metadata": {},
     "output_type": "execute_result"
    }
   ],
   "source": [
    "data_5cl[data_5cl['type_5'] == 8].log[8254]"
   ]
  },
  {
   "cell_type": "code",
   "execution_count": 135,
   "id": "02f5d508-9918-4ac4-9968-42e25d2e196b",
   "metadata": {},
   "outputs": [
    {
     "data": {
      "text/plain": [
       "'exception sendcommand command c2e014aa c923 438c 8f1a d859a7fac93d type e5cca3a7 d738 4b7c 928a 4c147db8e00b'"
      ]
     },
     "execution_count": 135,
     "metadata": {},
     "output_type": "execute_result"
    }
   ],
   "source": [
    "data_5cl[data_5cl['type_5'] == 8].log[1380]"
   ]
  },
  {
   "cell_type": "markdown",
   "id": "e6c36790-06bc-4341-9221-a46e5b8b25a1",
   "metadata": {},
   "source": [
    "отбросить immidiete job - дублируют первую"
   ]
  },
  {
   "cell_type": "markdown",
   "id": "85687c45-f25c-435b-90d6-5d158ea4f291",
   "metadata": {},
   "source": [
    "- 8 класс - исключение \n",
    "- 1, 5, 7 - ошибка в исполнении sql запроса\n",
    "- 3 класс - ошибка выполнения задачи, нужно смотреть на лог выше\n",
    "- 2 класс -\n",
    "- 4 класс -\n",
    "- 6 класс -"
   ]
  },
  {
   "cell_type": "code",
   "execution_count": null,
   "id": "2c4df67e-48b6-4a72-a397-7228735983f6",
   "metadata": {},
   "outputs": [],
   "source": []
  },
  {
   "cell_type": "markdown",
   "id": "5f96bf4f-8b41-411c-8b2f-d228efcf1126",
   "metadata": {},
   "source": [
    "классы 1, 5, 7 - sql"
   ]
  },
  {
   "cell_type": "code",
   "execution_count": 130,
   "id": "98b3435f-baab-4146-b1f0-c52ee8e7be43",
   "metadata": {},
   "outputs": [
    {
     "data": {
      "text/plain": [
       "'Unable to send CreateAuction in external system OpId:25a2b471-0bdc-4d46-8592-3c9a2715c1de'"
      ]
     },
     "execution_count": 130,
     "metadata": {},
     "output_type": "execute_result"
    }
   ],
   "source": [
    "df.log[5352]"
   ]
  },
  {
   "cell_type": "markdown",
   "id": "9d7510d8-f48d-4386-91e9-e580ceb6c701",
   "metadata": {},
   "source": [
    "#### Соединим датасеты"
   ]
  },
  {
   "cell_type": "code",
   "execution_count": 62,
   "id": "847d679d-66e8-48a0-8def-772ac0e3981d",
   "metadata": {},
   "outputs": [
    {
     "data": {
      "text/html": [
       "<div>\n",
       "<style scoped>\n",
       "    .dataframe tbody tr th:only-of-type {\n",
       "        vertical-align: middle;\n",
       "    }\n",
       "\n",
       "    .dataframe tbody tr th {\n",
       "        vertical-align: top;\n",
       "    }\n",
       "\n",
       "    .dataframe thead th {\n",
       "        text-align: right;\n",
       "    }\n",
       "</style>\n",
       "<table border=\"1\" class=\"dataframe\">\n",
       "  <thead>\n",
       "    <tr style=\"text-align: right;\">\n",
       "      <th></th>\n",
       "      <th>index_new</th>\n",
       "      <th>id</th>\n",
       "      <th>create_date</th>\n",
       "      <th>log</th>\n",
       "      <th>len_logs</th>\n",
       "      <th>type</th>\n",
       "      <th>type_5</th>\n",
       "    </tr>\n",
       "  </thead>\n",
       "  <tbody>\n",
       "    <tr>\n",
       "      <th>0</th>\n",
       "      <td>5</td>\n",
       "      <td>c3a26e908605084180b05f77c367a8a0</td>\n",
       "      <td>2023-10-09 00:00:09</td>\n",
       "      <td>unable process onflushdirty interceptors</td>\n",
       "      <td>5</td>\n",
       "      <td>5</td>\n",
       "      <td>2</td>\n",
       "    </tr>\n",
       "    <tr>\n",
       "      <th>1</th>\n",
       "      <td>7</td>\n",
       "      <td>c3a26e908605084180b05f77c367a8a0</td>\n",
       "      <td>2023-10-09 00:00:09</td>\n",
       "      <td>system invalidoperationexception прямой закуки...</td>\n",
       "      <td>129</td>\n",
       "      <td>5</td>\n",
       "      <td>2</td>\n",
       "    </tr>\n",
       "    <tr>\n",
       "      <th>2</th>\n",
       "      <td>8</td>\n",
       "      <td>c3a26e908605084180b05f77c367a8a0</td>\n",
       "      <td>2023-10-09 00:00:09</td>\n",
       "      <td>execution error job granit cssp jobs purchaser...</td>\n",
       "      <td>8</td>\n",
       "      <td>5</td>\n",
       "      <td>3</td>\n",
       "    </tr>\n",
       "    <tr>\n",
       "      <th>3</th>\n",
       "      <td>48</td>\n",
       "      <td>b3b16fc1dd1dfdad41fa2ecd054ec7d0</td>\n",
       "      <td>2023-10-09 00:01:46</td>\n",
       "      <td>kaluga workflowid 6d7de862 fc5c 434f 93fc b7f6...</td>\n",
       "      <td>10</td>\n",
       "      <td>5</td>\n",
       "      <td>4</td>\n",
       "    </tr>\n",
       "    <tr>\n",
       "      <th>4</th>\n",
       "      <td>49</td>\n",
       "      <td>b3b16fc1dd1dfdad41fa2ecd054ec7d0</td>\n",
       "      <td>2023-10-09 00:01:49</td>\n",
       "      <td>unable verify save signature</td>\n",
       "      <td>6</td>\n",
       "      <td>5</td>\n",
       "      <td>2</td>\n",
       "    </tr>\n",
       "    <tr>\n",
       "      <th>...</th>\n",
       "      <td>...</td>\n",
       "      <td>...</td>\n",
       "      <td>...</td>\n",
       "      <td>...</td>\n",
       "      <td>...</td>\n",
       "      <td>...</td>\n",
       "      <td>...</td>\n",
       "    </tr>\n",
       "    <tr>\n",
       "      <th>19441</th>\n",
       "      <td>88798</td>\n",
       "      <td>668cf9e46a6797c5a2e9b298a87962f3</td>\n",
       "      <td>2023-10-16 13:09:07</td>\n",
       "      <td>unable process command 0332a1eb 0f0f 46cd 9e27...</td>\n",
       "      <td>7</td>\n",
       "      <td>5</td>\n",
       "      <td>2</td>\n",
       "    </tr>\n",
       "    <tr>\n",
       "      <th>19442</th>\n",
       "      <td>88803</td>\n",
       "      <td>668cf9e46a6797c5a2e9b298a87962f3</td>\n",
       "      <td>2023-10-16 13:11:04</td>\n",
       "      <td>unable verify save signature</td>\n",
       "      <td>6</td>\n",
       "      <td>5</td>\n",
       "      <td>2</td>\n",
       "    </tr>\n",
       "    <tr>\n",
       "      <th>19443</th>\n",
       "      <td>88840</td>\n",
       "      <td>a46c445cb8d9d798d88187a8fc5c8979</td>\n",
       "      <td>2023-10-16 13:25:06</td>\n",
       "      <td>unable process command 599cf799 9c32 4196 8e4a...</td>\n",
       "      <td>7</td>\n",
       "      <td>5</td>\n",
       "      <td>2</td>\n",
       "    </tr>\n",
       "    <tr>\n",
       "      <th>19444</th>\n",
       "      <td>88842</td>\n",
       "      <td>105608a098ede2ebc78155639622b245</td>\n",
       "      <td>2023-10-16 13:28:07</td>\n",
       "      <td>unable process command fbbb6e9e 13cc 45cd 8850...</td>\n",
       "      <td>7</td>\n",
       "      <td>5</td>\n",
       "      <td>2</td>\n",
       "    </tr>\n",
       "    <tr>\n",
       "      <th>19445</th>\n",
       "      <td>88854</td>\n",
       "      <td>a8c064cea3793cbc25117db42bfefc0d</td>\n",
       "      <td>2023-10-16 13:30:17</td>\n",
       "      <td>unable process command 00fa120e fbe0 4d7b bce9...</td>\n",
       "      <td>7</td>\n",
       "      <td>5</td>\n",
       "      <td>2</td>\n",
       "    </tr>\n",
       "  </tbody>\n",
       "</table>\n",
       "<p>19446 rows × 7 columns</p>\n",
       "</div>"
      ],
      "text/plain": [
       "       index_new                                id          create_date  \\\n",
       "0              5  c3a26e908605084180b05f77c367a8a0  2023-10-09 00:00:09   \n",
       "1              7  c3a26e908605084180b05f77c367a8a0  2023-10-09 00:00:09   \n",
       "2              8  c3a26e908605084180b05f77c367a8a0  2023-10-09 00:00:09   \n",
       "3             48  b3b16fc1dd1dfdad41fa2ecd054ec7d0  2023-10-09 00:01:46   \n",
       "4             49  b3b16fc1dd1dfdad41fa2ecd054ec7d0  2023-10-09 00:01:49   \n",
       "...          ...                               ...                  ...   \n",
       "19441      88798  668cf9e46a6797c5a2e9b298a87962f3  2023-10-16 13:09:07   \n",
       "19442      88803  668cf9e46a6797c5a2e9b298a87962f3  2023-10-16 13:11:04   \n",
       "19443      88840  a46c445cb8d9d798d88187a8fc5c8979  2023-10-16 13:25:06   \n",
       "19444      88842  105608a098ede2ebc78155639622b245  2023-10-16 13:28:07   \n",
       "19445      88854  a8c064cea3793cbc25117db42bfefc0d  2023-10-16 13:30:17   \n",
       "\n",
       "                                                     log  len_logs  type  \\\n",
       "0               unable process onflushdirty interceptors         5     5   \n",
       "1      system invalidoperationexception прямой закуки...       129     5   \n",
       "2      execution error job granit cssp jobs purchaser...         8     5   \n",
       "3      kaluga workflowid 6d7de862 fc5c 434f 93fc b7f6...        10     5   \n",
       "4                           unable verify save signature         6     5   \n",
       "...                                                  ...       ...   ...   \n",
       "19441  unable process command 0332a1eb 0f0f 46cd 9e27...         7     5   \n",
       "19442                       unable verify save signature         6     5   \n",
       "19443  unable process command 599cf799 9c32 4196 8e4a...         7     5   \n",
       "19444  unable process command fbbb6e9e 13cc 45cd 8850...         7     5   \n",
       "19445  unable process command 00fa120e fbe0 4d7b bce9...         7     5   \n",
       "\n",
       "       type_5  \n",
       "0           2  \n",
       "1           2  \n",
       "2           3  \n",
       "3           4  \n",
       "4           2  \n",
       "...       ...  \n",
       "19441       2  \n",
       "19442       2  \n",
       "19443       2  \n",
       "19444       2  \n",
       "19445       2  \n",
       "\n",
       "[19446 rows x 7 columns]"
      ]
     },
     "execution_count": 62,
     "metadata": {},
     "output_type": "execute_result"
    }
   ],
   "source": [
    "data_5cl"
   ]
  },
  {
   "cell_type": "code",
   "execution_count": 61,
   "id": "16925e54-0806-4952-97ef-9deaafc246fb",
   "metadata": {},
   "outputs": [],
   "source": [
    "data_5cl = data_5cl.rename(columns={'index':'index_new'})"
   ]
  },
  {
   "cell_type": "code",
   "execution_count": 70,
   "id": "e9d2959e-f0ad-429a-a4f3-42d657963b97",
   "metadata": {},
   "outputs": [],
   "source": [
    "# data.drop('type_5', axis=1, inplace=True)\n",
    "data['type_5'] = -1"
   ]
  },
  {
   "cell_type": "code",
   "execution_count": 57,
   "id": "dcb976bf-d7bb-4893-93c5-0932c9deab5c",
   "metadata": {},
   "outputs": [],
   "source": [
    "# data.reset_index(inplace=True)"
   ]
  },
  {
   "cell_type": "code",
   "execution_count": 58,
   "id": "5f358e14-f005-4e34-9b18-a0bdf7bd1152",
   "metadata": {},
   "outputs": [
    {
     "data": {
      "text/html": [
       "<div>\n",
       "<style scoped>\n",
       "    .dataframe tbody tr th:only-of-type {\n",
       "        vertical-align: middle;\n",
       "    }\n",
       "\n",
       "    .dataframe tbody tr th {\n",
       "        vertical-align: top;\n",
       "    }\n",
       "\n",
       "    .dataframe thead th {\n",
       "        text-align: right;\n",
       "    }\n",
       "</style>\n",
       "<table border=\"1\" class=\"dataframe\">\n",
       "  <thead>\n",
       "    <tr style=\"text-align: right;\">\n",
       "      <th></th>\n",
       "      <th>index</th>\n",
       "      <th>id</th>\n",
       "      <th>create_date</th>\n",
       "      <th>log</th>\n",
       "      <th>len_logs</th>\n",
       "      <th>type</th>\n",
       "      <th>type_5</th>\n",
       "    </tr>\n",
       "  </thead>\n",
       "  <tbody>\n",
       "    <tr>\n",
       "      <th>0</th>\n",
       "      <td>0</td>\n",
       "      <td>6424198940e01f33f8b596fa9fe7391c</td>\n",
       "      <td>2023-10-09 00:00:01</td>\n",
       "      <td>unable get integration token</td>\n",
       "      <td>5</td>\n",
       "      <td>3</td>\n",
       "      <td>0</td>\n",
       "    </tr>\n",
       "    <tr>\n",
       "      <th>1</th>\n",
       "      <td>1</td>\n",
       "      <td>9851574021c269d401accc3a1381259a</td>\n",
       "      <td>2023-10-09 00:00:02</td>\n",
       "      <td>unable get integration token</td>\n",
       "      <td>5</td>\n",
       "      <td>3</td>\n",
       "      <td>0</td>\n",
       "    </tr>\n",
       "    <tr>\n",
       "      <th>2</th>\n",
       "      <td>2</td>\n",
       "      <td>35f4f5fc4fdd12717347c2064729930e</td>\n",
       "      <td>2023-10-09 00:00:02</td>\n",
       "      <td>unable get integration token</td>\n",
       "      <td>5</td>\n",
       "      <td>3</td>\n",
       "      <td>0</td>\n",
       "    </tr>\n",
       "    <tr>\n",
       "      <th>3</th>\n",
       "      <td>3</td>\n",
       "      <td>49f9dc2cb58ab8db9f59b2487fbe0768</td>\n",
       "      <td>2023-10-09 00:00:02</td>\n",
       "      <td>unable get integration token</td>\n",
       "      <td>5</td>\n",
       "      <td>3</td>\n",
       "      <td>0</td>\n",
       "    </tr>\n",
       "    <tr>\n",
       "      <th>4</th>\n",
       "      <td>4</td>\n",
       "      <td>4f4830735dfc264fb40d1424e3e02bb2</td>\n",
       "      <td>2023-10-09 00:00:08</td>\n",
       "      <td>pp3 contracts dto contract action contractacti...</td>\n",
       "      <td>7</td>\n",
       "      <td>2</td>\n",
       "      <td>0</td>\n",
       "    </tr>\n",
       "    <tr>\n",
       "      <th>...</th>\n",
       "      <td>...</td>\n",
       "      <td>...</td>\n",
       "      <td>...</td>\n",
       "      <td>...</td>\n",
       "      <td>...</td>\n",
       "      <td>...</td>\n",
       "      <td>...</td>\n",
       "    </tr>\n",
       "    <tr>\n",
       "      <th>88850</th>\n",
       "      <td>88850</td>\n",
       "      <td>954c4593de12c14c8a51a08ae24f2cdf</td>\n",
       "      <td>2023-10-16 13:30:06</td>\n",
       "      <td>ошибка обработки запроса регистрацию изменение...</td>\n",
       "      <td>11</td>\n",
       "      <td>4</td>\n",
       "      <td>0</td>\n",
       "    </tr>\n",
       "    <tr>\n",
       "      <th>88851</th>\n",
       "      <td>88851</td>\n",
       "      <td>954c4593de12c14c8a51a08ae24f2cdf</td>\n",
       "      <td>2023-10-16 13:30:06</td>\n",
       "      <td>ошибка обработки запроса регистрацию изменение...</td>\n",
       "      <td>11</td>\n",
       "      <td>4</td>\n",
       "      <td>0</td>\n",
       "    </tr>\n",
       "    <tr>\n",
       "      <th>88852</th>\n",
       "      <td>88852</td>\n",
       "      <td>c6a3630169618e449c4770842dfd8bcc</td>\n",
       "      <td>2023-10-16 13:30:06</td>\n",
       "      <td>pp3 contracts dto contract action contractacti...</td>\n",
       "      <td>7</td>\n",
       "      <td>2</td>\n",
       "      <td>0</td>\n",
       "    </tr>\n",
       "    <tr>\n",
       "      <th>88853</th>\n",
       "      <td>88853</td>\n",
       "      <td>954c4593de12c14c8a51a08ae24f2cdf</td>\n",
       "      <td>2023-10-16 13:30:06</td>\n",
       "      <td>ошибка обработки запроса регистрацию изменение...</td>\n",
       "      <td>11</td>\n",
       "      <td>4</td>\n",
       "      <td>0</td>\n",
       "    </tr>\n",
       "    <tr>\n",
       "      <th>88854</th>\n",
       "      <td>88854</td>\n",
       "      <td>a8c064cea3793cbc25117db42bfefc0d</td>\n",
       "      <td>2023-10-16 13:30:17</td>\n",
       "      <td>unable process command 00fa120e fbe0 4d7b bce9...</td>\n",
       "      <td>7</td>\n",
       "      <td>5</td>\n",
       "      <td>0</td>\n",
       "    </tr>\n",
       "  </tbody>\n",
       "</table>\n",
       "<p>88855 rows × 7 columns</p>\n",
       "</div>"
      ],
      "text/plain": [
       "       index                                id          create_date  \\\n",
       "0          0  6424198940e01f33f8b596fa9fe7391c  2023-10-09 00:00:01   \n",
       "1          1  9851574021c269d401accc3a1381259a  2023-10-09 00:00:02   \n",
       "2          2  35f4f5fc4fdd12717347c2064729930e  2023-10-09 00:00:02   \n",
       "3          3  49f9dc2cb58ab8db9f59b2487fbe0768  2023-10-09 00:00:02   \n",
       "4          4  4f4830735dfc264fb40d1424e3e02bb2  2023-10-09 00:00:08   \n",
       "...      ...                               ...                  ...   \n",
       "88850  88850  954c4593de12c14c8a51a08ae24f2cdf  2023-10-16 13:30:06   \n",
       "88851  88851  954c4593de12c14c8a51a08ae24f2cdf  2023-10-16 13:30:06   \n",
       "88852  88852  c6a3630169618e449c4770842dfd8bcc  2023-10-16 13:30:06   \n",
       "88853  88853  954c4593de12c14c8a51a08ae24f2cdf  2023-10-16 13:30:06   \n",
       "88854  88854  a8c064cea3793cbc25117db42bfefc0d  2023-10-16 13:30:17   \n",
       "\n",
       "                                                     log  len_logs  type  \\\n",
       "0                           unable get integration token         5     3   \n",
       "1                           unable get integration token         5     3   \n",
       "2                           unable get integration token         5     3   \n",
       "3                           unable get integration token         5     3   \n",
       "4      pp3 contracts dto contract action contractacti...         7     2   \n",
       "...                                                  ...       ...   ...   \n",
       "88850  ошибка обработки запроса регистрацию изменение...        11     4   \n",
       "88851  ошибка обработки запроса регистрацию изменение...        11     4   \n",
       "88852  pp3 contracts dto contract action contractacti...         7     2   \n",
       "88853  ошибка обработки запроса регистрацию изменение...        11     4   \n",
       "88854  unable process command 00fa120e fbe0 4d7b bce9...         7     5   \n",
       "\n",
       "       type_5  \n",
       "0           0  \n",
       "1           0  \n",
       "2           0  \n",
       "3           0  \n",
       "4           0  \n",
       "...       ...  \n",
       "88850       0  \n",
       "88851       0  \n",
       "88852       0  \n",
       "88853       0  \n",
       "88854       0  \n",
       "\n",
       "[88855 rows x 7 columns]"
      ]
     },
     "execution_count": 58,
     "metadata": {},
     "output_type": "execute_result"
    }
   ],
   "source": [
    "data"
   ]
  },
  {
   "cell_type": "code",
   "execution_count": 71,
   "id": "d6ac423a-beda-4f28-9f64-7076c58065ad",
   "metadata": {
    "tags": []
   },
   "outputs": [],
   "source": [
    "for i in range(len(data_5cl.index_new)):\n",
    "    ind = data_5cl.index_new[i]\n",
    "    # print(ind, i)\n",
    "    data['type_5'][ind] = data_5cl['type_5'][i]"
   ]
  },
  {
   "cell_type": "code",
   "execution_count": 72,
   "id": "2d97ceb9-0da9-44b1-b280-cedcd5429096",
   "metadata": {},
   "outputs": [
    {
     "data": {
      "text/html": [
       "<div>\n",
       "<style scoped>\n",
       "    .dataframe tbody tr th:only-of-type {\n",
       "        vertical-align: middle;\n",
       "    }\n",
       "\n",
       "    .dataframe tbody tr th {\n",
       "        vertical-align: top;\n",
       "    }\n",
       "\n",
       "    .dataframe thead th {\n",
       "        text-align: right;\n",
       "    }\n",
       "</style>\n",
       "<table border=\"1\" class=\"dataframe\">\n",
       "  <thead>\n",
       "    <tr style=\"text-align: right;\">\n",
       "      <th></th>\n",
       "      <th>index</th>\n",
       "      <th>id</th>\n",
       "      <th>create_date</th>\n",
       "      <th>log</th>\n",
       "      <th>len_logs</th>\n",
       "      <th>type</th>\n",
       "      <th>type_5</th>\n",
       "    </tr>\n",
       "  </thead>\n",
       "  <tbody>\n",
       "    <tr>\n",
       "      <th>0</th>\n",
       "      <td>0</td>\n",
       "      <td>6424198940e01f33f8b596fa9fe7391c</td>\n",
       "      <td>2023-10-09 00:00:01</td>\n",
       "      <td>unable get integration token</td>\n",
       "      <td>5</td>\n",
       "      <td>3</td>\n",
       "      <td>-1</td>\n",
       "    </tr>\n",
       "    <tr>\n",
       "      <th>1</th>\n",
       "      <td>1</td>\n",
       "      <td>9851574021c269d401accc3a1381259a</td>\n",
       "      <td>2023-10-09 00:00:02</td>\n",
       "      <td>unable get integration token</td>\n",
       "      <td>5</td>\n",
       "      <td>3</td>\n",
       "      <td>-1</td>\n",
       "    </tr>\n",
       "    <tr>\n",
       "      <th>2</th>\n",
       "      <td>2</td>\n",
       "      <td>35f4f5fc4fdd12717347c2064729930e</td>\n",
       "      <td>2023-10-09 00:00:02</td>\n",
       "      <td>unable get integration token</td>\n",
       "      <td>5</td>\n",
       "      <td>3</td>\n",
       "      <td>-1</td>\n",
       "    </tr>\n",
       "    <tr>\n",
       "      <th>3</th>\n",
       "      <td>3</td>\n",
       "      <td>49f9dc2cb58ab8db9f59b2487fbe0768</td>\n",
       "      <td>2023-10-09 00:00:02</td>\n",
       "      <td>unable get integration token</td>\n",
       "      <td>5</td>\n",
       "      <td>3</td>\n",
       "      <td>-1</td>\n",
       "    </tr>\n",
       "    <tr>\n",
       "      <th>4</th>\n",
       "      <td>4</td>\n",
       "      <td>4f4830735dfc264fb40d1424e3e02bb2</td>\n",
       "      <td>2023-10-09 00:00:08</td>\n",
       "      <td>pp3 contracts dto contract action contractacti...</td>\n",
       "      <td>7</td>\n",
       "      <td>2</td>\n",
       "      <td>-1</td>\n",
       "    </tr>\n",
       "    <tr>\n",
       "      <th>5</th>\n",
       "      <td>5</td>\n",
       "      <td>c3a26e908605084180b05f77c367a8a0</td>\n",
       "      <td>2023-10-09 00:00:09</td>\n",
       "      <td>unable process onflushdirty interceptors</td>\n",
       "      <td>5</td>\n",
       "      <td>5</td>\n",
       "      <td>2</td>\n",
       "    </tr>\n",
       "    <tr>\n",
       "      <th>6</th>\n",
       "      <td>6</td>\n",
       "      <td>adcef5d317057946bac2ee0a390874d1</td>\n",
       "      <td>2023-10-09 00:00:09</td>\n",
       "      <td>ошибка обработки запроса регистрацию изменение...</td>\n",
       "      <td>11</td>\n",
       "      <td>4</td>\n",
       "      <td>-1</td>\n",
       "    </tr>\n",
       "    <tr>\n",
       "      <th>7</th>\n",
       "      <td>7</td>\n",
       "      <td>c3a26e908605084180b05f77c367a8a0</td>\n",
       "      <td>2023-10-09 00:00:09</td>\n",
       "      <td>system invalidoperationexception прямой закуки...</td>\n",
       "      <td>129</td>\n",
       "      <td>5</td>\n",
       "      <td>2</td>\n",
       "    </tr>\n",
       "    <tr>\n",
       "      <th>8</th>\n",
       "      <td>8</td>\n",
       "      <td>c3a26e908605084180b05f77c367a8a0</td>\n",
       "      <td>2023-10-09 00:00:09</td>\n",
       "      <td>execution error job granit cssp jobs purchaser...</td>\n",
       "      <td>8</td>\n",
       "      <td>5</td>\n",
       "      <td>3</td>\n",
       "    </tr>\n",
       "    <tr>\n",
       "      <th>9</th>\n",
       "      <td>9</td>\n",
       "      <td>4f4830735dfc264fb40d1424e3e02bb2</td>\n",
       "      <td>2023-10-09 00:00:09</td>\n",
       "      <td>pp3 contracts dto contract action contractacti...</td>\n",
       "      <td>7</td>\n",
       "      <td>2</td>\n",
       "      <td>-1</td>\n",
       "    </tr>\n",
       "  </tbody>\n",
       "</table>\n",
       "</div>"
      ],
      "text/plain": [
       "   index                                id          create_date  \\\n",
       "0      0  6424198940e01f33f8b596fa9fe7391c  2023-10-09 00:00:01   \n",
       "1      1  9851574021c269d401accc3a1381259a  2023-10-09 00:00:02   \n",
       "2      2  35f4f5fc4fdd12717347c2064729930e  2023-10-09 00:00:02   \n",
       "3      3  49f9dc2cb58ab8db9f59b2487fbe0768  2023-10-09 00:00:02   \n",
       "4      4  4f4830735dfc264fb40d1424e3e02bb2  2023-10-09 00:00:08   \n",
       "5      5  c3a26e908605084180b05f77c367a8a0  2023-10-09 00:00:09   \n",
       "6      6  adcef5d317057946bac2ee0a390874d1  2023-10-09 00:00:09   \n",
       "7      7  c3a26e908605084180b05f77c367a8a0  2023-10-09 00:00:09   \n",
       "8      8  c3a26e908605084180b05f77c367a8a0  2023-10-09 00:00:09   \n",
       "9      9  4f4830735dfc264fb40d1424e3e02bb2  2023-10-09 00:00:09   \n",
       "\n",
       "                                                 log  len_logs  type  type_5  \n",
       "0                       unable get integration token         5     3      -1  \n",
       "1                       unable get integration token         5     3      -1  \n",
       "2                       unable get integration token         5     3      -1  \n",
       "3                       unable get integration token         5     3      -1  \n",
       "4  pp3 contracts dto contract action contractacti...         7     2      -1  \n",
       "5           unable process onflushdirty interceptors         5     5       2  \n",
       "6  ошибка обработки запроса регистрацию изменение...        11     4      -1  \n",
       "7  system invalidoperationexception прямой закуки...       129     5       2  \n",
       "8  execution error job granit cssp jobs purchaser...         8     5       3  \n",
       "9  pp3 contracts dto contract action contractacti...         7     2      -1  "
      ]
     },
     "execution_count": 72,
     "metadata": {},
     "output_type": "execute_result"
    }
   ],
   "source": [
    "data.head(10)"
   ]
  },
  {
   "cell_type": "code",
   "execution_count": 73,
   "id": "401060d5-665f-49a4-adb3-bd11070ad497",
   "metadata": {},
   "outputs": [],
   "source": [
    "data.type_5 = data.type_5.apply(lambda x: str(x)+'_5')"
   ]
  },
  {
   "cell_type": "code",
   "execution_count": 74,
   "id": "58e99a4e-c295-48c2-8cca-48e7f567c5e6",
   "metadata": {},
   "outputs": [
    {
     "data": {
      "text/html": [
       "<div>\n",
       "<style scoped>\n",
       "    .dataframe tbody tr th:only-of-type {\n",
       "        vertical-align: middle;\n",
       "    }\n",
       "\n",
       "    .dataframe tbody tr th {\n",
       "        vertical-align: top;\n",
       "    }\n",
       "\n",
       "    .dataframe thead th {\n",
       "        text-align: right;\n",
       "    }\n",
       "</style>\n",
       "<table border=\"1\" class=\"dataframe\">\n",
       "  <thead>\n",
       "    <tr style=\"text-align: right;\">\n",
       "      <th></th>\n",
       "      <th>index</th>\n",
       "      <th>id</th>\n",
       "      <th>create_date</th>\n",
       "      <th>log</th>\n",
       "      <th>len_logs</th>\n",
       "      <th>type</th>\n",
       "      <th>type_5</th>\n",
       "    </tr>\n",
       "  </thead>\n",
       "  <tbody>\n",
       "    <tr>\n",
       "      <th>0</th>\n",
       "      <td>0</td>\n",
       "      <td>6424198940e01f33f8b596fa9fe7391c</td>\n",
       "      <td>2023-10-09 00:00:01</td>\n",
       "      <td>unable get integration token</td>\n",
       "      <td>5</td>\n",
       "      <td>3</td>\n",
       "      <td>-1_5</td>\n",
       "    </tr>\n",
       "    <tr>\n",
       "      <th>1</th>\n",
       "      <td>1</td>\n",
       "      <td>9851574021c269d401accc3a1381259a</td>\n",
       "      <td>2023-10-09 00:00:02</td>\n",
       "      <td>unable get integration token</td>\n",
       "      <td>5</td>\n",
       "      <td>3</td>\n",
       "      <td>-1_5</td>\n",
       "    </tr>\n",
       "    <tr>\n",
       "      <th>2</th>\n",
       "      <td>2</td>\n",
       "      <td>35f4f5fc4fdd12717347c2064729930e</td>\n",
       "      <td>2023-10-09 00:00:02</td>\n",
       "      <td>unable get integration token</td>\n",
       "      <td>5</td>\n",
       "      <td>3</td>\n",
       "      <td>-1_5</td>\n",
       "    </tr>\n",
       "    <tr>\n",
       "      <th>3</th>\n",
       "      <td>3</td>\n",
       "      <td>49f9dc2cb58ab8db9f59b2487fbe0768</td>\n",
       "      <td>2023-10-09 00:00:02</td>\n",
       "      <td>unable get integration token</td>\n",
       "      <td>5</td>\n",
       "      <td>3</td>\n",
       "      <td>-1_5</td>\n",
       "    </tr>\n",
       "    <tr>\n",
       "      <th>4</th>\n",
       "      <td>4</td>\n",
       "      <td>4f4830735dfc264fb40d1424e3e02bb2</td>\n",
       "      <td>2023-10-09 00:00:08</td>\n",
       "      <td>pp3 contracts dto contract action contractacti...</td>\n",
       "      <td>7</td>\n",
       "      <td>2</td>\n",
       "      <td>-1_5</td>\n",
       "    </tr>\n",
       "    <tr>\n",
       "      <th>...</th>\n",
       "      <td>...</td>\n",
       "      <td>...</td>\n",
       "      <td>...</td>\n",
       "      <td>...</td>\n",
       "      <td>...</td>\n",
       "      <td>...</td>\n",
       "      <td>...</td>\n",
       "    </tr>\n",
       "    <tr>\n",
       "      <th>88850</th>\n",
       "      <td>88850</td>\n",
       "      <td>954c4593de12c14c8a51a08ae24f2cdf</td>\n",
       "      <td>2023-10-16 13:30:06</td>\n",
       "      <td>ошибка обработки запроса регистрацию изменение...</td>\n",
       "      <td>11</td>\n",
       "      <td>4</td>\n",
       "      <td>-1_5</td>\n",
       "    </tr>\n",
       "    <tr>\n",
       "      <th>88851</th>\n",
       "      <td>88851</td>\n",
       "      <td>954c4593de12c14c8a51a08ae24f2cdf</td>\n",
       "      <td>2023-10-16 13:30:06</td>\n",
       "      <td>ошибка обработки запроса регистрацию изменение...</td>\n",
       "      <td>11</td>\n",
       "      <td>4</td>\n",
       "      <td>-1_5</td>\n",
       "    </tr>\n",
       "    <tr>\n",
       "      <th>88852</th>\n",
       "      <td>88852</td>\n",
       "      <td>c6a3630169618e449c4770842dfd8bcc</td>\n",
       "      <td>2023-10-16 13:30:06</td>\n",
       "      <td>pp3 contracts dto contract action contractacti...</td>\n",
       "      <td>7</td>\n",
       "      <td>2</td>\n",
       "      <td>-1_5</td>\n",
       "    </tr>\n",
       "    <tr>\n",
       "      <th>88853</th>\n",
       "      <td>88853</td>\n",
       "      <td>954c4593de12c14c8a51a08ae24f2cdf</td>\n",
       "      <td>2023-10-16 13:30:06</td>\n",
       "      <td>ошибка обработки запроса регистрацию изменение...</td>\n",
       "      <td>11</td>\n",
       "      <td>4</td>\n",
       "      <td>-1_5</td>\n",
       "    </tr>\n",
       "    <tr>\n",
       "      <th>88854</th>\n",
       "      <td>88854</td>\n",
       "      <td>a8c064cea3793cbc25117db42bfefc0d</td>\n",
       "      <td>2023-10-16 13:30:17</td>\n",
       "      <td>unable process command 00fa120e fbe0 4d7b bce9...</td>\n",
       "      <td>7</td>\n",
       "      <td>5</td>\n",
       "      <td>2_5</td>\n",
       "    </tr>\n",
       "  </tbody>\n",
       "</table>\n",
       "<p>88855 rows × 7 columns</p>\n",
       "</div>"
      ],
      "text/plain": [
       "       index                                id          create_date  \\\n",
       "0          0  6424198940e01f33f8b596fa9fe7391c  2023-10-09 00:00:01   \n",
       "1          1  9851574021c269d401accc3a1381259a  2023-10-09 00:00:02   \n",
       "2          2  35f4f5fc4fdd12717347c2064729930e  2023-10-09 00:00:02   \n",
       "3          3  49f9dc2cb58ab8db9f59b2487fbe0768  2023-10-09 00:00:02   \n",
       "4          4  4f4830735dfc264fb40d1424e3e02bb2  2023-10-09 00:00:08   \n",
       "...      ...                               ...                  ...   \n",
       "88850  88850  954c4593de12c14c8a51a08ae24f2cdf  2023-10-16 13:30:06   \n",
       "88851  88851  954c4593de12c14c8a51a08ae24f2cdf  2023-10-16 13:30:06   \n",
       "88852  88852  c6a3630169618e449c4770842dfd8bcc  2023-10-16 13:30:06   \n",
       "88853  88853  954c4593de12c14c8a51a08ae24f2cdf  2023-10-16 13:30:06   \n",
       "88854  88854  a8c064cea3793cbc25117db42bfefc0d  2023-10-16 13:30:17   \n",
       "\n",
       "                                                     log  len_logs  type  \\\n",
       "0                           unable get integration token         5     3   \n",
       "1                           unable get integration token         5     3   \n",
       "2                           unable get integration token         5     3   \n",
       "3                           unable get integration token         5     3   \n",
       "4      pp3 contracts dto contract action contractacti...         7     2   \n",
       "...                                                  ...       ...   ...   \n",
       "88850  ошибка обработки запроса регистрацию изменение...        11     4   \n",
       "88851  ошибка обработки запроса регистрацию изменение...        11     4   \n",
       "88852  pp3 contracts dto contract action contractacti...         7     2   \n",
       "88853  ошибка обработки запроса регистрацию изменение...        11     4   \n",
       "88854  unable process command 00fa120e fbe0 4d7b bce9...         7     5   \n",
       "\n",
       "      type_5  \n",
       "0       -1_5  \n",
       "1       -1_5  \n",
       "2       -1_5  \n",
       "3       -1_5  \n",
       "4       -1_5  \n",
       "...      ...  \n",
       "88850   -1_5  \n",
       "88851   -1_5  \n",
       "88852   -1_5  \n",
       "88853   -1_5  \n",
       "88854    2_5  \n",
       "\n",
       "[88855 rows x 7 columns]"
      ]
     },
     "execution_count": 74,
     "metadata": {},
     "output_type": "execute_result"
    }
   ],
   "source": [
    "data"
   ]
  },
  {
   "cell_type": "code",
   "execution_count": 75,
   "id": "a674eda2-6239-4858-8c0a-54b38b79e415",
   "metadata": {},
   "outputs": [],
   "source": [
    "for i in range(len(data)):\n",
    "    if data.type_5[i] == '-1_5':\n",
    "        data.type_5[i] = data.type[i]"
   ]
  },
  {
   "cell_type": "code",
   "execution_count": 76,
   "id": "23f49201-337f-4cca-9c22-c560f98eaaad",
   "metadata": {},
   "outputs": [
    {
     "data": {
      "text/html": [
       "<div>\n",
       "<style scoped>\n",
       "    .dataframe tbody tr th:only-of-type {\n",
       "        vertical-align: middle;\n",
       "    }\n",
       "\n",
       "    .dataframe tbody tr th {\n",
       "        vertical-align: top;\n",
       "    }\n",
       "\n",
       "    .dataframe thead th {\n",
       "        text-align: right;\n",
       "    }\n",
       "</style>\n",
       "<table border=\"1\" class=\"dataframe\">\n",
       "  <thead>\n",
       "    <tr style=\"text-align: right;\">\n",
       "      <th></th>\n",
       "      <th>index</th>\n",
       "      <th>id</th>\n",
       "      <th>create_date</th>\n",
       "      <th>log</th>\n",
       "      <th>len_logs</th>\n",
       "      <th>type</th>\n",
       "      <th>type_5</th>\n",
       "    </tr>\n",
       "  </thead>\n",
       "  <tbody>\n",
       "    <tr>\n",
       "      <th>0</th>\n",
       "      <td>0</td>\n",
       "      <td>6424198940e01f33f8b596fa9fe7391c</td>\n",
       "      <td>2023-10-09 00:00:01</td>\n",
       "      <td>unable get integration token</td>\n",
       "      <td>5</td>\n",
       "      <td>3</td>\n",
       "      <td>3</td>\n",
       "    </tr>\n",
       "    <tr>\n",
       "      <th>1</th>\n",
       "      <td>1</td>\n",
       "      <td>9851574021c269d401accc3a1381259a</td>\n",
       "      <td>2023-10-09 00:00:02</td>\n",
       "      <td>unable get integration token</td>\n",
       "      <td>5</td>\n",
       "      <td>3</td>\n",
       "      <td>3</td>\n",
       "    </tr>\n",
       "    <tr>\n",
       "      <th>2</th>\n",
       "      <td>2</td>\n",
       "      <td>35f4f5fc4fdd12717347c2064729930e</td>\n",
       "      <td>2023-10-09 00:00:02</td>\n",
       "      <td>unable get integration token</td>\n",
       "      <td>5</td>\n",
       "      <td>3</td>\n",
       "      <td>3</td>\n",
       "    </tr>\n",
       "    <tr>\n",
       "      <th>3</th>\n",
       "      <td>3</td>\n",
       "      <td>49f9dc2cb58ab8db9f59b2487fbe0768</td>\n",
       "      <td>2023-10-09 00:00:02</td>\n",
       "      <td>unable get integration token</td>\n",
       "      <td>5</td>\n",
       "      <td>3</td>\n",
       "      <td>3</td>\n",
       "    </tr>\n",
       "    <tr>\n",
       "      <th>4</th>\n",
       "      <td>4</td>\n",
       "      <td>4f4830735dfc264fb40d1424e3e02bb2</td>\n",
       "      <td>2023-10-09 00:00:08</td>\n",
       "      <td>pp3 contracts dto contract action contractacti...</td>\n",
       "      <td>7</td>\n",
       "      <td>2</td>\n",
       "      <td>2</td>\n",
       "    </tr>\n",
       "    <tr>\n",
       "      <th>...</th>\n",
       "      <td>...</td>\n",
       "      <td>...</td>\n",
       "      <td>...</td>\n",
       "      <td>...</td>\n",
       "      <td>...</td>\n",
       "      <td>...</td>\n",
       "      <td>...</td>\n",
       "    </tr>\n",
       "    <tr>\n",
       "      <th>88850</th>\n",
       "      <td>88850</td>\n",
       "      <td>954c4593de12c14c8a51a08ae24f2cdf</td>\n",
       "      <td>2023-10-16 13:30:06</td>\n",
       "      <td>ошибка обработки запроса регистрацию изменение...</td>\n",
       "      <td>11</td>\n",
       "      <td>4</td>\n",
       "      <td>4</td>\n",
       "    </tr>\n",
       "    <tr>\n",
       "      <th>88851</th>\n",
       "      <td>88851</td>\n",
       "      <td>954c4593de12c14c8a51a08ae24f2cdf</td>\n",
       "      <td>2023-10-16 13:30:06</td>\n",
       "      <td>ошибка обработки запроса регистрацию изменение...</td>\n",
       "      <td>11</td>\n",
       "      <td>4</td>\n",
       "      <td>4</td>\n",
       "    </tr>\n",
       "    <tr>\n",
       "      <th>88852</th>\n",
       "      <td>88852</td>\n",
       "      <td>c6a3630169618e449c4770842dfd8bcc</td>\n",
       "      <td>2023-10-16 13:30:06</td>\n",
       "      <td>pp3 contracts dto contract action contractacti...</td>\n",
       "      <td>7</td>\n",
       "      <td>2</td>\n",
       "      <td>2</td>\n",
       "    </tr>\n",
       "    <tr>\n",
       "      <th>88853</th>\n",
       "      <td>88853</td>\n",
       "      <td>954c4593de12c14c8a51a08ae24f2cdf</td>\n",
       "      <td>2023-10-16 13:30:06</td>\n",
       "      <td>ошибка обработки запроса регистрацию изменение...</td>\n",
       "      <td>11</td>\n",
       "      <td>4</td>\n",
       "      <td>4</td>\n",
       "    </tr>\n",
       "    <tr>\n",
       "      <th>88854</th>\n",
       "      <td>88854</td>\n",
       "      <td>a8c064cea3793cbc25117db42bfefc0d</td>\n",
       "      <td>2023-10-16 13:30:17</td>\n",
       "      <td>unable process command 00fa120e fbe0 4d7b bce9...</td>\n",
       "      <td>7</td>\n",
       "      <td>5</td>\n",
       "      <td>2_5</td>\n",
       "    </tr>\n",
       "  </tbody>\n",
       "</table>\n",
       "<p>88855 rows × 7 columns</p>\n",
       "</div>"
      ],
      "text/plain": [
       "       index                                id          create_date  \\\n",
       "0          0  6424198940e01f33f8b596fa9fe7391c  2023-10-09 00:00:01   \n",
       "1          1  9851574021c269d401accc3a1381259a  2023-10-09 00:00:02   \n",
       "2          2  35f4f5fc4fdd12717347c2064729930e  2023-10-09 00:00:02   \n",
       "3          3  49f9dc2cb58ab8db9f59b2487fbe0768  2023-10-09 00:00:02   \n",
       "4          4  4f4830735dfc264fb40d1424e3e02bb2  2023-10-09 00:00:08   \n",
       "...      ...                               ...                  ...   \n",
       "88850  88850  954c4593de12c14c8a51a08ae24f2cdf  2023-10-16 13:30:06   \n",
       "88851  88851  954c4593de12c14c8a51a08ae24f2cdf  2023-10-16 13:30:06   \n",
       "88852  88852  c6a3630169618e449c4770842dfd8bcc  2023-10-16 13:30:06   \n",
       "88853  88853  954c4593de12c14c8a51a08ae24f2cdf  2023-10-16 13:30:06   \n",
       "88854  88854  a8c064cea3793cbc25117db42bfefc0d  2023-10-16 13:30:17   \n",
       "\n",
       "                                                     log  len_logs  type  \\\n",
       "0                           unable get integration token         5     3   \n",
       "1                           unable get integration token         5     3   \n",
       "2                           unable get integration token         5     3   \n",
       "3                           unable get integration token         5     3   \n",
       "4      pp3 contracts dto contract action contractacti...         7     2   \n",
       "...                                                  ...       ...   ...   \n",
       "88850  ошибка обработки запроса регистрацию изменение...        11     4   \n",
       "88851  ошибка обработки запроса регистрацию изменение...        11     4   \n",
       "88852  pp3 contracts dto contract action contractacti...         7     2   \n",
       "88853  ошибка обработки запроса регистрацию изменение...        11     4   \n",
       "88854  unable process command 00fa120e fbe0 4d7b bce9...         7     5   \n",
       "\n",
       "      type_5  \n",
       "0          3  \n",
       "1          3  \n",
       "2          3  \n",
       "3          3  \n",
       "4          2  \n",
       "...      ...  \n",
       "88850      4  \n",
       "88851      4  \n",
       "88852      2  \n",
       "88853      4  \n",
       "88854    2_5  \n",
       "\n",
       "[88855 rows x 7 columns]"
      ]
     },
     "execution_count": 76,
     "metadata": {},
     "output_type": "execute_result"
    }
   ],
   "source": [
    "data"
   ]
  },
  {
   "cell_type": "code",
   "execution_count": 79,
   "id": "a2c68815-8e64-462b-9907-d8cda5b5a841",
   "metadata": {},
   "outputs": [],
   "source": [
    "for i in range(len(data)):\n",
    "    if data.type_5[i] == '1_5' or data.type_5[i] == '5_5' or data.type_5[i] == '7_5':\n",
    "        data.type_5[i] = 'sql'"
   ]
  },
  {
   "cell_type": "code",
   "execution_count": 80,
   "id": "640af9c7-9bee-480a-a103-b172600d5ff4",
   "metadata": {},
   "outputs": [
    {
     "data": {
      "text/plain": [
       "array([3, 2, '2_5', 4, '3_5', '4_5', 'sql', 7, 1, '9_5', '6_5', '0_5',\n",
       "       '8_5', 6, 0], dtype=object)"
      ]
     },
     "execution_count": 80,
     "metadata": {},
     "output_type": "execute_result"
    }
   ],
   "source": [
    "data.type_5.unique()"
   ]
  },
  {
   "cell_type": "code",
   "execution_count": 82,
   "id": "00a56195-76ac-420e-8b3d-93aa6bbcc836",
   "metadata": {},
   "outputs": [],
   "source": [
    "data = data.rename(columns={'type_5':'target'})"
   ]
  },
  {
   "cell_type": "code",
   "execution_count": 84,
   "id": "c33c906e-4280-45d2-bb52-ae6b293fe188",
   "metadata": {},
   "outputs": [],
   "source": [
    "data.to_excel('logs_result.xlsx')"
   ]
  },
  {
   "cell_type": "markdown",
   "id": "ae2860d8-354b-47de-b5d7-d3c01e139f89",
   "metadata": {
    "jp-MarkdownHeadingCollapsed": true,
    "tags": []
   },
   "source": [
    "## 8 class"
   ]
  },
  {
   "cell_type": "code",
   "execution_count": 97,
   "id": "2d8e85b8-49a6-48c2-8fc5-8cc7a2e663ba",
   "metadata": {
    "tags": []
   },
   "outputs": [
    {
     "data": {
      "text/html": [
       "<div>\n",
       "<style scoped>\n",
       "    .dataframe tbody tr th:only-of-type {\n",
       "        vertical-align: middle;\n",
       "    }\n",
       "\n",
       "    .dataframe tbody tr th {\n",
       "        vertical-align: top;\n",
       "    }\n",
       "\n",
       "    .dataframe thead th {\n",
       "        text-align: right;\n",
       "    }\n",
       "</style>\n",
       "<table border=\"1\" class=\"dataframe\">\n",
       "  <thead>\n",
       "    <tr style=\"text-align: right;\">\n",
       "      <th></th>\n",
       "      <th>id</th>\n",
       "      <th>create_date</th>\n",
       "      <th>log</th>\n",
       "      <th>len_logs</th>\n",
       "      <th>type</th>\n",
       "      <th>target</th>\n",
       "    </tr>\n",
       "  </thead>\n",
       "  <tbody>\n",
       "    <tr>\n",
       "      <th>4987</th>\n",
       "      <td>b6c723bd7322adfe9b5edb41f75d38a6</td>\n",
       "      <td>2023-10-09 09:41:32</td>\n",
       "      <td>данные могут проимпортированы причине ранее им...</td>\n",
       "      <td>22</td>\n",
       "      <td>0</td>\n",
       "      <td>0</td>\n",
       "    </tr>\n",
       "    <tr>\n",
       "      <th>4988</th>\n",
       "      <td>3c4fc2c8dbfe87e801c4989fe941c84d</td>\n",
       "      <td>2023-10-09 09:41:32</td>\n",
       "      <td>данные могут проимпортированы причине ранее им...</td>\n",
       "      <td>22</td>\n",
       "      <td>0</td>\n",
       "      <td>0</td>\n",
       "    </tr>\n",
       "    <tr>\n",
       "      <th>5230</th>\n",
       "      <td>b5b5e92073d355e7415845e0ff8b27da</td>\n",
       "      <td>2023-10-09 11:24:25</td>\n",
       "      <td>данные могут проимпортированы причине ранее им...</td>\n",
       "      <td>20</td>\n",
       "      <td>0</td>\n",
       "      <td>0</td>\n",
       "    </tr>\n",
       "    <tr>\n",
       "      <th>5231</th>\n",
       "      <td>509d733a909242fb0cb56be590625f02</td>\n",
       "      <td>2023-10-09 11:24:49</td>\n",
       "      <td>данные могут обработаны причине данный пакет и...</td>\n",
       "      <td>20</td>\n",
       "      <td>0</td>\n",
       "      <td>0</td>\n",
       "    </tr>\n",
       "    <tr>\n",
       "      <th>5232</th>\n",
       "      <td>06980def752836235feff942994cff4c</td>\n",
       "      <td>2023-10-09 11:24:49</td>\n",
       "      <td>данные могут обработаны причине данный пакет и...</td>\n",
       "      <td>20</td>\n",
       "      <td>0</td>\n",
       "      <td>0</td>\n",
       "    </tr>\n",
       "    <tr>\n",
       "      <th>...</th>\n",
       "      <td>...</td>\n",
       "      <td>...</td>\n",
       "      <td>...</td>\n",
       "      <td>...</td>\n",
       "      <td>...</td>\n",
       "      <td>...</td>\n",
       "    </tr>\n",
       "    <tr>\n",
       "      <th>88732</th>\n",
       "      <td>878ca8e6b05fea3a483a97d89d6cb013</td>\n",
       "      <td>2023-10-16 12:46:59</td>\n",
       "      <td>данные могут обработаны причине ранее импортир...</td>\n",
       "      <td>22</td>\n",
       "      <td>0</td>\n",
       "      <td>0</td>\n",
       "    </tr>\n",
       "    <tr>\n",
       "      <th>88738</th>\n",
       "      <td>829cf23e92fdd9c2b78f7655bf6a50be</td>\n",
       "      <td>2023-10-16 12:50:40</td>\n",
       "      <td>данные могут обработаны причине ранее импортир...</td>\n",
       "      <td>22</td>\n",
       "      <td>0</td>\n",
       "      <td>0</td>\n",
       "    </tr>\n",
       "    <tr>\n",
       "      <th>88739</th>\n",
       "      <td>cf885bf17efa3ceb80627eb18575352f</td>\n",
       "      <td>2023-10-16 12:50:47</td>\n",
       "      <td>данные могут обработаны причине ранее импортир...</td>\n",
       "      <td>22</td>\n",
       "      <td>0</td>\n",
       "      <td>0</td>\n",
       "    </tr>\n",
       "    <tr>\n",
       "      <th>88740</th>\n",
       "      <td>b88369134e7bea60b3bd0cfc91195a7a</td>\n",
       "      <td>2023-10-16 12:52:58</td>\n",
       "      <td>данные могут обработаны причине ранее импортир...</td>\n",
       "      <td>22</td>\n",
       "      <td>0</td>\n",
       "      <td>0</td>\n",
       "    </tr>\n",
       "    <tr>\n",
       "      <th>88741</th>\n",
       "      <td>291551c0d6afb4583aea8e55aa8a7732</td>\n",
       "      <td>2023-10-16 12:53:01</td>\n",
       "      <td>данные могут обработаны причине ранее импортир...</td>\n",
       "      <td>22</td>\n",
       "      <td>0</td>\n",
       "      <td>0</td>\n",
       "    </tr>\n",
       "  </tbody>\n",
       "</table>\n",
       "<p>45968 rows × 6 columns</p>\n",
       "</div>"
      ],
      "text/plain": [
       "                                     id          create_date  \\\n",
       "4987   b6c723bd7322adfe9b5edb41f75d38a6  2023-10-09 09:41:32   \n",
       "4988   3c4fc2c8dbfe87e801c4989fe941c84d  2023-10-09 09:41:32   \n",
       "5230   b5b5e92073d355e7415845e0ff8b27da  2023-10-09 11:24:25   \n",
       "5231   509d733a909242fb0cb56be590625f02  2023-10-09 11:24:49   \n",
       "5232   06980def752836235feff942994cff4c  2023-10-09 11:24:49   \n",
       "...                                 ...                  ...   \n",
       "88732  878ca8e6b05fea3a483a97d89d6cb013  2023-10-16 12:46:59   \n",
       "88738  829cf23e92fdd9c2b78f7655bf6a50be  2023-10-16 12:50:40   \n",
       "88739  cf885bf17efa3ceb80627eb18575352f  2023-10-16 12:50:47   \n",
       "88740  b88369134e7bea60b3bd0cfc91195a7a  2023-10-16 12:52:58   \n",
       "88741  291551c0d6afb4583aea8e55aa8a7732  2023-10-16 12:53:01   \n",
       "\n",
       "                                                     log  len_logs  type  \\\n",
       "4987   данные могут проимпортированы причине ранее им...        22     0   \n",
       "4988   данные могут проимпортированы причине ранее им...        22     0   \n",
       "5230   данные могут проимпортированы причине ранее им...        20     0   \n",
       "5231   данные могут обработаны причине данный пакет и...        20     0   \n",
       "5232   данные могут обработаны причине данный пакет и...        20     0   \n",
       "...                                                  ...       ...   ...   \n",
       "88732  данные могут обработаны причине ранее импортир...        22     0   \n",
       "88738  данные могут обработаны причине ранее импортир...        22     0   \n",
       "88739  данные могут обработаны причине ранее импортир...        22     0   \n",
       "88740  данные могут обработаны причине ранее импортир...        22     0   \n",
       "88741  данные могут обработаны причине ранее импортир...        22     0   \n",
       "\n",
       "       target  \n",
       "4987        0  \n",
       "4988        0  \n",
       "5230        0  \n",
       "5231        0  \n",
       "5232        0  \n",
       "...       ...  \n",
       "88732       0  \n",
       "88738       0  \n",
       "88739       0  \n",
       "88740       0  \n",
       "88741       0  \n",
       "\n",
       "[45968 rows x 6 columns]"
      ]
     },
     "execution_count": 97,
     "metadata": {},
     "output_type": "execute_result"
    }
   ],
   "source": [
    "data[data['type'] == 0]"
   ]
  },
  {
   "cell_type": "code",
   "execution_count": 94,
   "id": "70966a1a-ad59-40e3-8d45-a337e0954622",
   "metadata": {},
   "outputs": [
    {
     "data": {
      "text/plain": [
       "45966"
      ]
     },
     "execution_count": 94,
     "metadata": {},
     "output_type": "execute_result"
    }
   ],
   "source": [
    "data[data['type'] == 0].log.nunique()"
   ]
  },
  {
   "cell_type": "code",
   "execution_count": 95,
   "id": "f5385a2c-f5b2-46f8-aa99-e296574627a4",
   "metadata": {},
   "outputs": [
    {
     "data": {
      "text/plain": [
       "array(['данные могут проимпортированы причине ранее импортирована поздняя версия сущности packageguid 34850742 packagedatetime 09 10 2023 8 41 14 03 00',\n",
       "       'данные могут проимпортированы причине ранее импортирована поздняя версия сущности packageguid 34850741 packagedatetime 09 10 2023 8 41 14 03 00',\n",
       "       'данные могут проимпортированы причине ранее импортирована поздняя версия сущности packageid 34850768 packagedate 09 10 2023 11 24 24',\n",
       "       ...,\n",
       "       'данные могут обработаны причине ранее импортирована поздняя версия сущности packageguid 11000d0014732100 11539 packagedatetime 16 10 2023 4 59 11 00 00',\n",
       "       'данные могут обработаны причине ранее импортирована поздняя версия сущности packageguid 14001900b36d3500 5671 packagedatetime 16 10 2023 5 13 08 00 00',\n",
       "       'данные могут обработаны причине ранее импортирована поздняя версия сущности packageguid 0b000000d9ac2700 6464 packagedatetime 16 10 2023 5 14 00 00 00'],\n",
       "      dtype=object)"
      ]
     },
     "execution_count": 95,
     "metadata": {},
     "output_type": "execute_result"
    }
   ],
   "source": [
    "data[data['type'] == 0].log.unique()"
   ]
  },
  {
   "cell_type": "code",
   "execution_count": 96,
   "id": "b6239011-babe-4aae-9e08-6c84c97f58c0",
   "metadata": {},
   "outputs": [
    {
     "data": {
      "text/plain": [
       "'Данные не могут быть обработаны по причине: Ранее была импортирована более поздняя версия сущности. PackageGuid : 11000d0014732100-11539, PackageDateTime : 16.10.2023 4:59:11 +00:00'"
      ]
     },
     "execution_count": 96,
     "metadata": {},
     "output_type": "execute_result"
    }
   ],
   "source": [
    "df.log[88739]"
   ]
  },
  {
   "cell_type": "markdown",
   "id": "c7944e79-6845-4a12-a479-2b7aa9ce0289",
   "metadata": {},
   "source": [
    "Данные не могут быть обработаны по причине: Ранее была импортирована более поздняя версия сущности."
   ]
  },
  {
   "cell_type": "markdown",
   "id": "4849e628-c522-462a-ac01-faa9f2a31451",
   "metadata": {},
   "source": [
    "## End"
   ]
  },
  {
   "cell_type": "markdown",
   "id": "226cb49c-60c3-4f11-b61f-d4695c297698",
   "metadata": {},
   "source": [
    "Классы действительно хорошо разделены, сохраним модель"
   ]
  },
  {
   "cell_type": "code",
   "execution_count": 50,
   "id": "dcc4461f-3447-4d6e-9128-8a06d3deca6e",
   "metadata": {},
   "outputs": [],
   "source": [
    "with open('kmeans.pickle', 'wb') as f:\n",
    "    pickle.dump(cls, f)"
   ]
  },
  {
   "cell_type": "code",
   "execution_count": 69,
   "id": "074fab89-3ddc-40fb-ba44-92a80dc75359",
   "metadata": {},
   "outputs": [
    {
     "data": {
      "text/plain": [
       "'immediate job 2eec8d41 fd97 4fa2 aa9f e2d30a26c150 execution failed trying enqueue job'"
      ]
     },
     "execution_count": 69,
     "metadata": {},
     "output_type": "execute_result"
    }
   ],
   "source": [
    "df.log[13263]"
   ]
  },
  {
   "cell_type": "markdown",
   "id": "f4113540-e6d8-491a-bc3a-5a25fe97c31d",
   "metadata": {
    "jp-MarkdownHeadingCollapsed": true,
    "tags": []
   },
   "source": [
    "# Группировка по времени"
   ]
  },
  {
   "cell_type": "code",
   "execution_count": 166,
   "id": "ac4e8e43-b94e-4f6d-bd45-838752f552d8",
   "metadata": {},
   "outputs": [],
   "source": [
    "df = pd.read_excel('logs.xlsx')"
   ]
  },
  {
   "cell_type": "code",
   "execution_count": 167,
   "id": "3b4f1aa1-9442-4aa4-9b14-f845b3d2c6c1",
   "metadata": {},
   "outputs": [
    {
     "data": {
      "text/html": [
       "<div>\n",
       "<style scoped>\n",
       "    .dataframe tbody tr th:only-of-type {\n",
       "        vertical-align: middle;\n",
       "    }\n",
       "\n",
       "    .dataframe tbody tr th {\n",
       "        vertical-align: top;\n",
       "    }\n",
       "\n",
       "    .dataframe thead th {\n",
       "        text-align: right;\n",
       "    }\n",
       "</style>\n",
       "<table border=\"1\" class=\"dataframe\">\n",
       "  <thead>\n",
       "    <tr style=\"text-align: right;\">\n",
       "      <th></th>\n",
       "      <th>id</th>\n",
       "      <th>create_date</th>\n",
       "      <th>log</th>\n",
       "    </tr>\n",
       "  </thead>\n",
       "  <tbody>\n",
       "    <tr>\n",
       "      <th>0</th>\n",
       "      <td>6424198940e01f33f8b596fa9fe7391c</td>\n",
       "      <td>2023-10-09 00:00:01</td>\n",
       "      <td>Unable to get integration token</td>\n",
       "    </tr>\n",
       "    <tr>\n",
       "      <th>1</th>\n",
       "      <td>9851574021c269d401accc3a1381259a</td>\n",
       "      <td>2023-10-09 00:00:02</td>\n",
       "      <td>Unable to get integration token</td>\n",
       "    </tr>\n",
       "    <tr>\n",
       "      <th>2</th>\n",
       "      <td>35f4f5fc4fdd12717347c2064729930e</td>\n",
       "      <td>2023-10-09 00:00:02</td>\n",
       "      <td>Unable to get integration token</td>\n",
       "    </tr>\n",
       "    <tr>\n",
       "      <th>3</th>\n",
       "      <td>49f9dc2cb58ab8db9f59b2487fbe0768</td>\n",
       "      <td>2023-10-09 00:00:02</td>\n",
       "      <td>Unable to get integration token</td>\n",
       "    </tr>\n",
       "    <tr>\n",
       "      <th>4</th>\n",
       "      <td>4f4830735dfc264fb40d1424e3e02bb2</td>\n",
       "      <td>2023-10-09 00:00:08</td>\n",
       "      <td>Pp3.Contracts.Dto.Contract.Action.ContractActi...</td>\n",
       "    </tr>\n",
       "    <tr>\n",
       "      <th>...</th>\n",
       "      <td>...</td>\n",
       "      <td>...</td>\n",
       "      <td>...</td>\n",
       "    </tr>\n",
       "    <tr>\n",
       "      <th>88850</th>\n",
       "      <td>954c4593de12c14c8a51a08ae24f2cdf</td>\n",
       "      <td>2023-10-16 13:30:06</td>\n",
       "      <td>Ошибка обработки запроса на регистрацию/измене...</td>\n",
       "    </tr>\n",
       "    <tr>\n",
       "      <th>88851</th>\n",
       "      <td>954c4593de12c14c8a51a08ae24f2cdf</td>\n",
       "      <td>2023-10-16 13:30:06</td>\n",
       "      <td>Ошибка обработки запроса на регистрацию/измене...</td>\n",
       "    </tr>\n",
       "    <tr>\n",
       "      <th>88852</th>\n",
       "      <td>c6a3630169618e449c4770842dfd8bcc</td>\n",
       "      <td>2023-10-16 13:30:06</td>\n",
       "      <td>Pp3.Contracts.Dto.Contract.Action.ContractActi...</td>\n",
       "    </tr>\n",
       "    <tr>\n",
       "      <th>88853</th>\n",
       "      <td>954c4593de12c14c8a51a08ae24f2cdf</td>\n",
       "      <td>2023-10-16 13:30:06</td>\n",
       "      <td>Ошибка обработки запроса на регистрацию/измене...</td>\n",
       "    </tr>\n",
       "    <tr>\n",
       "      <th>88854</th>\n",
       "      <td>a8c064cea3793cbc25117db42bfefc0d</td>\n",
       "      <td>2023-10-16 13:30:17</td>\n",
       "      <td>Unable to process command: 00fa120e-fbe0-4d7b-...</td>\n",
       "    </tr>\n",
       "  </tbody>\n",
       "</table>\n",
       "<p>88855 rows × 3 columns</p>\n",
       "</div>"
      ],
      "text/plain": [
       "                                     id          create_date  \\\n",
       "0      6424198940e01f33f8b596fa9fe7391c  2023-10-09 00:00:01   \n",
       "1      9851574021c269d401accc3a1381259a  2023-10-09 00:00:02   \n",
       "2      35f4f5fc4fdd12717347c2064729930e  2023-10-09 00:00:02   \n",
       "3      49f9dc2cb58ab8db9f59b2487fbe0768  2023-10-09 00:00:02   \n",
       "4      4f4830735dfc264fb40d1424e3e02bb2  2023-10-09 00:00:08   \n",
       "...                                 ...                  ...   \n",
       "88850  954c4593de12c14c8a51a08ae24f2cdf  2023-10-16 13:30:06   \n",
       "88851  954c4593de12c14c8a51a08ae24f2cdf  2023-10-16 13:30:06   \n",
       "88852  c6a3630169618e449c4770842dfd8bcc  2023-10-16 13:30:06   \n",
       "88853  954c4593de12c14c8a51a08ae24f2cdf  2023-10-16 13:30:06   \n",
       "88854  a8c064cea3793cbc25117db42bfefc0d  2023-10-16 13:30:17   \n",
       "\n",
       "                                                     log  \n",
       "0                        Unable to get integration token  \n",
       "1                        Unable to get integration token  \n",
       "2                        Unable to get integration token  \n",
       "3                        Unable to get integration token  \n",
       "4      Pp3.Contracts.Dto.Contract.Action.ContractActi...  \n",
       "...                                                  ...  \n",
       "88850  Ошибка обработки запроса на регистрацию/измене...  \n",
       "88851  Ошибка обработки запроса на регистрацию/измене...  \n",
       "88852  Pp3.Contracts.Dto.Contract.Action.ContractActi...  \n",
       "88853  Ошибка обработки запроса на регистрацию/измене...  \n",
       "88854  Unable to process command: 00fa120e-fbe0-4d7b-...  \n",
       "\n",
       "[88855 rows x 3 columns]"
      ]
     },
     "execution_count": 167,
     "metadata": {},
     "output_type": "execute_result"
    }
   ],
   "source": [
    "df"
   ]
  },
  {
   "cell_type": "code",
   "execution_count": 168,
   "id": "d97f2e72-814c-4b52-9a28-f649d068e1cb",
   "metadata": {},
   "outputs": [],
   "source": [
    "df['log'] = df['log'].apply(lambda x: '\\n'+x+'\\n')"
   ]
  },
  {
   "cell_type": "code",
   "execution_count": 169,
   "id": "e9118ee8-bf5e-42e6-bdcd-c49d5f780e96",
   "metadata": {},
   "outputs": [
    {
     "data": {
      "text/plain": [
       "40450"
      ]
     },
     "execution_count": 169,
     "metadata": {},
     "output_type": "execute_result"
    }
   ],
   "source": [
    "df.create_date.nunique()"
   ]
  },
  {
   "cell_type": "code",
   "execution_count": 170,
   "id": "568843e0-1138-4c93-b49b-23bf91d0e817",
   "metadata": {},
   "outputs": [],
   "source": [
    "df_time = df.groupby('create_date').sum()\n",
    "df_time.reset_index(inplace=True)"
   ]
  },
  {
   "cell_type": "code",
   "execution_count": 171,
   "id": "7914967e-1eb3-44a0-b9fa-ceecdb3de6bb",
   "metadata": {},
   "outputs": [
    {
     "data": {
      "text/html": [
       "<div>\n",
       "<style scoped>\n",
       "    .dataframe tbody tr th:only-of-type {\n",
       "        vertical-align: middle;\n",
       "    }\n",
       "\n",
       "    .dataframe tbody tr th {\n",
       "        vertical-align: top;\n",
       "    }\n",
       "\n",
       "    .dataframe thead th {\n",
       "        text-align: right;\n",
       "    }\n",
       "</style>\n",
       "<table border=\"1\" class=\"dataframe\">\n",
       "  <thead>\n",
       "    <tr style=\"text-align: right;\">\n",
       "      <th></th>\n",
       "      <th>create_date</th>\n",
       "      <th>id</th>\n",
       "      <th>log</th>\n",
       "    </tr>\n",
       "  </thead>\n",
       "  <tbody>\n",
       "    <tr>\n",
       "      <th>0</th>\n",
       "      <td>2023-10-09 00:00:01</td>\n",
       "      <td>6424198940e01f33f8b596fa9fe7391c</td>\n",
       "      <td>\\nUnable to get integration token\\n</td>\n",
       "    </tr>\n",
       "    <tr>\n",
       "      <th>1</th>\n",
       "      <td>2023-10-09 00:00:02</td>\n",
       "      <td>9851574021c269d401accc3a1381259a35f4f5fc4fdd12...</td>\n",
       "      <td>\\nUnable to get integration token\\n\\nUnable to...</td>\n",
       "    </tr>\n",
       "    <tr>\n",
       "      <th>2</th>\n",
       "      <td>2023-10-09 00:00:08</td>\n",
       "      <td>4f4830735dfc264fb40d1424e3e02bb2</td>\n",
       "      <td>\\nPp3.Contracts.Dto.Contract.Action.ContractAc...</td>\n",
       "    </tr>\n",
       "    <tr>\n",
       "      <th>3</th>\n",
       "      <td>2023-10-09 00:00:09</td>\n",
       "      <td>c3a26e908605084180b05f77c367a8a0adcef5d3170579...</td>\n",
       "      <td>\\nUnable to process OnFlushDirty interceptors\\...</td>\n",
       "    </tr>\n",
       "    <tr>\n",
       "      <th>4</th>\n",
       "      <td>2023-10-09 00:00:12</td>\n",
       "      <td>c8b405f9b3b53640b68f86bb1d2954104f4830735dfc26...</td>\n",
       "      <td>\\nОшибка обработки запроса на регистрацию/изме...</td>\n",
       "    </tr>\n",
       "    <tr>\n",
       "      <th>...</th>\n",
       "      <td>...</td>\n",
       "      <td>...</td>\n",
       "      <td>...</td>\n",
       "    </tr>\n",
       "    <tr>\n",
       "      <th>40445</th>\n",
       "      <td>2023-10-16 13:30:03</td>\n",
       "      <td>c6a3630169618e449c4770842dfd8bcc7c15735089bacd...</td>\n",
       "      <td>\\nPp3.Contracts.Dto.Contract.Action.ContractAc...</td>\n",
       "    </tr>\n",
       "    <tr>\n",
       "      <th>40446</th>\n",
       "      <td>2023-10-16 13:30:04</td>\n",
       "      <td>c6a3630169618e449c4770842dfd8bcc</td>\n",
       "      <td>\\nPp3.Contracts.Dto.Contract.Action.ContractAc...</td>\n",
       "    </tr>\n",
       "    <tr>\n",
       "      <th>40447</th>\n",
       "      <td>2023-10-16 13:30:05</td>\n",
       "      <td>c6a3630169618e449c4770842dfd8bcc</td>\n",
       "      <td>\\nPp3.Contracts.Dto.Contract.Action.ContractAc...</td>\n",
       "    </tr>\n",
       "    <tr>\n",
       "      <th>40448</th>\n",
       "      <td>2023-10-16 13:30:06</td>\n",
       "      <td>954c4593de12c14c8a51a08ae24f2cdf954c4593de12c1...</td>\n",
       "      <td>\\nОшибка обработки запроса на регистрацию/изме...</td>\n",
       "    </tr>\n",
       "    <tr>\n",
       "      <th>40449</th>\n",
       "      <td>2023-10-16 13:30:17</td>\n",
       "      <td>a8c064cea3793cbc25117db42bfefc0d</td>\n",
       "      <td>\\nUnable to process command: 00fa120e-fbe0-4d7...</td>\n",
       "    </tr>\n",
       "  </tbody>\n",
       "</table>\n",
       "<p>40450 rows × 3 columns</p>\n",
       "</div>"
      ],
      "text/plain": [
       "               create_date                                                 id  \\\n",
       "0      2023-10-09 00:00:01                   6424198940e01f33f8b596fa9fe7391c   \n",
       "1      2023-10-09 00:00:02  9851574021c269d401accc3a1381259a35f4f5fc4fdd12...   \n",
       "2      2023-10-09 00:00:08                   4f4830735dfc264fb40d1424e3e02bb2   \n",
       "3      2023-10-09 00:00:09  c3a26e908605084180b05f77c367a8a0adcef5d3170579...   \n",
       "4      2023-10-09 00:00:12  c8b405f9b3b53640b68f86bb1d2954104f4830735dfc26...   \n",
       "...                    ...                                                ...   \n",
       "40445  2023-10-16 13:30:03  c6a3630169618e449c4770842dfd8bcc7c15735089bacd...   \n",
       "40446  2023-10-16 13:30:04                   c6a3630169618e449c4770842dfd8bcc   \n",
       "40447  2023-10-16 13:30:05                   c6a3630169618e449c4770842dfd8bcc   \n",
       "40448  2023-10-16 13:30:06  954c4593de12c14c8a51a08ae24f2cdf954c4593de12c1...   \n",
       "40449  2023-10-16 13:30:17                   a8c064cea3793cbc25117db42bfefc0d   \n",
       "\n",
       "                                                     log  \n",
       "0                    \\nUnable to get integration token\\n  \n",
       "1      \\nUnable to get integration token\\n\\nUnable to...  \n",
       "2      \\nPp3.Contracts.Dto.Contract.Action.ContractAc...  \n",
       "3      \\nUnable to process OnFlushDirty interceptors\\...  \n",
       "4      \\nОшибка обработки запроса на регистрацию/изме...  \n",
       "...                                                  ...  \n",
       "40445  \\nPp3.Contracts.Dto.Contract.Action.ContractAc...  \n",
       "40446  \\nPp3.Contracts.Dto.Contract.Action.ContractAc...  \n",
       "40447  \\nPp3.Contracts.Dto.Contract.Action.ContractAc...  \n",
       "40448  \\nОшибка обработки запроса на регистрацию/изме...  \n",
       "40449  \\nUnable to process command: 00fa120e-fbe0-4d7...  \n",
       "\n",
       "[40450 rows x 3 columns]"
      ]
     },
     "execution_count": 171,
     "metadata": {},
     "output_type": "execute_result"
    }
   ],
   "source": [
    "df_time"
   ]
  },
  {
   "cell_type": "code",
   "execution_count": null,
   "id": "8b031ee2-ce6f-4bfb-9d31-045d955695b4",
   "metadata": {},
   "outputs": [],
   "source": []
  },
  {
   "cell_type": "code",
   "execution_count": 157,
   "id": "e2d27336-fe4d-4c60-8ba9-48180a0c2da3",
   "metadata": {},
   "outputs": [
    {
     "data": {
      "text/plain": [
       "\" Pp3.Contracts.Dto.Contract.Action.ContractActionException: Действие по автоматическому отказу не разрешено  Ошибка обработки запроса на регистрацию/изменение данных компании id: 21236398 type: 'Customer' \""
      ]
     },
     "execution_count": 157,
     "metadata": {},
     "output_type": "execute_result"
    }
   ],
   "source": [
    "df_time.log[40445]"
   ]
  },
  {
   "cell_type": "code",
   "execution_count": 156,
   "id": "e93fca21-bef5-4f15-954f-067f962e2a84",
   "metadata": {},
   "outputs": [
    {
     "data": {
      "text/html": [
       "<div>\n",
       "<style scoped>\n",
       "    .dataframe tbody tr th:only-of-type {\n",
       "        vertical-align: middle;\n",
       "    }\n",
       "\n",
       "    .dataframe tbody tr th {\n",
       "        vertical-align: top;\n",
       "    }\n",
       "\n",
       "    .dataframe thead th {\n",
       "        text-align: right;\n",
       "    }\n",
       "</style>\n",
       "<table border=\"1\" class=\"dataframe\">\n",
       "  <thead>\n",
       "    <tr style=\"text-align: right;\">\n",
       "      <th></th>\n",
       "      <th>id</th>\n",
       "      <th>create_date</th>\n",
       "      <th>log</th>\n",
       "    </tr>\n",
       "  </thead>\n",
       "  <tbody>\n",
       "    <tr>\n",
       "      <th>88846</th>\n",
       "      <td>c6a3630169618e449c4770842dfd8bcc</td>\n",
       "      <td>2023-10-16 13:30:03</td>\n",
       "      <td>Pp3.Contracts.Dto.Contract.Action.ContractAct...</td>\n",
       "    </tr>\n",
       "    <tr>\n",
       "      <th>88847</th>\n",
       "      <td>7c15735089bacd4bacf44b07f4d2969a</td>\n",
       "      <td>2023-10-16 13:30:03</td>\n",
       "      <td>Ошибка обработки запроса на регистрацию/измен...</td>\n",
       "    </tr>\n",
       "  </tbody>\n",
       "</table>\n",
       "</div>"
      ],
      "text/plain": [
       "                                     id          create_date  \\\n",
       "88846  c6a3630169618e449c4770842dfd8bcc  2023-10-16 13:30:03   \n",
       "88847  7c15735089bacd4bacf44b07f4d2969a  2023-10-16 13:30:03   \n",
       "\n",
       "                                                     log  \n",
       "88846   Pp3.Contracts.Dto.Contract.Action.ContractAct...  \n",
       "88847   Ошибка обработки запроса на регистрацию/измен...  "
      ]
     },
     "execution_count": 156,
     "metadata": {},
     "output_type": "execute_result"
    }
   ],
   "source": [
    "df[df.create_date == '2023-10-16 13:30:03']"
   ]
  },
  {
   "cell_type": "code",
   "execution_count": 172,
   "id": "a0170ee7-c9a0-4d99-aafe-8af15c42c992",
   "metadata": {},
   "outputs": [],
   "source": [
    "def text_without_url(text):\n",
    "    return re.sub(r'http\\S+', '', text)\n",
    "\n",
    "def text_lowercase(text):\n",
    "    return text.lower()\n",
    "\n",
    "def remove_punctuation(text):\n",
    "    res = re.sub(r'[^\\w\\s]', ' ', text)\n",
    "    return res\n",
    "\n",
    "def remove_whitespace(text):\n",
    "    return  \" \".join(text.split())\n",
    "\n",
    "eng_stop_words = set(stopwords.words('english') + stopwords.words('russian'))\n",
    "def remove_stopwords(text):\n",
    "    stop_words = eng_stop_words\n",
    "    filtered_text = [word for word in text.split(' ') if word not in stop_words] #after emogi\n",
    "    return \" \".join(filtered_text)"
   ]
  },
  {
   "cell_type": "code",
   "execution_count": 173,
   "id": "6c8ca99e-cc0b-4477-96df-ee923ac0a37e",
   "metadata": {},
   "outputs": [],
   "source": [
    "df_time['log'] = df_time['log'].apply(lambda x: text_without_url(x))\n",
    "df_time['log'] = df_time['log'].apply(lambda x: text_lowercase(x))\n",
    "df_time['log'] = df_time['log'].apply(lambda x: remove_punctuation(x))\n",
    "df_time['log'] = df_time['log'].apply(lambda x: remove_whitespace(x))\n",
    "df_time['log'] = df_time['log'].apply(lambda x: remove_stopwords(x))"
   ]
  },
  {
   "cell_type": "code",
   "execution_count": 174,
   "id": "57d4c41c-a9f9-4d88-9b17-f4f5d43714de",
   "metadata": {},
   "outputs": [
    {
     "data": {
      "text/html": [
       "<style>#sk-container-id-6 {color: black;background-color: white;}#sk-container-id-6 pre{padding: 0;}#sk-container-id-6 div.sk-toggleable {background-color: white;}#sk-container-id-6 label.sk-toggleable__label {cursor: pointer;display: block;width: 100%;margin-bottom: 0;padding: 0.3em;box-sizing: border-box;text-align: center;}#sk-container-id-6 label.sk-toggleable__label-arrow:before {content: \"▸\";float: left;margin-right: 0.25em;color: #696969;}#sk-container-id-6 label.sk-toggleable__label-arrow:hover:before {color: black;}#sk-container-id-6 div.sk-estimator:hover label.sk-toggleable__label-arrow:before {color: black;}#sk-container-id-6 div.sk-toggleable__content {max-height: 0;max-width: 0;overflow: hidden;text-align: left;background-color: #f0f8ff;}#sk-container-id-6 div.sk-toggleable__content pre {margin: 0.2em;color: black;border-radius: 0.25em;background-color: #f0f8ff;}#sk-container-id-6 input.sk-toggleable__control:checked~div.sk-toggleable__content {max-height: 200px;max-width: 100%;overflow: auto;}#sk-container-id-6 input.sk-toggleable__control:checked~label.sk-toggleable__label-arrow:before {content: \"▾\";}#sk-container-id-6 div.sk-estimator input.sk-toggleable__control:checked~label.sk-toggleable__label {background-color: #d4ebff;}#sk-container-id-6 div.sk-label input.sk-toggleable__control:checked~label.sk-toggleable__label {background-color: #d4ebff;}#sk-container-id-6 input.sk-hidden--visually {border: 0;clip: rect(1px 1px 1px 1px);clip: rect(1px, 1px, 1px, 1px);height: 1px;margin: -1px;overflow: hidden;padding: 0;position: absolute;width: 1px;}#sk-container-id-6 div.sk-estimator {font-family: monospace;background-color: #f0f8ff;border: 1px dotted black;border-radius: 0.25em;box-sizing: border-box;margin-bottom: 0.5em;}#sk-container-id-6 div.sk-estimator:hover {background-color: #d4ebff;}#sk-container-id-6 div.sk-parallel-item::after {content: \"\";width: 100%;border-bottom: 1px solid gray;flex-grow: 1;}#sk-container-id-6 div.sk-label:hover label.sk-toggleable__label {background-color: #d4ebff;}#sk-container-id-6 div.sk-serial::before {content: \"\";position: absolute;border-left: 1px solid gray;box-sizing: border-box;top: 0;bottom: 0;left: 50%;z-index: 0;}#sk-container-id-6 div.sk-serial {display: flex;flex-direction: column;align-items: center;background-color: white;padding-right: 0.2em;padding-left: 0.2em;position: relative;}#sk-container-id-6 div.sk-item {position: relative;z-index: 1;}#sk-container-id-6 div.sk-parallel {display: flex;align-items: stretch;justify-content: center;background-color: white;position: relative;}#sk-container-id-6 div.sk-item::before, #sk-container-id-6 div.sk-parallel-item::before {content: \"\";position: absolute;border-left: 1px solid gray;box-sizing: border-box;top: 0;bottom: 0;left: 50%;z-index: -1;}#sk-container-id-6 div.sk-parallel-item {display: flex;flex-direction: column;z-index: 1;position: relative;background-color: white;}#sk-container-id-6 div.sk-parallel-item:first-child::after {align-self: flex-end;width: 50%;}#sk-container-id-6 div.sk-parallel-item:last-child::after {align-self: flex-start;width: 50%;}#sk-container-id-6 div.sk-parallel-item:only-child::after {width: 0;}#sk-container-id-6 div.sk-dashed-wrapped {border: 1px dashed gray;margin: 0 0.4em 0.5em 0.4em;box-sizing: border-box;padding-bottom: 0.4em;background-color: white;}#sk-container-id-6 div.sk-label label {font-family: monospace;font-weight: bold;display: inline-block;line-height: 1.2em;}#sk-container-id-6 div.sk-label-container {text-align: center;}#sk-container-id-6 div.sk-container {/* jupyter's `normalize.less` sets `[hidden] { display: none; }` but bootstrap.min.css set `[hidden] { display: none !important; }` so we also need the `!important` here to be able to override the default hidden behavior on the sphinx rendered scikit-learn.org. See: https://github.com/scikit-learn/scikit-learn/issues/21755 */display: inline-block !important;position: relative;}#sk-container-id-6 div.sk-text-repr-fallback {display: none;}</style><div id=\"sk-container-id-6\" class=\"sk-top-container\"><div class=\"sk-text-repr-fallback\"><pre>TfidfVectorizer()</pre><b>In a Jupyter environment, please rerun this cell to show the HTML representation or trust the notebook. <br />On GitHub, the HTML representation is unable to render, please try loading this page with nbviewer.org.</b></div><div class=\"sk-container\" hidden><div class=\"sk-item\"><div class=\"sk-estimator sk-toggleable\"><input class=\"sk-toggleable__control sk-hidden--visually\" id=\"sk-estimator-id-6\" type=\"checkbox\" checked><label for=\"sk-estimator-id-6\" class=\"sk-toggleable__label sk-toggleable__label-arrow\">TfidfVectorizer</label><div class=\"sk-toggleable__content\"><pre>TfidfVectorizer()</pre></div></div></div></div></div>"
      ],
      "text/plain": [
       "TfidfVectorizer()"
      ]
     },
     "execution_count": 174,
     "metadata": {},
     "output_type": "execute_result"
    }
   ],
   "source": [
    "vec = TfidfVectorizer()\n",
    "vec.fit(df_time.log.values)"
   ]
  },
  {
   "cell_type": "code",
   "execution_count": 175,
   "id": "80671dc4-efaa-444d-83d4-9108c1ba34ab",
   "metadata": {},
   "outputs": [],
   "source": [
    "features = tfidf.transform(df_time.log.values)"
   ]
  },
  {
   "cell_type": "code",
   "execution_count": 176,
   "id": "f88f55b0-f938-4598-887f-21c3e121ee4d",
   "metadata": {},
   "outputs": [
    {
     "data": {
      "image/png": "[encoded data removed]",
      "text/plain": [
       "<Figure size 720x576 with 1 Axes>"
      ]
     },
     "metadata": {
      "needs_background": "light"
     },
     "output_type": "display_data"
    }
   ],
   "source": [
    "kmeans_results = []\n",
    "distances_sums = []\n",
    "MAX_K = 30\n",
    "k_values = list(range(1, MAX_K))\n",
    "\n",
    "for k in k_values:\n",
    "    kmeans = KMeans(n_clusters=k, max_iter=1000).fit(features)\n",
    "    kmeans_results.append(kmeans.labels_)\n",
    "    # Sum of squared distances of samples to their closest cluster center.     \n",
    "    distances_sums.append(kmeans.inertia_)\n",
    "\n",
    "plt.figure(figsize=(10,8))\n",
    "plt.rcParams.update({'font.size': 18})\n",
    "plt.plot(k_values, distances_sums)\n",
    "plt.xlabel(\"Количество кластеров\")\n",
    "plt.ylabel(\"Sum of squared distances\")\n",
    "plt.show()"
   ]
  },
  {
   "cell_type": "code",
   "execution_count": 178,
   "id": "4158cc07-c415-43ce-9949-56b0577317a6",
   "metadata": {},
   "outputs": [],
   "source": [
    "cls = MiniBatchKMeans(n_clusters=5, random_state=random_state)\n",
    "cls.fit(features)\n",
    "# predict cluster labels for new dataset\n",
    "cls.predict(features)\n",
    "\n",
    "# to get cluster labels for the dataset used while\n",
    "# training the model (used for models that does not\n",
    "# support prediction on new dataset).\n",
    "cls.labels_\n",
    "df_time['type'] = cls.labels_"
   ]
  },
  {
   "cell_type": "code",
   "execution_count": 182,
   "id": "5c280b4f-853d-408c-ba59-11749336f29f",
   "metadata": {},
   "outputs": [
    {
     "data": {
      "text/plain": [
       "array([1, 2, 4, 3, 0], dtype=int32)"
      ]
     },
     "execution_count": 182,
     "metadata": {},
     "output_type": "execute_result"
    }
   ],
   "source": [
    "df_time['type'].unique()"
   ]
  },
  {
   "cell_type": "code",
   "execution_count": 183,
   "id": "318cb8a7-5450-4892-958a-8edf3878f228",
   "metadata": {},
   "outputs": [
    {
     "name": "stdout",
     "output_type": "stream",
     "text": [
      "Class 0\n",
      "Class 0 count unique log = 2527\n",
      "Class 0 count log = 2527\n",
      "\n",
      "Class 1\n",
      "Class 1 count unique log = 4259\n",
      "Class 1 count log = 13557\n",
      "\n",
      "Class 2\n",
      "Class 2 count unique log = 94\n",
      "Class 2 count log = 3150\n",
      "\n",
      "Class 3\n",
      "Class 3 count unique log = 18832\n",
      "Class 3 count log = 18846\n",
      "\n",
      "Class 4\n",
      "Class 4 count unique log = 2369\n",
      "Class 4 count log = 2370\n",
      "\n"
     ]
    }
   ],
   "source": [
    "for i in range(5):\n",
    "    d = df_time[df_time['type'] == i]\n",
    "    print(f'Class {i}')\n",
    "    print(f'Class {i} count unique log = {d.log.nunique()}')\n",
    "    print(f'Class {i} count log = {len(d)}')\n",
    "    print()"
   ]
  },
  {
   "cell_type": "code",
   "execution_count": 185,
   "id": "37e6ded1-aa5e-462c-95ff-88290e3f78af",
   "metadata": {},
   "outputs": [
    {
     "data": {
      "text/html": [
       "<div>\n",
       "<style scoped>\n",
       "    .dataframe tbody tr th:only-of-type {\n",
       "        vertical-align: middle;\n",
       "    }\n",
       "\n",
       "    .dataframe tbody tr th {\n",
       "        vertical-align: top;\n",
       "    }\n",
       "\n",
       "    .dataframe thead th {\n",
       "        text-align: right;\n",
       "    }\n",
       "</style>\n",
       "<table border=\"1\" class=\"dataframe\">\n",
       "  <thead>\n",
       "    <tr style=\"text-align: right;\">\n",
       "      <th></th>\n",
       "      <th>create_date</th>\n",
       "      <th>id</th>\n",
       "      <th>log</th>\n",
       "      <th>type</th>\n",
       "    </tr>\n",
       "  </thead>\n",
       "  <tbody>\n",
       "    <tr>\n",
       "      <th>8408</th>\n",
       "      <td>2023-10-12 09:34:50</td>\n",
       "      <td>63188e8d3a0f7ab1197b30b35dba4fc9</td>\n",
       "      <td>данные могут обработаны причине данный пакет и...</td>\n",
       "      <td>0</td>\n",
       "    </tr>\n",
       "    <tr>\n",
       "      <th>11862</th>\n",
       "      <td>2023-10-15 00:12:52</td>\n",
       "      <td>f5f8831aa4169988892ffa89d3ecd377</td>\n",
       "      <td>данные могут проимпортированы причине ранее им...</td>\n",
       "      <td>0</td>\n",
       "    </tr>\n",
       "    <tr>\n",
       "      <th>11863</th>\n",
       "      <td>2023-10-15 00:13:21</td>\n",
       "      <td>7c73bb1ffac6d2201e0e6bab2249e0d5</td>\n",
       "      <td>данные могут проимпортированы причине ранее им...</td>\n",
       "      <td>0</td>\n",
       "    </tr>\n",
       "    <tr>\n",
       "      <th>11903</th>\n",
       "      <td>2023-10-15 00:21:18</td>\n",
       "      <td>ae463dee2c3ca29be11efe2abaf8d537</td>\n",
       "      <td>данные могут проимпортированы причине ранее им...</td>\n",
       "      <td>0</td>\n",
       "    </tr>\n",
       "    <tr>\n",
       "      <th>12385</th>\n",
       "      <td>2023-10-15 01:14:06</td>\n",
       "      <td>b9e95600a78bd2e7856b185a9f8b1abc</td>\n",
       "      <td>данные могут проимпортированы причине ранее им...</td>\n",
       "      <td>0</td>\n",
       "    </tr>\n",
       "    <tr>\n",
       "      <th>...</th>\n",
       "      <td>...</td>\n",
       "      <td>...</td>\n",
       "      <td>...</td>\n",
       "      <td>...</td>\n",
       "    </tr>\n",
       "    <tr>\n",
       "      <th>39694</th>\n",
       "      <td>2023-10-16 06:05:23</td>\n",
       "      <td>52d4d82edae31c1f364009084cd6a89f</td>\n",
       "      <td>данные могут обработаны причине ранее импортир...</td>\n",
       "      <td>0</td>\n",
       "    </tr>\n",
       "    <tr>\n",
       "      <th>39904</th>\n",
       "      <td>2023-10-16 08:13:43</td>\n",
       "      <td>254fd9d3150eddc292c9c182e3c9bb88</td>\n",
       "      <td>данные могут обработаны причине ранее импортир...</td>\n",
       "      <td>0</td>\n",
       "    </tr>\n",
       "    <tr>\n",
       "      <th>39947</th>\n",
       "      <td>2023-10-16 08:48:22</td>\n",
       "      <td>165b6dfb5acd2c47c414f0ac99eff64d</td>\n",
       "      <td>данные могут обработаны причине ранее импортир...</td>\n",
       "      <td>0</td>\n",
       "    </tr>\n",
       "    <tr>\n",
       "      <th>40116</th>\n",
       "      <td>2023-10-16 10:32:48</td>\n",
       "      <td>ab66a9f44b3022bbd3f66ce571cc6e0406aa59771b6490...</td>\n",
       "      <td>данные могут обработаны причине ранее импортир...</td>\n",
       "      <td>0</td>\n",
       "    </tr>\n",
       "    <tr>\n",
       "      <th>40128</th>\n",
       "      <td>2023-10-16 10:42:47</td>\n",
       "      <td>eda5d614e4538dcd2b874853f1b4aab2</td>\n",
       "      <td>данные могут обработаны причине ранее импортир...</td>\n",
       "      <td>0</td>\n",
       "    </tr>\n",
       "  </tbody>\n",
       "</table>\n",
       "<p>2527 rows × 4 columns</p>\n",
       "</div>"
      ],
      "text/plain": [
       "               create_date                                                 id  \\\n",
       "8408   2023-10-12 09:34:50                   63188e8d3a0f7ab1197b30b35dba4fc9   \n",
       "11862  2023-10-15 00:12:52                   f5f8831aa4169988892ffa89d3ecd377   \n",
       "11863  2023-10-15 00:13:21                   7c73bb1ffac6d2201e0e6bab2249e0d5   \n",
       "11903  2023-10-15 00:21:18                   ae463dee2c3ca29be11efe2abaf8d537   \n",
       "12385  2023-10-15 01:14:06                   b9e95600a78bd2e7856b185a9f8b1abc   \n",
       "...                    ...                                                ...   \n",
       "39694  2023-10-16 06:05:23                   52d4d82edae31c1f364009084cd6a89f   \n",
       "39904  2023-10-16 08:13:43                   254fd9d3150eddc292c9c182e3c9bb88   \n",
       "39947  2023-10-16 08:48:22                   165b6dfb5acd2c47c414f0ac99eff64d   \n",
       "40116  2023-10-16 10:32:48  ab66a9f44b3022bbd3f66ce571cc6e0406aa59771b6490...   \n",
       "40128  2023-10-16 10:42:47                   eda5d614e4538dcd2b874853f1b4aab2   \n",
       "\n",
       "                                                     log  type  \n",
       "8408   данные могут обработаны причине данный пакет и...     0  \n",
       "11862  данные могут проимпортированы причине ранее им...     0  \n",
       "11863  данные могут проимпортированы причине ранее им...     0  \n",
       "11903  данные могут проимпортированы причине ранее им...     0  \n",
       "12385  данные могут проимпортированы причине ранее им...     0  \n",
       "...                                                  ...   ...  \n",
       "39694  данные могут обработаны причине ранее импортир...     0  \n",
       "39904  данные могут обработаны причине ранее импортир...     0  \n",
       "39947  данные могут обработаны причине ранее импортир...     0  \n",
       "40116  данные могут обработаны причине ранее импортир...     0  \n",
       "40128  данные могут обработаны причине ранее импортир...     0  \n",
       "\n",
       "[2527 rows x 4 columns]"
      ]
     },
     "execution_count": 185,
     "metadata": {},
     "output_type": "execute_result"
    }
   ],
   "source": [
    "df_time[df_time['type'] == 0]"
   ]
  },
  {
   "cell_type": "code",
   "execution_count": 188,
   "id": "5bb52a29-3340-415a-8e8c-6eefe28cd4db",
   "metadata": {},
   "outputs": [
    {
     "data": {
      "text/plain": [
       "'данные могут обработаны причине ранее импортирована поздняя версия сущности packageguid 19001200c9312e00 17374 packagedatetime 16 10 2023 1 12 16 00 00 данные могут обработаны причине ранее импортирована поздняя версия сущности packageguid 2800070081951500 17430 packagedatetime 16 10 2023 1 12 16 00 00'"
      ]
     },
     "execution_count": 188,
     "metadata": {},
     "output_type": "execute_result"
    }
   ],
   "source": [
    "df_time.log[40116]"
   ]
  },
  {
   "cell_type": "code",
   "execution_count": 187,
   "id": "398b9de2-b4f8-45d1-a564-df6cd8b9f20f",
   "metadata": {},
   "outputs": [
    {
     "data": {
      "text/plain": [
       "'данные могут проимпортированы причине ранее импортирована поздняя версия сущности packageguid 36779048 packagedatetime 15 10 2023 1 12 59 03 00'"
      ]
     },
     "execution_count": 187,
     "metadata": {},
     "output_type": "execute_result"
    }
   ],
   "source": [
    "df_time.log[12385]"
   ]
  },
  {
   "cell_type": "code",
   "execution_count": 189,
   "id": "7ba08913-da66-4684-8b74-5ccd9aa4c22e",
   "metadata": {},
   "outputs": [
    {
     "data": {
      "text/html": [
       "<div>\n",
       "<style scoped>\n",
       "    .dataframe tbody tr th:only-of-type {\n",
       "        vertical-align: middle;\n",
       "    }\n",
       "\n",
       "    .dataframe tbody tr th {\n",
       "        vertical-align: top;\n",
       "    }\n",
       "\n",
       "    .dataframe thead th {\n",
       "        text-align: right;\n",
       "    }\n",
       "</style>\n",
       "<table border=\"1\" class=\"dataframe\">\n",
       "  <thead>\n",
       "    <tr style=\"text-align: right;\">\n",
       "      <th></th>\n",
       "      <th>create_date</th>\n",
       "      <th>id</th>\n",
       "      <th>log</th>\n",
       "      <th>type</th>\n",
       "    </tr>\n",
       "  </thead>\n",
       "  <tbody>\n",
       "    <tr>\n",
       "      <th>0</th>\n",
       "      <td>2023-10-09 00:00:01</td>\n",
       "      <td>6424198940e01f33f8b596fa9fe7391c</td>\n",
       "      <td>unable get integration token</td>\n",
       "      <td>1</td>\n",
       "    </tr>\n",
       "    <tr>\n",
       "      <th>1</th>\n",
       "      <td>2023-10-09 00:00:02</td>\n",
       "      <td>9851574021c269d401accc3a1381259a35f4f5fc4fdd12...</td>\n",
       "      <td>unable get integration token unable get integr...</td>\n",
       "      <td>1</td>\n",
       "    </tr>\n",
       "    <tr>\n",
       "      <th>3</th>\n",
       "      <td>2023-10-09 00:00:09</td>\n",
       "      <td>c3a26e908605084180b05f77c367a8a0adcef5d3170579...</td>\n",
       "      <td>unable process onflushdirty interceptors ошибк...</td>\n",
       "      <td>1</td>\n",
       "    </tr>\n",
       "    <tr>\n",
       "      <th>16</th>\n",
       "      <td>2023-10-09 00:00:28</td>\n",
       "      <td>4f4830735dfc264fb40d1424e3e02bb2d3f6b59fa65f31...</td>\n",
       "      <td>pp3 contracts dto contract action contractacti...</td>\n",
       "      <td>1</td>\n",
       "    </tr>\n",
       "    <tr>\n",
       "      <th>20</th>\n",
       "      <td>2023-10-09 00:00:44</td>\n",
       "      <td>362436dab7c4cb822dbc4e4e7a6996372349ce98e58d81...</td>\n",
       "      <td>unable get integration token unable get integr...</td>\n",
       "      <td>1</td>\n",
       "    </tr>\n",
       "    <tr>\n",
       "      <th>...</th>\n",
       "      <td>...</td>\n",
       "      <td>...</td>\n",
       "      <td>...</td>\n",
       "      <td>...</td>\n",
       "    </tr>\n",
       "    <tr>\n",
       "      <th>40441</th>\n",
       "      <td>2023-10-16 13:25:41</td>\n",
       "      <td>3b02808bb1663ef9804a4ff90136069f</td>\n",
       "      <td>unexpected error occured</td>\n",
       "      <td>1</td>\n",
       "    </tr>\n",
       "    <tr>\n",
       "      <th>40442</th>\n",
       "      <td>2023-10-16 13:28:07</td>\n",
       "      <td>105608a098ede2ebc78155639622b245</td>\n",
       "      <td>unable process command fbbb6e9e 13cc 45cd 8850...</td>\n",
       "      <td>1</td>\n",
       "    </tr>\n",
       "    <tr>\n",
       "      <th>40443</th>\n",
       "      <td>2023-10-16 13:28:57</td>\n",
       "      <td>28c3eb484c875e78dfac333424b138f12e34870cb9421a...</td>\n",
       "      <td>unexpected error occured unexpected error occured</td>\n",
       "      <td>1</td>\n",
       "    </tr>\n",
       "    <tr>\n",
       "      <th>40448</th>\n",
       "      <td>2023-10-16 13:30:06</td>\n",
       "      <td>954c4593de12c14c8a51a08ae24f2cdf954c4593de12c1...</td>\n",
       "      <td>ошибка обработки запроса регистрацию изменение...</td>\n",
       "      <td>1</td>\n",
       "    </tr>\n",
       "    <tr>\n",
       "      <th>40449</th>\n",
       "      <td>2023-10-16 13:30:17</td>\n",
       "      <td>a8c064cea3793cbc25117db42bfefc0d</td>\n",
       "      <td>unable process command 00fa120e fbe0 4d7b bce9...</td>\n",
       "      <td>1</td>\n",
       "    </tr>\n",
       "  </tbody>\n",
       "</table>\n",
       "<p>13557 rows × 4 columns</p>\n",
       "</div>"
      ],
      "text/plain": [
       "               create_date                                                 id  \\\n",
       "0      2023-10-09 00:00:01                   6424198940e01f33f8b596fa9fe7391c   \n",
       "1      2023-10-09 00:00:02  9851574021c269d401accc3a1381259a35f4f5fc4fdd12...   \n",
       "3      2023-10-09 00:00:09  c3a26e908605084180b05f77c367a8a0adcef5d3170579...   \n",
       "16     2023-10-09 00:00:28  4f4830735dfc264fb40d1424e3e02bb2d3f6b59fa65f31...   \n",
       "20     2023-10-09 00:00:44  362436dab7c4cb822dbc4e4e7a6996372349ce98e58d81...   \n",
       "...                    ...                                                ...   \n",
       "40441  2023-10-16 13:25:41                   3b02808bb1663ef9804a4ff90136069f   \n",
       "40442  2023-10-16 13:28:07                   105608a098ede2ebc78155639622b245   \n",
       "40443  2023-10-16 13:28:57  28c3eb484c875e78dfac333424b138f12e34870cb9421a...   \n",
       "40448  2023-10-16 13:30:06  954c4593de12c14c8a51a08ae24f2cdf954c4593de12c1...   \n",
       "40449  2023-10-16 13:30:17                   a8c064cea3793cbc25117db42bfefc0d   \n",
       "\n",
       "                                                     log  type  \n",
       "0                           unable get integration token     1  \n",
       "1      unable get integration token unable get integr...     1  \n",
       "3      unable process onflushdirty interceptors ошибк...     1  \n",
       "16     pp3 contracts dto contract action contractacti...     1  \n",
       "20     unable get integration token unable get integr...     1  \n",
       "...                                                  ...   ...  \n",
       "40441                           unexpected error occured     1  \n",
       "40442  unable process command fbbb6e9e 13cc 45cd 8850...     1  \n",
       "40443  unexpected error occured unexpected error occured     1  \n",
       "40448  ошибка обработки запроса регистрацию изменение...     1  \n",
       "40449  unable process command 00fa120e fbe0 4d7b bce9...     1  \n",
       "\n",
       "[13557 rows x 4 columns]"
      ]
     },
     "execution_count": 189,
     "metadata": {},
     "output_type": "execute_result"
    }
   ],
   "source": [
    "df_time[df_time['type'] == 1]"
   ]
  },
  {
   "cell_type": "code",
   "execution_count": null,
   "id": "2b657e55-d1ec-43b4-95f8-0711275d5977",
   "metadata": {},
   "outputs": [],
   "source": [
    "const1 = 'unable get integration token' # в один токен"
   ]
  },
  {
   "cell_type": "code",
   "execution_count": 190,
   "id": "511164b2-fd61-4beb-8c2f-9db58204d4f9",
   "metadata": {},
   "outputs": [
    {
     "data": {
      "text/plain": [
       "'unable get integration token unable get integration token unable get integration token'"
      ]
     },
     "execution_count": 190,
     "metadata": {},
     "output_type": "execute_result"
    }
   ],
   "source": [
    "df_time.log[1]"
   ]
  },
  {
   "cell_type": "code",
   "execution_count": 192,
   "id": "70c17dbc-699a-4e54-8d2c-cae840d424e6",
   "metadata": {},
   "outputs": [
    {
     "data": {
      "text/plain": [
       "'ошибка обработки запроса регистрацию изменение данных компании id 23264576 type customer ошибка обработки запроса регистрацию изменение данных компании id 23285587 type customer pp3 contracts dto contract action contractactionexception действие автоматическому отказу разрешено ошибка обработки запроса регистрацию изменение данных компании id 23300770 type customer'"
      ]
     },
     "execution_count": 192,
     "metadata": {},
     "output_type": "execute_result"
    }
   ],
   "source": [
    "df_time.log[40448]"
   ]
  },
  {
   "cell_type": "code",
   "execution_count": 194,
   "id": "b1f06ef6-b68c-4e4c-97c0-ada3207e7fe5",
   "metadata": {},
   "outputs": [
    {
     "data": {
      "text/plain": [
       "'unable process command 00fa120e fbe0 4d7b bce9 72df19669ab3 type 0870d7a4 aa2e 45e7 88e5 69976aa8c3a5'"
      ]
     },
     "execution_count": 194,
     "metadata": {},
     "output_type": "execute_result"
    }
   ],
   "source": [
    "df_time.log[40449]"
   ]
  },
  {
   "cell_type": "code",
   "execution_count": null,
   "id": "3bd1f62d-0308-4924-80ee-51916bc89675",
   "metadata": {},
   "outputs": [],
   "source": []
  }
 ],
 "metadata": {
  "kernelspec": {
   "display_name": "Python 3",
   "language": "python",
   "name": "python3"
  },
  "language_info": {
   "codemirror_mode": {
    "name": "ipython",
    "version": 3
   },
   "file_extension": ".py",
   "mimetype": "text/x-python",
   "name": "python",
   "nbconvert_exporter": "python",
   "pygments_lexer": "ipython3",
   "version": "3.9.13"
  }
 },
 "nbformat": 4,
 "nbformat_minor": 5
}
